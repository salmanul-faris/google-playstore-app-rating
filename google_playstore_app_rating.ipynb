{
 "cells": [
  {
   "cell_type": "markdown",
   "metadata": {},
   "source": [
    "  # Objective\n",
    "    Google Play Store team is about to launch a new feature where in certain apps that are promising are boosted in visibility. The boost will manifest in multiple ways – higher priority in recommendations sections (“Similar apps”, “You might also like”, “New and updated games”). These will also get a boost in visibility in search results. This feature will help bring more attention to newer apps that have potential.\n",
    "\n",
    "    The task is to understand what makes an app perform well - size? price? category? multiple factors together? Analyze the data and present your insights in a format consumable by business – the final output of the analysis would be presented to business as insights with supporting data/visualizations."
   ]
  },
  {
   "cell_type": "markdown",
   "metadata": {},
   "source": [
    "# Import Library and Data"
   ]
  },
  {
   "cell_type": "code",
   "execution_count": 144,
   "metadata": {},
   "outputs": [],
   "source": [
    "import pandas as pd\n",
    "import numpy as np\n",
    "import seaborn as sns\n",
    "import matplotlib.pyplot as plt\n",
    "%matplotlib inline\n",
    "color = sns.color_palette()\n",
    "\n",
    "import warnings\n",
    "\n",
    "warnings.filterwarnings('ignore')\n",
    "sns.set_style('whitegrid')"
   ]
  },
  {
   "cell_type": "code",
   "execution_count": 87,
   "metadata": {},
   "outputs": [
    {
     "data": {
      "text/html": [
       "<div>\n",
       "<style scoped>\n",
       "    .dataframe tbody tr th:only-of-type {\n",
       "        vertical-align: middle;\n",
       "    }\n",
       "\n",
       "    .dataframe tbody tr th {\n",
       "        vertical-align: top;\n",
       "    }\n",
       "\n",
       "    .dataframe thead th {\n",
       "        text-align: right;\n",
       "    }\n",
       "</style>\n",
       "<table border=\"1\" class=\"dataframe\">\n",
       "  <thead>\n",
       "    <tr style=\"text-align: right;\">\n",
       "      <th></th>\n",
       "      <th>App</th>\n",
       "      <th>Category</th>\n",
       "      <th>Rating</th>\n",
       "      <th>Reviews</th>\n",
       "      <th>Size</th>\n",
       "      <th>Installs</th>\n",
       "      <th>Type</th>\n",
       "      <th>Price</th>\n",
       "      <th>Content Rating</th>\n",
       "      <th>Genres</th>\n",
       "      <th>Last Updated</th>\n",
       "      <th>Current Ver</th>\n",
       "      <th>Android Ver</th>\n",
       "    </tr>\n",
       "  </thead>\n",
       "  <tbody>\n",
       "    <tr>\n",
       "      <th>0</th>\n",
       "      <td>Photo Editor &amp; Candy Camera &amp; Grid &amp; ScrapBook</td>\n",
       "      <td>ART_AND_DESIGN</td>\n",
       "      <td>4.1</td>\n",
       "      <td>159</td>\n",
       "      <td>19000.0</td>\n",
       "      <td>10,000+</td>\n",
       "      <td>Free</td>\n",
       "      <td>0</td>\n",
       "      <td>Everyone</td>\n",
       "      <td>Art &amp; Design</td>\n",
       "      <td>January 7, 2018</td>\n",
       "      <td>1.0.0</td>\n",
       "      <td>4.0.3 and up</td>\n",
       "    </tr>\n",
       "    <tr>\n",
       "      <th>1</th>\n",
       "      <td>Coloring book moana</td>\n",
       "      <td>ART_AND_DESIGN</td>\n",
       "      <td>3.9</td>\n",
       "      <td>967</td>\n",
       "      <td>14000.0</td>\n",
       "      <td>500,000+</td>\n",
       "      <td>Free</td>\n",
       "      <td>0</td>\n",
       "      <td>Everyone</td>\n",
       "      <td>Art &amp; Design;Pretend Play</td>\n",
       "      <td>January 15, 2018</td>\n",
       "      <td>2.0.0</td>\n",
       "      <td>4.0.3 and up</td>\n",
       "    </tr>\n",
       "    <tr>\n",
       "      <th>2</th>\n",
       "      <td>U Launcher Lite – FREE Live Cool Themes, Hide ...</td>\n",
       "      <td>ART_AND_DESIGN</td>\n",
       "      <td>4.7</td>\n",
       "      <td>87510</td>\n",
       "      <td>8700.0</td>\n",
       "      <td>5,000,000+</td>\n",
       "      <td>Free</td>\n",
       "      <td>0</td>\n",
       "      <td>Everyone</td>\n",
       "      <td>Art &amp; Design</td>\n",
       "      <td>August 1, 2018</td>\n",
       "      <td>1.2.4</td>\n",
       "      <td>4.0.3 and up</td>\n",
       "    </tr>\n",
       "    <tr>\n",
       "      <th>3</th>\n",
       "      <td>Sketch - Draw &amp; Paint</td>\n",
       "      <td>ART_AND_DESIGN</td>\n",
       "      <td>4.5</td>\n",
       "      <td>215644</td>\n",
       "      <td>25000.0</td>\n",
       "      <td>50,000,000+</td>\n",
       "      <td>Free</td>\n",
       "      <td>0</td>\n",
       "      <td>Teen</td>\n",
       "      <td>Art &amp; Design</td>\n",
       "      <td>June 8, 2018</td>\n",
       "      <td>Varies with device</td>\n",
       "      <td>4.2 and up</td>\n",
       "    </tr>\n",
       "    <tr>\n",
       "      <th>4</th>\n",
       "      <td>Pixel Draw - Number Art Coloring Book</td>\n",
       "      <td>ART_AND_DESIGN</td>\n",
       "      <td>4.3</td>\n",
       "      <td>967</td>\n",
       "      <td>2800.0</td>\n",
       "      <td>100,000+</td>\n",
       "      <td>Free</td>\n",
       "      <td>0</td>\n",
       "      <td>Everyone</td>\n",
       "      <td>Art &amp; Design;Creativity</td>\n",
       "      <td>June 20, 2018</td>\n",
       "      <td>1.1</td>\n",
       "      <td>4.4 and up</td>\n",
       "    </tr>\n",
       "  </tbody>\n",
       "</table>\n",
       "</div>"
      ],
      "text/plain": [
       "                                                 App        Category  Rating  \\\n",
       "0     Photo Editor & Candy Camera & Grid & ScrapBook  ART_AND_DESIGN     4.1   \n",
       "1                                Coloring book moana  ART_AND_DESIGN     3.9   \n",
       "2  U Launcher Lite – FREE Live Cool Themes, Hide ...  ART_AND_DESIGN     4.7   \n",
       "3                              Sketch - Draw & Paint  ART_AND_DESIGN     4.5   \n",
       "4              Pixel Draw - Number Art Coloring Book  ART_AND_DESIGN     4.3   \n",
       "\n",
       "  Reviews     Size     Installs  Type Price Content Rating  \\\n",
       "0     159  19000.0      10,000+  Free     0       Everyone   \n",
       "1     967  14000.0     500,000+  Free     0       Everyone   \n",
       "2   87510   8700.0   5,000,000+  Free     0       Everyone   \n",
       "3  215644  25000.0  50,000,000+  Free     0           Teen   \n",
       "4     967   2800.0     100,000+  Free     0       Everyone   \n",
       "\n",
       "                      Genres      Last Updated         Current Ver  \\\n",
       "0               Art & Design   January 7, 2018               1.0.0   \n",
       "1  Art & Design;Pretend Play  January 15, 2018               2.0.0   \n",
       "2               Art & Design    August 1, 2018               1.2.4   \n",
       "3               Art & Design      June 8, 2018  Varies with device   \n",
       "4    Art & Design;Creativity     June 20, 2018                 1.1   \n",
       "\n",
       "    Android Ver  \n",
       "0  4.0.3 and up  \n",
       "1  4.0.3 and up  \n",
       "2  4.0.3 and up  \n",
       "3    4.2 and up  \n",
       "4    4.4 and up  "
      ]
     },
     "execution_count": 87,
     "metadata": {},
     "output_type": "execute_result"
    }
   ],
   "source": [
    "data = pd.read_csv('C:/Users/salma/Downloads/__MACOSX/playstore-analysis(2).csv')\n",
    "data.head()"
   ]
  },
  {
   "cell_type": "code",
   "execution_count": 88,
   "metadata": {},
   "outputs": [
    {
     "name": "stdout",
     "output_type": "stream",
     "text": [
      "<class 'pandas.core.frame.DataFrame'>\n",
      "RangeIndex: 10841 entries, 0 to 10840\n",
      "Data columns (total 13 columns):\n",
      " #   Column          Non-Null Count  Dtype  \n",
      "---  ------          --------------  -----  \n",
      " 0   App             10841 non-null  object \n",
      " 1   Category        10841 non-null  object \n",
      " 2   Rating          9367 non-null   float64\n",
      " 3   Reviews         10841 non-null  object \n",
      " 4   Size            10841 non-null  float64\n",
      " 5   Installs        10841 non-null  object \n",
      " 6   Type            10840 non-null  object \n",
      " 7   Price           10841 non-null  object \n",
      " 8   Content Rating  10840 non-null  object \n",
      " 9   Genres          10841 non-null  object \n",
      " 10  Last Updated    10841 non-null  object \n",
      " 11  Current Ver     10833 non-null  object \n",
      " 12  Android Ver     10838 non-null  object \n",
      "dtypes: float64(2), object(11)\n",
      "memory usage: 1.1+ MB\n"
     ]
    }
   ],
   "source": [
    "data.info()"
   ]
  },
  {
   "cell_type": "code",
   "execution_count": 1,
   "metadata": {},
   "outputs": [],
   "source": [
    "#sEVERAL MISSING VALUES AT \"Rating\""
   ]
  },
  {
   "cell_type": "code",
   "execution_count": 89,
   "metadata": {},
   "outputs": [
    {
     "data": {
      "text/html": [
       "<div>\n",
       "<style scoped>\n",
       "    .dataframe tbody tr th:only-of-type {\n",
       "        vertical-align: middle;\n",
       "    }\n",
       "\n",
       "    .dataframe tbody tr th {\n",
       "        vertical-align: top;\n",
       "    }\n",
       "\n",
       "    .dataframe thead th {\n",
       "        text-align: right;\n",
       "    }\n",
       "</style>\n",
       "<table border=\"1\" class=\"dataframe\">\n",
       "  <thead>\n",
       "    <tr style=\"text-align: right;\">\n",
       "      <th></th>\n",
       "      <th>Rating</th>\n",
       "      <th>Size</th>\n",
       "    </tr>\n",
       "  </thead>\n",
       "  <tbody>\n",
       "    <tr>\n",
       "      <th>count</th>\n",
       "      <td>9367.000000</td>\n",
       "      <td>10841.000000</td>\n",
       "    </tr>\n",
       "    <tr>\n",
       "      <th>mean</th>\n",
       "      <td>4.193338</td>\n",
       "      <td>21516.529524</td>\n",
       "    </tr>\n",
       "    <tr>\n",
       "      <th>std</th>\n",
       "      <td>0.537431</td>\n",
       "      <td>20746.537567</td>\n",
       "    </tr>\n",
       "    <tr>\n",
       "      <th>min</th>\n",
       "      <td>1.000000</td>\n",
       "      <td>8.500000</td>\n",
       "    </tr>\n",
       "    <tr>\n",
       "      <th>25%</th>\n",
       "      <td>4.000000</td>\n",
       "      <td>5900.000000</td>\n",
       "    </tr>\n",
       "    <tr>\n",
       "      <th>50%</th>\n",
       "      <td>4.300000</td>\n",
       "      <td>18000.000000</td>\n",
       "    </tr>\n",
       "    <tr>\n",
       "      <th>75%</th>\n",
       "      <td>4.500000</td>\n",
       "      <td>26000.000000</td>\n",
       "    </tr>\n",
       "    <tr>\n",
       "      <th>max</th>\n",
       "      <td>19.000000</td>\n",
       "      <td>100000.000000</td>\n",
       "    </tr>\n",
       "  </tbody>\n",
       "</table>\n",
       "</div>"
      ],
      "text/plain": [
       "            Rating           Size\n",
       "count  9367.000000   10841.000000\n",
       "mean      4.193338   21516.529524\n",
       "std       0.537431   20746.537567\n",
       "min       1.000000       8.500000\n",
       "25%       4.000000    5900.000000\n",
       "50%       4.300000   18000.000000\n",
       "75%       4.500000   26000.000000\n",
       "max      19.000000  100000.000000"
      ]
     },
     "execution_count": 89,
     "metadata": {},
     "output_type": "execute_result"
    }
   ],
   "source": [
    "data.describe()"
   ]
  },
  {
   "cell_type": "markdown",
   "metadata": {},
   "source": [
    "# TASKS"
   ]
  },
  {
   "cell_type": "markdown",
   "metadata": {},
   "source": [
    "# 1.Data Clean up– Missing value treatment"
   ]
  },
  {
   "cell_type": "markdown",
   "metadata": {},
   "source": [
    "a. Drop records where rating is missing since rating is our target/study variable"
   ]
  },
  {
   "cell_type": "code",
   "execution_count": 90,
   "metadata": {},
   "outputs": [
    {
     "name": "stdout",
     "output_type": "stream",
     "text": [
      "Missing Values :\n",
      "App                  0\n",
      "Category             0\n",
      "Rating            1474\n",
      "Reviews              0\n",
      "Size                 0\n",
      "Installs             0\n",
      "Type                 1\n",
      "Price                0\n",
      "Content Rating       1\n",
      "Genres               0\n",
      "Last Updated         0\n",
      "Current Ver          8\n",
      "Android Ver          3\n",
      "dtype: int64\n"
     ]
    }
   ],
   "source": [
    "print(f\"Missing Values :\\n{data.isnull().sum()}\") #Finding the null values"
   ]
  },
  {
   "cell_type": "raw",
   "metadata": {},
   "source": [
    "It was found that in column \"Rating\" 1474 values are missing. \n",
    "We drop missing values in Rating colmn"
   ]
  },
  {
   "cell_type": "code",
   "execution_count": 91,
   "metadata": {},
   "outputs": [],
   "source": [
    "data1=data.dropna(subset=['Rating'])"
   ]
  },
  {
   "cell_type": "code",
   "execution_count": 92,
   "metadata": {},
   "outputs": [
    {
     "name": "stdout",
     "output_type": "stream",
     "text": [
      "Missing Values :\n",
      "App               0\n",
      "Category          0\n",
      "Rating            0\n",
      "Reviews           0\n",
      "Size              0\n",
      "Installs          0\n",
      "Type              0\n",
      "Price             0\n",
      "Content Rating    1\n",
      "Genres            0\n",
      "Last Updated      0\n",
      "Current Ver       4\n",
      "Android Ver       3\n",
      "dtype: int64\n"
     ]
    }
   ],
   "source": [
    "print(f\"Missing Values :\\n{data1.isnull().sum()}\")"
   ]
  },
  {
   "cell_type": "markdown",
   "metadata": {},
   "source": [
    "b. Check the null values for the Android Ver column."
   ]
  },
  {
   "cell_type": "code",
   "execution_count": 93,
   "metadata": {},
   "outputs": [
    {
     "name": "stdout",
     "output_type": "stream",
     "text": [
      "Missing Values in Android Ver:\n",
      "3\n"
     ]
    }
   ],
   "source": [
    "print(f\"Missing Values in Android Ver:\\n{data1['Android Ver'].isnull().sum()}\")"
   ]
  },
  {
   "cell_type": "code",
   "execution_count": 94,
   "metadata": {},
   "outputs": [
    {
     "name": "stdout",
     "output_type": "stream",
     "text": [
      "                                           App            Category  Rating  \\\n",
      "15             Learn To Draw Kawaii Characters      ART_AND_DESIGN     3.2   \n",
      "1553                      Market Update Helper  LIBRARIES_AND_DEMO     4.1   \n",
      "4453                    [substratum] Vacuum: P     PERSONALIZATION     4.4   \n",
      "4490                      Pi Dark [substratum]     PERSONALIZATION     4.5   \n",
      "6322                    Virtual DJ Sound Mixer               TOOLS     4.2   \n",
      "7333                               Dots puzzle              FAMILY     4.0   \n",
      "10472  Life Made WI-Fi Touchscreen Photo Frame                 1.9    19.0   \n",
      "\n",
      "      Reviews         Size    Installs  Type     Price Content Rating  \\\n",
      "15         55   2700.00000      5,000+  Free         0       Everyone   \n",
      "1553    20145     11.00000  1,000,000+  Free         0       Everyone   \n",
      "4453      230  11000.00000      1,000+  Paid     $1.49       Everyone   \n",
      "4490      189   2100.00000     10,000+  Free         0       Everyone   \n",
      "6322     4010   8700.00000    500,000+  Free         0       Everyone   \n",
      "7333      179  14000.00000     50,000+  Paid     $0.99       Everyone   \n",
      "10472    3.0M  21516.52952        Free     0  Everyone            NaN   \n",
      "\n",
      "                  Genres       Last Updated Current Ver Android Ver  \n",
      "15          Art & Design       June 6, 2018         NaN  4.2 and up  \n",
      "1553    Libraries & Demo  February 12, 2013         NaN  1.5 and up  \n",
      "4453     Personalization      July 20, 2018         4.4         NaN  \n",
      "4490     Personalization     March 27, 2018         1.1         NaN  \n",
      "6322               Tools       May 10, 2017         NaN  4.0 and up  \n",
      "7333              Puzzle     April 18, 2018         NaN  4.0 and up  \n",
      "10472  February 11, 2018             1.0.19  4.0 and up         NaN  \n"
     ]
    }
   ],
   "source": [
    "print (data1[data1.isna().any(axis=1)])"
   ]
  },
  {
   "cell_type": "markdown",
   "metadata": {},
   "source": [
    " i. Are all 3 records having the same problem?\n",
    "   \n",
    "   YES\n"
   ]
  },
  {
   "cell_type": "markdown",
   "metadata": {},
   "source": [
    "ii. Drop the 3rd record i.e. record for “Life Made WIFI …”"
   ]
  },
  {
   "cell_type": "code",
   "execution_count": 95,
   "metadata": {},
   "outputs": [
    {
     "name": "stdout",
     "output_type": "stream",
     "text": [
      "Empty DataFrame\n",
      "Columns: [App, Category, Rating, Reviews, Size, Installs, Type, Price, Content Rating, Genres, Last Updated, Current Ver, Android Ver]\n",
      "Index: []\n"
     ]
    }
   ],
   "source": [
    "\n",
    "data2 = data1.drop(10472)\n",
    "# Verification for double checking\n",
    "corrected = data2[data2[\"App\"]=='Life Made WI-Fi Touchscreen Photo Frame']\n",
    "print (corrected)"
   ]
  },
  {
   "cell_type": "raw",
   "metadata": {},
   "source": [
    "So here we successfully droped 'Life Made WI-Fi Touchscreen Photo Frame' as in output we found an empty dataframe."
   ]
  },
  {
   "cell_type": "code",
   "execution_count": 101,
   "metadata": {},
   "outputs": [
    {
     "data": {
      "text/html": [
       "<div>\n",
       "<style scoped>\n",
       "    .dataframe tbody tr th:only-of-type {\n",
       "        vertical-align: middle;\n",
       "    }\n",
       "\n",
       "    .dataframe tbody tr th {\n",
       "        vertical-align: top;\n",
       "    }\n",
       "\n",
       "    .dataframe thead th {\n",
       "        text-align: right;\n",
       "    }\n",
       "</style>\n",
       "<table border=\"1\" class=\"dataframe\">\n",
       "  <thead>\n",
       "    <tr style=\"text-align: right;\">\n",
       "      <th></th>\n",
       "      <th>App</th>\n",
       "      <th>Category</th>\n",
       "      <th>Rating</th>\n",
       "      <th>Reviews</th>\n",
       "      <th>Size</th>\n",
       "      <th>Installs</th>\n",
       "      <th>Type</th>\n",
       "      <th>Price</th>\n",
       "      <th>Content Rating</th>\n",
       "      <th>Genres</th>\n",
       "      <th>Last Updated</th>\n",
       "      <th>Current Ver</th>\n",
       "      <th>Android Ver</th>\n",
       "    </tr>\n",
       "  </thead>\n",
       "  <tbody>\n",
       "    <tr>\n",
       "      <th>0</th>\n",
       "      <td>Photo Editor &amp; Candy Camera &amp; Grid &amp; ScrapBook</td>\n",
       "      <td>ART_AND_DESIGN</td>\n",
       "      <td>4.1</td>\n",
       "      <td>159</td>\n",
       "      <td>19000.00000</td>\n",
       "      <td>10,000+</td>\n",
       "      <td>Free</td>\n",
       "      <td>0</td>\n",
       "      <td>Everyone</td>\n",
       "      <td>Art &amp; Design</td>\n",
       "      <td>January 7, 2018</td>\n",
       "      <td>1.0.0</td>\n",
       "      <td>4.0.3 and up</td>\n",
       "    </tr>\n",
       "    <tr>\n",
       "      <th>1</th>\n",
       "      <td>Coloring book moana</td>\n",
       "      <td>ART_AND_DESIGN</td>\n",
       "      <td>3.9</td>\n",
       "      <td>967</td>\n",
       "      <td>14000.00000</td>\n",
       "      <td>500,000+</td>\n",
       "      <td>Free</td>\n",
       "      <td>0</td>\n",
       "      <td>Everyone</td>\n",
       "      <td>Art &amp; Design;Pretend Play</td>\n",
       "      <td>January 15, 2018</td>\n",
       "      <td>2.0.0</td>\n",
       "      <td>4.0.3 and up</td>\n",
       "    </tr>\n",
       "    <tr>\n",
       "      <th>2</th>\n",
       "      <td>U Launcher Lite – FREE Live Cool Themes, Hide ...</td>\n",
       "      <td>ART_AND_DESIGN</td>\n",
       "      <td>4.7</td>\n",
       "      <td>87510</td>\n",
       "      <td>8700.00000</td>\n",
       "      <td>5,000,000+</td>\n",
       "      <td>Free</td>\n",
       "      <td>0</td>\n",
       "      <td>Everyone</td>\n",
       "      <td>Art &amp; Design</td>\n",
       "      <td>August 1, 2018</td>\n",
       "      <td>1.2.4</td>\n",
       "      <td>4.0.3 and up</td>\n",
       "    </tr>\n",
       "    <tr>\n",
       "      <th>3</th>\n",
       "      <td>Sketch - Draw &amp; Paint</td>\n",
       "      <td>ART_AND_DESIGN</td>\n",
       "      <td>4.5</td>\n",
       "      <td>215644</td>\n",
       "      <td>25000.00000</td>\n",
       "      <td>50,000,000+</td>\n",
       "      <td>Free</td>\n",
       "      <td>0</td>\n",
       "      <td>Teen</td>\n",
       "      <td>Art &amp; Design</td>\n",
       "      <td>June 8, 2018</td>\n",
       "      <td>Varies with device</td>\n",
       "      <td>4.2 and up</td>\n",
       "    </tr>\n",
       "    <tr>\n",
       "      <th>4</th>\n",
       "      <td>Pixel Draw - Number Art Coloring Book</td>\n",
       "      <td>ART_AND_DESIGN</td>\n",
       "      <td>4.3</td>\n",
       "      <td>967</td>\n",
       "      <td>2800.00000</td>\n",
       "      <td>100,000+</td>\n",
       "      <td>Free</td>\n",
       "      <td>0</td>\n",
       "      <td>Everyone</td>\n",
       "      <td>Art &amp; Design;Creativity</td>\n",
       "      <td>June 20, 2018</td>\n",
       "      <td>1.1</td>\n",
       "      <td>4.4 and up</td>\n",
       "    </tr>\n",
       "    <tr>\n",
       "      <th>...</th>\n",
       "      <td>...</td>\n",
       "      <td>...</td>\n",
       "      <td>...</td>\n",
       "      <td>...</td>\n",
       "      <td>...</td>\n",
       "      <td>...</td>\n",
       "      <td>...</td>\n",
       "      <td>...</td>\n",
       "      <td>...</td>\n",
       "      <td>...</td>\n",
       "      <td>...</td>\n",
       "      <td>...</td>\n",
       "      <td>...</td>\n",
       "    </tr>\n",
       "    <tr>\n",
       "      <th>10834</th>\n",
       "      <td>FR Calculator</td>\n",
       "      <td>FAMILY</td>\n",
       "      <td>4.0</td>\n",
       "      <td>7</td>\n",
       "      <td>2600.00000</td>\n",
       "      <td>500+</td>\n",
       "      <td>Free</td>\n",
       "      <td>0</td>\n",
       "      <td>Everyone</td>\n",
       "      <td>Education</td>\n",
       "      <td>June 18, 2017</td>\n",
       "      <td>1.0.0</td>\n",
       "      <td>4.1 and up</td>\n",
       "    </tr>\n",
       "    <tr>\n",
       "      <th>10836</th>\n",
       "      <td>Sya9a Maroc - FR</td>\n",
       "      <td>FAMILY</td>\n",
       "      <td>4.5</td>\n",
       "      <td>38</td>\n",
       "      <td>53000.00000</td>\n",
       "      <td>5,000+</td>\n",
       "      <td>Free</td>\n",
       "      <td>0</td>\n",
       "      <td>Everyone</td>\n",
       "      <td>Education</td>\n",
       "      <td>July 25, 2017</td>\n",
       "      <td>1.48</td>\n",
       "      <td>4.1 and up</td>\n",
       "    </tr>\n",
       "    <tr>\n",
       "      <th>10837</th>\n",
       "      <td>Fr. Mike Schmitz Audio Teachings</td>\n",
       "      <td>FAMILY</td>\n",
       "      <td>5.0</td>\n",
       "      <td>4</td>\n",
       "      <td>3600.00000</td>\n",
       "      <td>100+</td>\n",
       "      <td>Free</td>\n",
       "      <td>0</td>\n",
       "      <td>Everyone</td>\n",
       "      <td>Education</td>\n",
       "      <td>July 6, 2018</td>\n",
       "      <td>1</td>\n",
       "      <td>4.1 and up</td>\n",
       "    </tr>\n",
       "    <tr>\n",
       "      <th>10839</th>\n",
       "      <td>The SCP Foundation DB fr nn5n</td>\n",
       "      <td>BOOKS_AND_REFERENCE</td>\n",
       "      <td>4.5</td>\n",
       "      <td>114</td>\n",
       "      <td>21516.52952</td>\n",
       "      <td>1,000+</td>\n",
       "      <td>Free</td>\n",
       "      <td>0</td>\n",
       "      <td>Mature 17+</td>\n",
       "      <td>Books &amp; Reference</td>\n",
       "      <td>January 19, 2015</td>\n",
       "      <td>Varies with device</td>\n",
       "      <td>Varies with device</td>\n",
       "    </tr>\n",
       "    <tr>\n",
       "      <th>10840</th>\n",
       "      <td>iHoroscope - 2018 Daily Horoscope &amp; Astrology</td>\n",
       "      <td>LIFESTYLE</td>\n",
       "      <td>4.5</td>\n",
       "      <td>398307</td>\n",
       "      <td>19000.00000</td>\n",
       "      <td>10,000,000+</td>\n",
       "      <td>Free</td>\n",
       "      <td>0</td>\n",
       "      <td>Everyone</td>\n",
       "      <td>Lifestyle</td>\n",
       "      <td>July 25, 2018</td>\n",
       "      <td>Varies with device</td>\n",
       "      <td>Varies with device</td>\n",
       "    </tr>\n",
       "  </tbody>\n",
       "</table>\n",
       "<p>9366 rows × 13 columns</p>\n",
       "</div>"
      ],
      "text/plain": [
       "                                                     App             Category  \\\n",
       "0         Photo Editor & Candy Camera & Grid & ScrapBook       ART_AND_DESIGN   \n",
       "1                                    Coloring book moana       ART_AND_DESIGN   \n",
       "2      U Launcher Lite – FREE Live Cool Themes, Hide ...       ART_AND_DESIGN   \n",
       "3                                  Sketch - Draw & Paint       ART_AND_DESIGN   \n",
       "4                  Pixel Draw - Number Art Coloring Book       ART_AND_DESIGN   \n",
       "...                                                  ...                  ...   \n",
       "10834                                      FR Calculator               FAMILY   \n",
       "10836                                   Sya9a Maroc - FR               FAMILY   \n",
       "10837                   Fr. Mike Schmitz Audio Teachings               FAMILY   \n",
       "10839                      The SCP Foundation DB fr nn5n  BOOKS_AND_REFERENCE   \n",
       "10840      iHoroscope - 2018 Daily Horoscope & Astrology            LIFESTYLE   \n",
       "\n",
       "       Rating Reviews         Size     Installs  Type Price Content Rating  \\\n",
       "0         4.1     159  19000.00000      10,000+  Free     0       Everyone   \n",
       "1         3.9     967  14000.00000     500,000+  Free     0       Everyone   \n",
       "2         4.7   87510   8700.00000   5,000,000+  Free     0       Everyone   \n",
       "3         4.5  215644  25000.00000  50,000,000+  Free     0           Teen   \n",
       "4         4.3     967   2800.00000     100,000+  Free     0       Everyone   \n",
       "...       ...     ...          ...          ...   ...   ...            ...   \n",
       "10834     4.0       7   2600.00000         500+  Free     0       Everyone   \n",
       "10836     4.5      38  53000.00000       5,000+  Free     0       Everyone   \n",
       "10837     5.0       4   3600.00000         100+  Free     0       Everyone   \n",
       "10839     4.5     114  21516.52952       1,000+  Free     0     Mature 17+   \n",
       "10840     4.5  398307  19000.00000  10,000,000+  Free     0       Everyone   \n",
       "\n",
       "                          Genres      Last Updated         Current Ver  \\\n",
       "0                   Art & Design   January 7, 2018               1.0.0   \n",
       "1      Art & Design;Pretend Play  January 15, 2018               2.0.0   \n",
       "2                   Art & Design    August 1, 2018               1.2.4   \n",
       "3                   Art & Design      June 8, 2018  Varies with device   \n",
       "4        Art & Design;Creativity     June 20, 2018                 1.1   \n",
       "...                          ...               ...                 ...   \n",
       "10834                  Education     June 18, 2017               1.0.0   \n",
       "10836                  Education     July 25, 2017                1.48   \n",
       "10837                  Education      July 6, 2018                   1   \n",
       "10839          Books & Reference  January 19, 2015  Varies with device   \n",
       "10840                  Lifestyle     July 25, 2018  Varies with device   \n",
       "\n",
       "              Android Ver  \n",
       "0            4.0.3 and up  \n",
       "1            4.0.3 and up  \n",
       "2            4.0.3 and up  \n",
       "3              4.2 and up  \n",
       "4              4.4 and up  \n",
       "...                   ...  \n",
       "10834          4.1 and up  \n",
       "10836          4.1 and up  \n",
       "10837          4.1 and up  \n",
       "10839  Varies with device  \n",
       "10840  Varies with device  \n",
       "\n",
       "[9366 rows x 13 columns]"
      ]
     },
     "execution_count": 101,
     "metadata": {},
     "output_type": "execute_result"
    }
   ],
   "source": [
    "data2"
   ]
  },
  {
   "cell_type": "markdown",
   "metadata": {},
   "source": [
    "iii. Replace remaining missing values with the mode."
   ]
  },
  {
   "cell_type": "code",
   "execution_count": 111,
   "metadata": {},
   "outputs": [
    {
     "name": "stdout",
     "output_type": "stream",
     "text": [
      "['4.0.3 and up', '4.0.3 and up', '4.0.3 and up', '4.2 and up', '4.4 and up', '2.3 and up', '4.0.3 and up', '4.2 and up', '3.0 and up', '4.0.3 and up', '4.1 and up', '4.0 and up', '4.1 and up', '4.4 and up', '2.3 and up', '4.2 and up', '4.1 and up', '2.3 and up', '4.0.3 and up', '4.1 and up', '4.1 and up', '4.0.3 and up', '4.0.3 and up', '4.1 and up', '3.0 and up', '4.0.3 and up', '4.0.3 and up', '2.3 and up', '2.3 and up', '4.0.3 and up', '2.3 and up', '4.0 and up', '4.1 and up', '4.1 and up', '4.1 and up', '4.4 and up', '2.3.3 and up', '4.0.3 and up', '4.0 and up', '4.0.3 and up', '4.0.3 and up', 'Varies with device', '4.1 and up', '4.1 and up', '4.1 and up', '4.1 and up', '4.1 and up', '2.3 and up', '4.0.3 and up', '4.1 and up', '4.1 and up', 'Varies with device', '4.1 and up', '4.1 and up', '4.0 and up', '4.4 and up', '4.1 and up', '2.2 and up', '4.4 and up', '4.0.3 and up', '4.2 and up', '4.1 and up', '4.0 and up', '4.2 and up', '4.4 and up', '2.3 and up', 'Varies with device', 'Varies with device', '4.0.3 and up', '4.0.3 and up', '4.2 and up', '5.0 and up', '2.3.3 and up', '4.0 and up', '4.0 and up', '4.1 and up', '4.0 and up', '4.1 and up', '4.1 and up', '6.0 and up', '4.2 and up', '5.0 and up', '4.0.3 and up', '4.4 and up', 'Varies with device', '2.3 and up', '4.0.3 and up', 'Varies with device', 'Varies with device', '4.1 and up', '4.0.3 and up', '4.0.3 and up', '4.0.3 and up', '4.0.3 and up', '4.0 and up', '4.0.3 and up', '4.0 and up', '5.0 and up', '4.1 and up', '4.1 and up', '4.0.3 and up', 'Varies with device', '4.1 and up', '4.0.3 and up', '4.0 and up', '4.2 and up', '5.0 and up', '4.0.3 and up', 'Varies with device', '4.0 and up', '4.0 and up', '4.0.3 and up', '4.0.3 and up', '4.0.3 and up', '4.0.3 and up', 'Varies with device', '4.0 and up', '4.0 and up', '4.0.3 and up', '4.0 and up', '5.0 and up', '4.0.3 and up', '4.0 and up', '4.1 and up', '4.0 and up', '4.0.3 and up', '4.0.3 and up', '1.6 and up', '4.0.3 and up', '4.0 and up', '4.0.3 and up', '4.0.3 and up', 'Varies with device', '4.4 and up', '4.0 and up', 'Varies with device', 'Varies with device', '1.5 and up', 'Varies with device', 'Varies with device', '4.1 and up', '4.0 and up', 'Varies with device', '4.0 and up', '4.0.3 and up', 'Varies with device', '2.3 and up', '4.0.3 and up', '4.1 and up', '4.0.3 and up', 'Varies with device', '4.1 and up', '4.1 and up', '2.3 and up', '4.1 and up', 'Varies with device', '4.0 and up', '4.0 and up', '4.1 and up', '4.0.3 and up', '3.0 and up', '4.0.3 and up', '2.1 and up', '4.4 and up', 'Varies with device', '7.0 and up', '4.0 and up', '4.0.3 and up', '4.0.3 and up', '3.0 and up', '3.0 and up', 'Varies with device', '4.0 and up', '4.2 and up', '4.0.3 and up', '2.2 and up', '4.2 and up', 'Varies with device', 'Varies with device', 'Varies with device', '5.0 and up', 'Varies with device', 'Varies with device', '4.4 and up', '4.1 and up', '4.0.3 and up', '5.0 and up', '4.1 and up', '4.1 and up', '4.0.3 and up', '1.5 and up', 'Varies with device', 'Varies with device', '4.3 and up', 'Varies with device', '4.1 and up', '4.0 and up', 'Varies with device', 'Varies with device', '2.2 and up', '4.1 and up', 'Varies with device', '4.1 and up', '4.0 and up', 'Varies with device', '4.1 and up', '4.0 and up', '4.1 and up', '4.2 and up', '4.0 and up', '4.0 and up', '4.0.3 and up', '4.0.3 and up', '2.2 and up', '4.0.3 and up', '7.0 and up', 'Varies with device', 'Varies with device', '4.0.3 and up', 'Varies with device', '3.0 and up', '4.1 and up', '4.1 and up', '4.0 and up', '3.0 and up', 'Varies with device', '4.1 and up', '4.0.3 and up', '4.4 and up', 'Varies with device', '4.2 and up', '5.0 and up', '4.1 and up', '4.1 and up', 'Varies with device', '5.0 and up', '4.0.3 and up', '5.0 and up', '4.4 and up', '4.0 and up', '4.1 and up', '4.1 and up', '4.4 and up', '4.1 and up', '4.3 and up', '4.0 and up', '5.0 and up', '4.4 and up', 'Varies with device', '4.0.3 and up', '4.4 and up', '4.0 and up', '5.0 and up', 'Varies with device', 'Varies with device', '4.1 and up', '4.0.3 and up', '4.4 and up', 'Varies with device', '4.2 and up', '5.0 and up', '4.1 and up', '4.1 and up', 'Varies with device', '5.0 and up', '4.0.3 and up', '5.0 and up', '4.4 and up', '4.0 and up', '4.1 and up', '4.1 and up', '4.4 and up', '4.1 and up', 'Varies with device', '4.0.3 and up', 'Varies with device', '3.0 and up', '4.1 and up', '4.1 and up', '4.0 and up', '3.0 and up', 'Varies with device', '4.1 and up', 'Varies with device', '5.0 and up', '4.1 and up', 'Varies with device', '4.1 and up', '4.1 and up', '4.0.3 and up', '4.4 and up', '4.1 and up', '4.1 and up', '5.0 and up', '4.0 and up', '2.3 and up', '4.0.3 and up', '4.2 and up', '4.0.3 and up', '4.0.3 and up', '4.0.3 and up', '4.0.3 and up', '4.0.3 and up', '4.1 and up', 'Varies with device', '4.2 and up', '4.4 and up', '4.4 and up', '4.0 and up', 'Varies with device', '4.1 and up', '4.1 and up', '5.0 and up', '4.0.3 and up', '4.1 and up', 'Varies with device', '4.0 and up', '4.0.3 and up', '2.3 and up', '4.0.3 and up', '4.0.3 and up', '4.0 and up', '4.4 and up', 'Varies with device', 'Varies with device', '4.1 and up', 'Varies with device', '2.3 and up', 'Varies with device', 'Varies with device', 'Varies with device', '4.4 and up', 'Varies with device', '4.4 and up', '4.0 and up', '4.0 and up', '5.0 and up', '4.1 and up', '4.0.3 - 7.1.1', 'Varies with device', '4.0.3 - 7.1.1', 'Varies with device', 'Varies with device', '4.1 and up', 'Varies with device', '4.1 and up', '5.0 and up', 'Varies with device', 'Varies with device', 'Varies with device', '4.0.3 and up', 'Varies with device', '4.0.3 and up', 'Varies with device', '4.0 and up', '4.0.3 and up', '5.0 and up', 'Varies with device', 'Varies with device', '4.4 and up', '4.1 and up', 'Varies with device', '4.1 and up', 'Varies with device', 'Varies with device', '4.0.3 and up', '4.0 and up', '4.3 and up', '4.4 and up', 'Varies with device', 'Varies with device', '4.0 and up', '4.0.3 and up', 'Varies with device', 'Varies with device', '4.2 and up', '4.0 and up', '4.4 and up', 'Varies with device', 'Varies with device', 'Varies with device', 'Varies with device', 'Varies with device', '4.0 and up', 'Varies with device', '2.3 and up', '2.3 and up', 'Varies with device', '4.0.3 and up', '4.1 and up', 'Varies with device', 'Varies with device', 'Varies with device', '4.0.3 and up', '4.0.3 and up', 'Varies with device', '5.0 and up', '4.0 and up', '4.1 and up', 'Varies with device', 'Varies with device', '4.0 and up', '4.1 and up', 'Varies with device', '2.3 and up', 'Varies with device', 'Varies with device', '4.0 and up', '4.0 and up', '4.0.3 and up', 'Varies with device', '4.0 and up', '4.0 and up', '4.0 and up', '3.0 and up', '4.1 and up', '4.0.3 and up', '2.1 and up', '4.0 and up', 'Varies with device', '4.0 and up', '4.0 and up', '4.0.3 and up', '5.0 and up', '4.0.3 and up', '5.0 and up', '4.0 and up', '2.1 and up', '4.1 and up', '4.1 and up', 'Varies with device', 'Varies with device', '4.1 and up', 'Varies with device', '4.0.3 and up', '4.1 and up', 'Varies with device', 'Varies with device', '2.3 and up', 'Varies with device', '4.4 and up', '4.0.3 and up', 'Varies with device', '4.1 and up', '4.1 and up', '5.0 and up', '2.0 and up', 'Varies with device', '2.2 and up', '4.0 and up', 'Varies with device', 'Varies with device', 'Varies with device', '4.0 and up', '4.4 and up', 'Varies with device', 'Varies with device', 'Varies with device', '2.3.3 and up', '4.0.3 and up', 'Varies with device', 'Varies with device', 'Varies with device', 'Varies with device', '4.1 and up', '4.0 and up', '4.0 and up', 'Varies with device', '4.1 and up', 'Varies with device', '4.1 and up', '5.0 and up', '4.1 and up', '4.1 and up', '4.1 and up', '4.4 and up', 'Varies with device', '4.1 and up', '4.0 and up', '4.4 and up', '4.1 and up', '4.4 and up', '4.1 and up', '4.1 and up', '4.1 and up', 'Varies with device', '4.2 and up', '4.1 and up', '4.1 and up', '4.4 and up', '4.1 and up', '4.4 and up', '4.1 and up', 'Varies with device', '4.0.3 and up', '4.2 and up', '4.0.3 and up', '4.0.3 and up', '4.4 and up', '4.0 and up', '4.1 and up', '4.0.3 and up', '4.1 and up', '5.0 and up', '4.4 and up', '4.0.3 and up', '4.1 and up', '5.0 and up', '4.1 and up', '4.0 and up', '4.0.3 and up', '4.0 and up', '4.1 and up', '4.0.3 and up', '4.0 and up', '4.0.3 and up', '4.2 and up', 'Varies with device', '4.1 and up', '4.0.3 and up', '4.0.3 and up', '5.0 and up', '4.0 and up', '4.1 and up', '4.1 and up', '4.1 and up', '4.1 and up', '4.1 and up', '4.4 and up', '4.1 and up', '5.0 and up', '4.4 and up', '4.1 and up', '4.1 and up', '4.0.3 and up', '4.1 and up', '4.1 and up', '4.1 and up', 'Varies with device', '5.0 and up', '5.0 and up', '4.1 and up', '4.0.3 and up', '4.0.3 and up', '4.2 and up', '4.4 and up', 'Varies with device', '4.1 and up', '4.2 and up', '4.1 and up', '4.1 and up', '4.1 and up', '4.3 and up', '4.1 and up', '4.0.3 and up', '4.1 and up', '4.1 and up', '4.0.3 and up', '4.1 and up', 'Varies with device', '4.0.3 and up', '4.1 and up', '4.1 and up', '4.2 and up', '4.0.3 and up', '4.1 and up', '4.0.3 and up', '4.1 and up', '4.2 and up', '4.1 and up', '4.1 and up', '4.0.3 and up', '4.1 and up', '4.0.3 and up', '4.1 and up', '4.0 and up', '4.1 and up', '4.0.3 and up', '4.1 and up', '4.1 and up', '4.0.3 and up', '4.0.3 and up', '4.0.3 and up', '4.2 and up', '4.0 and up', '4.1 and up', '4.0 and up', '4.4 and up', '4.3 and up', '4.0.3 and up', '4.0.3 and up', '4.0.3 and up', '4.0.3 and up', '4.0.3 and up', '4.0.3 and up', '4.4 and up', '4.0.3 and up', '4.0.3 and up', '4.4 and up', '4.0.3 and up', '4.0.3 and up', '4.0.3 and up', '4.1 and up', '4.0.3 and up', '4.0.3 and up', '4.0.3 and up', '4.0.3 and up', '4.0.3 and up', '4.0.3 and up', '4.0 and up', '4.1 and up', '4.1 and up', '5.0 and up', '4.0.3 and up', '4.0.3 and up', '4.2 and up', '5.0 and up', '4.1 and up', '4.3 and up', '4.4 and up', '4.4 and up', 'Varies with device', '4.0.3 and up', '4.0.3 and up', '4.0.3 and up', '4.1 and up', '4.0.3 and up', '4.4 and up', '4.1 and up', '4.4 and up', '4.1 and up', '4.0.3 and up', '4.0.3 and up', '4.0.3 and up', '4.1 and up', '4.0.3 and up', '4.0.3 and up', '4.0.3 and up', '4.0.3 and up', '4.0.3 and up', '4.0 and up', '4.4 and up', '4.0.3 and up', '4.0 and up', '4.1 and up', '4.1 and up', '4.2 and up', '4.0.3 and up', 'Varies with device', '4.1 and up', '4.0 and up', '4.1 and up', '4.0 and up', '4.0 and up', '4.0 and up', '4.0.3 and up', '4.0 and up', '4.0 and up', '4.1 and up', '4.1 and up', '4.2 and up', 'Varies with device', 'Varies with device', '4.0 and up', '4.0 and up', '4.4 and up', '4.0 and up', '2.3 and up', '4.1 and up', '5.0 and up', '1.6 and up', '4.4 and up', 'Varies with device', '4.0.3 and up', '2.3 and up', '4.2 and up', '4.4 and up', '2.3 and up', '4.1 and up', '4.1 and up', '2.3 and up', '4.1 and up', 'Varies with device', '4.0.3 and up', '4.1 and up', 'Varies with device', '4.1 and up', '4.1 and up', 'Varies with device', '5.0 and up', 'Varies with device', '4.1 and up', 'Varies with device', '4.0.3 and up', 'Varies with device', '5.0 and up', '4.1 and up', '4.1 and up', 'Varies with device', 'Varies with device', '4.0 and up', '2.3 and up', '2.3 and up', '2.3 and up', '5.0 and up', '5.0 and up', '4.0 and up', 'Varies with device', '4.0 and up', '4.0 and up', '4.0 and up', '4.1 and up', '4.0 and up', '4.4 and up', '4.1 and up', '4.4 and up', '2.2 and up', '2.3.3 and up', '2.1 and up', 'Varies with device', '2.3.3 and up', '4.0 and up', 'Varies with device', '2.1 and up', '4.1 and up', 'Varies with device', '4.0 and up', 'Varies with device', 'Varies with device', 'Varies with device', '4.1 and up', '4.1 and up', 'Varies with device', 'Varies with device', 'Varies with device', '5.0 and up', '5.0 and up', '4.1 and up', '5.0 and up', 'Varies with device', '4.1 and up', 'Varies with device', 'Varies with device', '4.4 and up', '4.4 and up', 'Varies with device', '4.1 and up', 'Varies with device', '4.0 and up', '5.0 and up', '4.4 and up', '4.2 and up', '4.1 and up', '4.0 and up', 'Varies with device', '4.0 and up', '5.0 and up', 'Varies with device', '2.3 and up', '4.0.3 and up', '4.0 and up', '2.3 and up', 'Varies with device', '4.0.3 and up', '2.3 and up', '4.0 and up', 'Varies with device', 'Varies with device', '4.0.3 and up', '3.2 and up', '4.4 and up', 'Varies with device', 'Varies with device', '4.1 and up', 'Varies with device', '3.0 and up', '4.0 and up', '4.1 and up', '4.2 and up', '5.0 and up', 'Varies with device', '4.4 and up', '3.0 and up', '5.0 and up', 'Varies with device', '4.4 and up', 'Varies with device', 'Varies with device', '4.1 and up', '4.0 and up', 'Varies with device', '4.1 and up', '4.1 and up', 'Varies with device', '5.0 and up', '5.0 and up', '4.0.3 and up', '4.1 and up', '4.1 and up', '4.0.3 and up', '4.1 and up', '4.4 and up', '4.4 and up', 'Varies with device', '4.0.3 and up', 'Varies with device', '4.1 and up', '4.1 and up', '5.0 and up', 'Varies with device', '6.0 and up', '4.2 and up', '4.0.3 and up', 'Varies with device', 'Varies with device', 'Varies with device', '4.0 and up', 'Varies with device', '2.3.3 and up', '4.0.3 and up', '4.1 and up', 'Varies with device', '4.1 and up', 'Varies with device', '4.2 and up', '4.2 and up', 'Varies with device', '4.1 and up', '4.1 and up', '4.1 and up', '4.0.3 and up', '4.4 and up', '4.1 and up', 'Varies with device', '4.1 and up', '4.4 and up', 'Varies with device', 'Varies with device', '4.3 and up', '4.1 and up', '4.1 and up', '4.1 and up', 'Varies with device', '4.2 and up', '5.0 and up', 'Varies with device', '4.4 and up', 'Varies with device', '6.0 and up', '4.1 and up', '5.0 and up', 'Varies with device', 'Varies with device', 'Varies with device', 'Varies with device', '4.1 and up', 'Varies with device', '4.4 and up', 'Varies with device', '4.1 and up', 'Varies with device', '4.1 and up', 'Varies with device', '4.4 and up', '4.4 and up', '4.4 and up', '4.4 and up', '4.4 and up', '4.4 and up', '4.4 and up', '4.4 and up', '5.0 and up', 'Varies with device', 'Varies with device', 'Varies with device', '4.4 and up', '4.0.3 and up', '4.4 and up', 'Varies with device', 'Varies with device', '4.1 and up', 'Varies with device', 'Varies with device', 'Varies with device', '4.1 and up', '4.4 and up', '5.0 and up', '4.4 and up', '4.4 and up', '4.4 and up', '4.1 and up', '4.4 and up', 'Varies with device', '4.1 and up', '4.4 and up', '4.4 and up', '4.4 and up', '4.4 and up', '4.4 and up', '4.4 and up', '5.0 and up', '4.1 and up', 'Varies with device', 'Varies with device', '4.4 and up', '4.4 and up', 'Varies with device', '4.1 and up', 'Varies with device', 'Varies with device', 'Varies with device', '4.4 and up', 'Varies with device', '5.0 and up', 'Varies with device', '4.4 and up', '4.4 and up', 'Varies with device', '4.4 and up', 'Varies with device', '4.4 and up', '5.0 and up', 'Varies with device', 'Varies with device', '4.3 and up', '4.4 and up', '4.4 and up', 'Varies with device', '4.4 and up', '4.4 and up', '4.4 and up', '4.4 and up', '4.4 and up', '4.4 and up', '4.4 and up', '4.2 and up', 'Varies with device', 'Varies with device', '6.0 and up', '4.0.3 and up', '4.4 and up', 'Varies with device', '5.0 and up', 'Varies with device', 'Varies with device', '4.0 and up', '2.3.3 and up', '2.3 and up', '5.0 and up', '4.1 and up', '4.0.3 and up', 'Varies with device', '4.0.3 and up', 'Varies with device', '4.1 and up', '4.1 and up', 'Varies with device', '4.1 and up', '4.0 and up', '5.0 and up', '4.2 and up', '5.0 and up', 'Varies with device', '4.2 and up', '4.1 and up', '4.0 and up', '4.0 and up', '5.0 and up', '4.2 and up', 'Varies with device', '2.3.3 and up', 'Varies with device', '2.3.3 and up', '4.4 and up', '4.1 and up', '2.0 and up', '4.1 and up', 'Varies with device', '4.2 and up', '4.0 and up', '4.4 and up', '4.0.3 and up', '5.0 and up', '4.1 and up', '4.2 and up', '4.2 and up', 'Varies with device', '5.0 and up', 'Varies with device', '4.2 and up', '4.0.3 and up', '4.2 and up', '4.1 and up', 'Varies with device', '4.0 and up', 'Varies with device', '4.2 and up', 'Varies with device', 'Varies with device', '4.1 and up', '5.0 and up', '4.0.3 and up', '4.0.3 and up', 'Varies with device', 'Varies with device', 'Varies with device', '4.0.3 and up', '4.0.3 and up', '4.2 and up', '4.4 and up', '5.0 and up', 'Varies with device', '4.1 and up', '4.4 and up', '5.0 and up', '4.0 and up', '4.2 and up', '4.0 and up', '4.1 and up', '4.1 and up', 'Varies with device', '4.0 and up', '4.4 and up', 'Varies with device', 'Varies with device', '4.1 and up', '4.4W and up', 'Varies with device', '5.0 and up', '5.0 and up', '4.1 and up', '4.4 and up', 'Varies with device', 'Varies with device', 'Varies with device', '4.0 and up', 'Varies with device', '5.0 and up', '4.1 and up', '4.0 and up', '5.0 and up', '5.0 and up', 'Varies with device', '4.1 and up', '4.4 and up', '4.4 and up', '4.2 and up', '4.0 and up', '4.4 and up', '4.4 and up', '4.4 and up', 'Varies with device', '5.0 and up', '4.1 and up', 'Varies with device', '4.0.3 and up', '6.0 and up', '4.0.3 and up', '4.4 and up', '4.4 and up', '5.0 and up', '2.3.3 and up', 'Varies with device', 'Varies with device', '4.0 and up', 'Varies with device', '4.1 and up', 'Varies with device', 'Varies with device', 'Varies with device', '2.3 and up', 'Varies with device', '4.4 and up', 'Varies with device', '4.2 and up', 'Varies with device', '2.1 and up', 'Varies with device', '4.0 and up', '4.1 and up', 'Varies with device', 'Varies with device', '4.4 and up', 'Varies with device', '4.4 and up', 'Varies with device', 'Varies with device', '5.0 and up', '4.1 and up', '4.1 and up', '4.4 and up', '4.4 and up', '5.0 and up', '4.4 and up', '4.1 and up', '4.4 and up', '4.4 and up', '4.0.3 and up', '4.2 and up', '5.0 and up', 'Varies with device', '5.0 and up', '4.4 and up', '5.0 and up', '4.1 and up', '5.0 and up', '5.0 and up', '5.0 and up', '4.4 and up', '4.1 and up', '5.0 and up', 'Varies with device', '5.0 and up', '4.4 and up', '5.0 and up', '4.1 and up', '4.0.3 and up', 'Varies with device', '4.0.3 and up', 'Varies with device', '4.4 and up', '4.0.3 and up', '4.0.3 and up', '4.1 and up', '4.4 and up', '4.4 and up', '4.2 and up', '4.0 and up', '5.0 and up', '5.0 and up', '5.0 and up', '4.0.3 and up', '4.4 and up', '4.0.3 and up', 'Varies with device', '4.1 and up', 'Varies with device', '4.0.3 and up', 'Varies with device', 'Varies with device', '4.0.3 and up', '4.4 and up', '4.4 and up', 'Varies with device', '4.1 and up', '4.0.3 and up', '4.1 and up', '4.1 and up', '4.4 and up', '4.1 and up', '4.0 and up', '4.0.3 and up', '4.4 and up', 'Varies with device', '4.0.3 and up', 'Varies with device', '5.1 and up', '4.1 and up', 'Varies with device', '2.3.3 and up', '4.0 and up', 'Varies with device', 'Varies with device', '4.0 and up', '4.4 and up', '5.0 and up', '4.2 and up', '5.0 and up', '5.0 and up', '5.0 and up', '5.0 and up', 'Varies with device', 'Varies with device', '4.4 and up', '5.0 and up', 'Varies with device', '5.0 and up', 'Varies with device', 'Varies with device', 'Varies with device', '5.0 and up', '4.1 and up', '6.0 and up', 'Varies with device', '5.0 and up', '5.0 and up', '5.0 and up', 'Varies with device', '4.1 and up', '4.2 and up', 'Varies with device', 'Varies with device', '4.4 and up', '4.2 and up', '4.1 and up', '4.2 and up', '4.0 and up', '4.0 and up', '4.4 and up', '4.1 and up', '4.1 and up', '4.4 and up', '4.0 and up', '4.0 and up', '4.1 and up', '4.0.3 and up', '4.1 and up', '4.1 and up', '5.0 and up', '4.0.3 and up', 'Varies with device', '4.1 and up', 'Varies with device', '4.1 and up', '4.1 and up', '4.1 and up', '4.4 and up', '3.0 and up', 'Varies with device', '5.0 and up', '4.2 and up', 'Varies with device', '4.1 and up', '4.1 and up', 'Varies with device', '5.0 and up', '4.4 and up', 'Varies with device', '2.3 and up', '2.3.3 and up', '4.4 and up', '5.0 and up', 'Varies with device', '5.0 and up', '4.1 and up', '4.4 and up', '5.0 and up', '4.1 and up', 'Varies with device', 'Varies with device', 'Varies with device', '4.1 and up', 'Varies with device', '5.0 and up', 'Varies with device', '4.1 and up', '5.0 and up', '5.0 and up', '4.4 and up', '4.0.3 and up', '5.0 and up', 'Varies with device', 'Varies with device', '4.1 and up', '4.4 and up', '4.0.3 and up', '5.0 and up', 'Varies with device', 'Varies with device', '5.0 and up', 'Varies with device', '4.0 and up', 'Varies with device', '4.0.3 and up', '2.3.3 and up', '4.0 and up', '4.0.3 and up', '2.3.3 and up', 'Varies with device', '4.0.3 and up', '4.3 and up', '4.2 and up', '4.1 and up', '2.3.3 and up', 'Varies with device', 'Varies with device', 'Varies with device', 'Varies with device', '4.4 and up', '4.2 and up', '4.1 and up', '4.0 and up', 'Varies with device', 'Varies with device', '4.0.3 and up', '4.0.3 and up', '4.3 and up', 'Varies with device', '5.0 and up', '4.1 and up', '4.4 and up', '4.0.3 and up', 'Varies with device', '4.2 and up', 'Varies with device', 'Varies with device', '4.1 and up', 'Varies with device', '4.0.3 and up', 'Varies with device', '5.0 and up', 'Varies with device', '4.4 and up', '4.4 and up', 'Varies with device', 'Varies with device', '4.0.3 and up', '4.1 and up', '4.4 and up', 'Varies with device', 'Varies with device', '4.1 and up', '4.1 and up', 'Varies with device', '4.1 and up', '5.0 and up', 'Varies with device', 'Varies with device', '5.0 and up', '5.0 and up', '4.4 and up', 'Varies with device', 'Varies with device', 'Varies with device', '4.4 and up', 'Varies with device', 'Varies with device', '5.0 and up', '2.3.3 and up', '4.1 and up', '4.0.3 and up', '5.0 and up', 'Varies with device', '4.1 and up', '4.4 and up', '4.0.3 and up', '4.0 and up', 'Varies with device', '4.0 and up', 'Varies with device', 'Varies with device', '5.0 and up', '2.3.3 and up', '4.0 and up', '4.1 and up', '4.1 and up', 'Varies with device', '2.3 and up', '5.0 and up', '4.0.3 and up', '4.4 and up', '4.1 and up', 'Varies with device', '4.0.3 and up', '4.0 and up', '4.0 and up', 'Varies with device', 'Varies with device', '4.0.3 and up', '4.0.3 and up', '4.4 and up', 'Varies with device', 'Varies with device', '4.1 and up', '4.4 and up', '4.0.3 and up', 'Varies with device', '4.0.3 and up', '4.4 and up', '4.1 and up', '4.0 and up', '4.1 and up', 'Varies with device', 'Varies with device', 'Varies with device', '4.1 and up', 'Varies with device', 'Varies with device', '4.4 and up', '4.2 and up', '4.0 and up', '4.4 and up', '5.0 and up', 'Varies with device', '4.0.3 and up', '4.0.3 and up', '4.0.3 and up', '4.1 and up', '4.4 and up', 'Varies with device', 'Varies with device', '4.0 and up', 'Varies with device', '4.2 and up', '5.0 and up', '4.0.3 and up', '4.0.3 and up', 'Varies with device', '4.0 and up', 'Varies with device', '5.0 and up', 'Varies with device', 'Varies with device', '4.1 and up', '4.1 and up', '4.4 and up', '4.0 and up', 'Varies with device', '4.0.3 and up', '5.0 and up', '4.0.3 and up', '4.4 and up', '4.1 and up', 'Varies with device', 'Varies with device', '4.1 and up', '4.0.3 and up', '4.0 and up', '4.0.3 and up', '4.0 and up', '4.0 and up', '4.0.3 and up', '3.0 and up', '3.0 and up', '3.0 and up', '3.0 and up', 'Varies with device', '3.0 and up', '3.0 and up', '3.0 and up', '5.0 and up', '4.1 and up', '4.0 and up', '5.0 and up', '5.0 and up', '4.0.3 and up', 'Varies with device', '4.4 and up', '4.2 and up', 'Varies with device', 'Varies with device', '4.4 and up', 'Varies with device', '4.4 and up', 'Varies with device', '4.0.3 and up', '5.0 and up', '2.3 and up', '2.2 and up', '4.0.3 and up', '2.2 and up', '4.0 and up', '4.0.3 and up', '4.0 and up', '2.2 and up', 'Varies with device', '2.3 and up', '4.0.3 and up', '7.1 and up', '2.3 and up', '4.1 and up', '4.0.3 and up', '4.0.3 and up', '1.5 and up', '4.0.3 and up', '1.6 and up', '4.2 and up', 'Varies with device', '1.6 and up', '4.1 and up', '5.0 and up', '2.3 and up', '4.0 and up', '1.5 and up', '2.3 and up', '2.3 and up', '4.0.3 and up', '3.2 and up', '4.0 and up', '4.4 and up', '4.1 and up', '5.0 and up', '2.3 and up', '4.0 and up', '4.0 and up', '4.0 and up', '4.0.3 and up', '2.3 and up', '4.0.3 and up', '4.0.3 and up', '7.0 - 7.1.1', '2.3 and up', '4.1 and up', '7.0 and up', '2.3.3 and up', '4.4 and up', '4.1 and up', '4.4 and up', '5.0 and up', '4.0 and up', '4.1 and up', '4.4 and up', '4.4 and up', '4.1 and up', '2.3 and up', '2.3 and up', '5.0 and up', '2.3 and up', '4.0.3 and up', '4.4 and up', '4.0.3 and up', '5.0 and up', '4.0 and up', '4.0.3 and up', '4.4 and up', '2.3 and up', '4.0 and up', '4.1 and up', '4.0 and up', '4.3 and up', '4.2 and up', '4.1 and up', '4.3 and up', 'Varies with device', '4.0.3 and up', '4.1 and up', '4.1 and up', '4.4 and up', '4.0.3 and up', '4.1 and up', 'Varies with device', '5.0 and up', 'Varies with device', '4.4 and up', '4.0.3 and up', '4.0 and up', '4.0 and up', '4.0 and up', '4.1 and up', '4.3 and up', '4.1 and up', 'Varies with device', '2.2 and up', '2.3 and up', '4.3 and up', '4.1 and up', '4.1 and up', 'Varies with device', '2.2 and up', '2.3 and up', '4.3 and up', '4.1 and up', '4.0.3 and up', '5.0 and up', '4.2 and up', '2.2 and up', '4.1 and up', '4.4 and up', '4.0.3 and up', 'Varies with device', '4.0 and up', '4.0.3 and up', 'Varies with device', 'Varies with device', '4.0 and up', '4.0.3 and up', 'Varies with device', '4.1 and up', 'Varies with device', 'Varies with device', '4.0.3 and up', '4.1 and up', '4.1 and up', '4.1 and up', '4.1 and up', '4.0.3 and up', '4.1 and up', '2.3 and up', '4.1 and up', '4.0 and up', '4.0 and up', '4.1 and up', '2.3 and up', '4.1 and up', '4.1 and up', '4.1 and up', '4.1 and up', '2.3 and up', '4.1 and up', '4.4 and up', '2.3.3 and up', '4.1 and up', '4.0 and up', '4.0.3 and up', '4.1 and up', '3.0 and up', '3.0 and up', '4.0 and up', '4.1 and up', '4.1 and up', '4.0.3 and up', '4.0.3 and up', '4.1 and up', 'Varies with device', '4.1 and up', '4.1 and up', '4.0 and up', '4.2 and up', '4.0.3 and up', '4.0.3 and up', '4.0.3 and up', '4.1 and up', 'Varies with device', '2.3 and up', '4.0 and up', '4.1 and up', '4.1 and up', 'Varies with device', '4.1 and up', '4.1 and up', '4.0 and up', '4.0.3 and up', '4.1 and up', '4.1 and up', '4.1 and up', '4.0.3 and up', '4.1 and up', '4.4 and up', '4.1 and up', '4.0.3 and up', '4.1 and up', '4.4 and up', '4.1 and up', '3.0 and up', '4.1 and up', '4.0.3 and up', '4.0.3 and up', '2.3 and up', '4.1 and up', '4.1 and up', '4.1 and up', 'Varies with device', '4.0 and up', '4.1 and up', '4.1 and up', '4.1 and up', '2.3 and up', '4.0 and up', 'Varies with device', '4.0.3 and up', '4.0.3 and up', '2.3 and up', '4.0 and up', '2.3 and up', '4.1 and up', '4.1 and up', '4.3 and up', '4.4 and up', '4.1 and up', '4.0.3 and up', '4.1 and up', '4.2 and up', '4.1 and up', '4.0.3 and up', '4.0.3 and up', '4.0.3 and up', '4.1 and up', '4.1 and up', '4.1 and up', '4.1 and up', '4.1 and up', '4.1 and up', '4.0 and up', '4.0.3 and up', 'Varies with device', '2.3 and up', '4.1 and up', '4.0 and up', '4.4 and up', '4.1 and up', '4.1 and up', '4.1 and up', '4.4 and up', '4.1 and up', '5.0 and up', '4.1 and up', '4.1 and up', '4.4 and up', '4.1 and up', '4.1 and up', '4.1 and up', '4.0 and up', '4.1 and up', '4.1 and up', '4.1 and up', '4.1 and up', '4.0.3 and up', '4.3 and up', '4.1 and up', '4.1 and up', '4.4 and up', '5.0 and up', '4.1 and up', '4.3 and up', 'Varies with device', '4.1 and up', '4.1 and up', '5.0 and up', '4.1 and up', '4.1 and up', '4.1 and up', '4.0.3 and up', '4.3 and up', '5.0 and up', '4.1 and up', '4.1 and up', '5.0 and up', '4.1 and up', '4.1 and up', '4.4 and up', '5.0 and up', '4.4 and up', '4.1 and up', '4.1 and up', '6.0 and up', 'Varies with device', '4.0.3 and up', '4.1 and up', '4.0.3 and up', '4.2 and up', '4.4 and up', '4.1 and up', '4.1 and up', 'Varies with device', '4.1 and up', '6.0 and up', '4.0 and up', '2.3 and up', '4.4 and up', '4.1 and up', '4.3 and up', '4.0.3 and up', '4.0.3 and up', '4.4 and up', '4.1 and up', '4.0.3 and up', '4.3 and up', '4.3 and up', '4.4 and up', '4.4 and up', '5.0 and up', '4.4 and up', '2.3 and up', '4.4 and up', '4.0.3 and up', '2.3.3 and up', '4.1 and up', '4.4 and up', '6.0 and up', '4.1 and up', '4.1 and up', '4.1 and up', '4.0.3 and up', '4.1 and up', '4.4 and up', '4.3 and up', '4.0.3 and up', '4.4 and up', 'Varies with device', '4.0.3 and up', '4.4 and up', '4.0.3 and up', '4.0.3 and up', '4.1 and up', '4.0.3 and up', '4.1 and up', '4.4 and up', '6.0 and up', '4.0.3 and up', '4.0.3 and up', '4.0.3 and up', '2.3 and up', '4.0 and up', '4.3 and up', '2.3 and up', '4.0.3 and up', '4.0.3 and up', '4.1 and up', '4.1 and up', '4.0.3 and up', '4.1 and up', '4.1 and up', '2.3 and up', '4.0.3 and up', '4.1 and up', '4.1 and up', '4.1 and up', '4.1 and up', '2.3 and up', '4.1 and up', '3.0 and up', '2.3 and up', '4.0 and up', '4.0 and up', '4.0 and up', '4.1 and up', '4.0.3 and up', '4.1 and up', '4.1 and up', '2.3 and up', '4.0.3 and up', '4.0.3 and up', '4.0.3 and up', '4.0.3 and up', '4.1 and up', '4.4 and up', '4.1 and up', '4.1 and up', '4.0 and up', '4.0 and up', '4.4 and up', '4.1 and up', '4.0.3 and up', '4.1 and up', '4.1 and up', '4.1 and up', '4.1 and up', '4.2 and up', 'Varies with device', '4.3 and up', '4.0.3 and up', '4.0.3 and up', 'Varies with device', '4.0.3 and up', 'Varies with device', '4.1 and up', '4.1 and up', '5.0 and up', '4.0 and up', '2.3 and up', '4.1 and up', '4.1 and up', '4.1 and up', 'Varies with device', '4.1 and up', '2.3.3 and up', '4.4 and up', '4.4 and up', '4.2 and up', '4.0.3 and up', '3.0 and up', '4.0 and up', '3.0 and up', '6.0 and up', 'Varies with device', '4.1 and up', '2.3 and up', '4.1 and up', '4.1 and up', '4.0 and up', '3.0 and up', '2.3 and up', '4.1 and up', '4.1 and up', '2.3.3 and up', '4.0.3 and up', '2.3 and up', '4.0.3 and up', '4.1 and up', '4.1 and up', '5.0 and up', '4.0.3 and up', '4.0.3 and up', 'Varies with device', '4.1 and up', '4.0.3 and up', '4.0 and up', 'Varies with device', '4.1 and up', '4.0 and up', '4.1 and up', '4.2 and up', '4.0.3 and up', '4.0.3 and up', '4.1 and up', '4.1 and up', '2.3 and up', '4.1 and up', '4.0.3 and up', '4.0.3 and up', '4.0.3 and up', 'Varies with device', '4.0.3 and up', '4.0.3 and up', '4.1 and up', '4.2 and up', '2.3.3 and up', '4.1 and up', '4.0.3 and up', '4.1 and up', '4.1 and up', '4.0 and up', '4.1 and up', '4.0 and up', '4.1 and up', '4.0 and up', '4.1 and up', '4.1 and up', '4.1 and up', 'Varies with device', '4.2 and up', '4.0 and up', '4.1 and up', '2.3 and up', '4.1 and up', '4.1 and up', '4.4 and up', '4.1 and up', '4.1 and up', '2.3.3 and up', '4.1 and up', '4.3 and up', '4.4 and up', '2.3 and up', '4.0 and up', '4.1 and up', 'Varies with device', 'Varies with device', 'Varies with device', '2.3 and up', '2.3.3 and up', '4.1 and up', '4.1 and up', '4.0.3 and up', '4.1 and up', '4.0.3 and up', '4.0.3 and up', '4.0.3 and up', '4.1 and up', '4.0.3 and up', '4.1 and up', '2.3 and up', '4.1 and up', '4.0 and up', '4.1 and up', '4.0.3 and up', '4.0.3 and up', '4.1 and up', '2.3 and up', '4.1 and up', '4.1 and up', '4.0.3 and up', '4.0.3 and up', '2.3 and up', 'Varies with device', '4.1 and up', '4.0.3 and up', '4.0.3 and up', 'Varies with device', '2.3 and up', '4.0.3 and up', '4.0.3 and up', '4.0.3 and up', '4.1 and up', '4.0 and up', '4.0.3 and up', '4.0 and up', '4.1 and up', 'Varies with device', '4.0.3 and up', '2.3.3 and up', '4.0 and up', '4.1 and up', '4.0.3 and up', 'Varies with device', '4.4 and up', '4.4 and up', '4.1 and up', '4.1 and up', '5.0 and up', '4.4 and up', '4.4 and up', '4.2 and up', '4.1 and up', '4.1 and up', '4.0.3 and up', '4.1 and up', '4.1 and up', '4.1 and up', '4.4 and up', '4.4 and up', '5.0 and up', '4.1 and up', '4.0.3 and up', 'Varies with device', 'Varies with device', '4.1 and up', '4.0.3 and up', 'Varies with device', '4.1 and up', '4.1 and up', '4.1 and up', '4.1 and up', '4.1 and up', '4.4 and up', '4.1 and up', '4.1 and up', '4.0.3 and up', 'Varies with device', '4.1 and up', '4.0 and up', '4.4 and up', '4.1 and up', '2.3.3 and up', '4.1 and up', '4.1 and up', '4.1 and up', '4.0.3 and up', '4.0.3 and up', '4.4 and up', '4.2 and up', '4.2 and up', '4.1 and up', '4.1 and up', '4.1 and up', '4.0.3 and up', '4.0 and up', '4.1 and up', '4.1 and up', '4.1 and up', '2.3 and up', '4.1 and up', '2.3 and up', '4.3 and up', '2.3 and up', '4.0.3 and up', '2.3.3 and up', '4.1 and up', '4.1 and up', '4.2 and up', '4.0 and up', '4.0 and up', '4.4 and up', '2.3.3 and up', '4.1 and up', '4.1 and up', '4.1 and up', '4.0 and up', '4.2 and up', '4.0 and up', '2.3 and up', '4.0.3 and up', '4.0.3 and up', '4.1 and up', '2.3 and up', '4.2 and up', '4.0.3 and up', '4.1 and up', '4.1 and up', '2.3 and up', '5.1 and up', '4.2 and up', '4.0 and up', '4.1 and up', '4.1 and up', '4.0 and up', '4.1 and up', 'Varies with device', '4.4 and up', '4.0.3 and up', '2.3 and up', '2.3 and up', '4.0.3 and up', '2.3 and up', '2.3 and up', '4.1 and up', '4.1 and up', '3.0 and up', '4.1 and up', '2.3 and up', '4.0.3 and up', '4.1 and up', '4.4 and up', '4.0 and up', '2.3 and up', 'Varies with device', '4.0 and up', '4.0 and up', '4.0 and up', '5.1 and up', '2.3.3 and up', '4.1 and up', '4.1 and up', '4.1 and up', '2.3 and up', '4.0 and up', '2.3 and up', '4.0.3 and up', '4.0 and up', '2.3 and up', '4.0.3 and up', '4.2 and up', '4.0.3 and up', '2.2 and up', '4.4 and up', '4.3 and up', '4.0.3 and up', '2.3 and up', '4.0.3 and up', '4.0 and up', '4.0.3 and up', '4.0 and up', '2.3 and up', '4.0.3 and up', '4.2 and up', '4.0.3 and up', '2.2 and up', '4.4 and up', '4.3 and up', '4.0.3 and up', '2.3 and up', '4.0.3 and up', '4.0 and up', '4.1 and up', 'Varies with device', '4.1 and up', '4.2 and up', '4.1 and up', '4.0.3 and up', '4.2 and up', '4.4 and up', '4.1 and up', '4.1 and up', 'Varies with device', '4.4 and up', '4.1 and up', '4.1 and up', '4.4 and up', '4.0.3 and up', '4.0 and up', '4.2 and up', '2.3 and up', '4.2 and up', '4.4 and up', '4.4 and up', '6.0 and up', '4.0.3 and up', '4.4 and up', '2.3 and up', '4.0.3 and up', '2.3 and up', 'Varies with device', '4.0 and up', '4.0 and up', '4.1 and up', '4.3 and up', '4.1 and up', '5.0 and up', 'Varies with device', '2.3.3 and up', '4.0 and up', '2.2 and up', '4.1 and up', '2.2 and up', 'Varies with device', '4.1 and up', '6.0 and up', '5.0 and up', '5.0 and up', '4.0.3 and up', '4.0.3 and up', '4.4W and up', '4.0.3 and up', '4.0.3 and up', '4.1 and up', '4.0 and up', '5.0 and up', 'Varies with device', '4.0 and up', '4.1 and up', '4.0.3 and up', '4.0.3 and up', '4.0 and up', '2.1 and up', '4.1 and up', '3.0 and up', '4.0 and up', '4.0 and up', '3.0 and up', '3.0 and up', '4.4 and up', '4.1 and up', 'Varies with device', '4.4 and up', '2.1 and up', '1.6 and up', '3.0 and up', 'Varies with device', '2.3 and up', '4.1 and up', '2.3.3 and up', '4.1 and up', 'Varies with device', '4.1 and up', '4.4W and up', 'Varies with device', 'Varies with device', '4.2 and up', '4.1 and up', '2.3.3 and up', '2.1 and up', '4.1 and up', '2.2 and up', '4.0.3 and up', '2.3.3 and up', '4.0 and up', '3.2 and up', '4.1 and up', 'Varies with device', '4.4 and up', 'Varies with device', '4.3 and up', '4.3 and up', '5.0 and up', '4.1 and up', '4.1 and up', '4.4 and up', '4.4 and up', '5.1 and up', 'Varies with device', '4.3 and up', '4.4 and up', '4.1 and up', '4.1 and up', '6.0 and up', '4.3 and up', '5.0 and up', '4.0 and up', '4.1 and up', '4.3 and up', '4.0 and up', '4.0.3 and up', '4.4 and up', '4.0 and up', '4.4 and up', '5.0 and up', '4.1 and up', '4.1 and up', '4.0.3 and up', '5.0 and up', '4.4 and up', '5.0 and up', '4.4 and up', '5.0 and up', '4.1 and up', '4.4 and up', '4.1 and up', '4.0.3 and up', '4.1 and up', '4.1 and up', '4.1 and up', '4.1 and up', '4.4 and up', '4.1 and up', '4.1 and up', '4.4 and up', 'Varies with device', '5.0 and up', '4.0 and up', '4.4 and up', '4.0 and up', '4.1 and up', '4.0 and up', '6.0 and up', '4.4 and up', '5.0 and up', '4.1 and up', '4.4 and up', '4.0.3 and up', '4.0 and up', '5.0 and up', '4.1 and up', '4.4 and up', '4.4 and up', '4.4 and up', '5.0 and up', '4.1 and up', 'Varies with device', '4.1 and up', '4.4 and up', '4.1 and up', '2.2 and up', '4.4 and up', '4.1 and up', '4.2 and up', '7.0 and up', '4.1 and up', '2.2 and up', '4.0.3 and up', '4.0.3 and up', '4.0 and up', '4.1 and up', '4.0 and up', '7.0 and up', '3.0 and up', 'Varies with device', '4.0.3 and up', '4.4W and up', '4.4 and up', '4.4 and up', 'Varies with device', '4.1 and up', '3.0 and up', '5.0 and up', '4.0 and up', '4.2 and up', '4.4 and up', '4.1 and up', '2.2 and up', '4.4 and up', '4.1 and up', '3.0 and up', '4.4 and up', '4.0 and up', '4.1 and up', '5.0 and up', '4.1 and up', '4.1 and up', '5.0 and up', '4.4 and up', '4.0 and up', '4.1 and up', 'Varies with device', '4.0.3 and up', '5.0 and up', '4.4 and up', '5.0 and up', '4.1 and up', '4.2 and up', '4.1 and up', '4.1 and up', '4.1 and up', '4.0.3 and up', '4.0.3 and up', '4.1 and up', '5.0 and up', '4.0 and up', '4.1 and up', '4.4 and up', '4.0.3 and up', '4.0.3 and up', '4.1 and up', '4.1 and up', '4.4 and up', '8.0 and up', '4.3 and up', '4.4 and up', '4.4 and up', '4.3 and up', '4.0.3 and up', '5.0 and up', '3.0 and up', '6.0 and up', '5.0 and up', '4.1 and up', '4.2 and up', '3.0 and up', '4.4 and up', '4.0.3 and up', '4.0.3 and up', '4.0.3 and up', '3.0 and up', '4.4 and up', '3.0 and up', '4.0.3 and up', '4.0.3 and up', '4.3 and up', '4.0.3 and up', '5.0 and up', '5.0 and up', '4.4 and up', '5.0 and up', '5.0 and up', 'Varies with device', '4.0 and up', '4.1 and up', '2.2 and up', '4.0 and up', '4.4 and up', '4.3 and up', '4.4 and up', '5.0 and up', '4.0.3 and up', '2.3.3 and up', '4.0.3 and up', '4.1 and up', '4.0 and up', '4.0.3 and up', '4.0.3 and up', '4.0 and up', '4.1 and up', '3.0 and up', '4.0.3 and up', '4.0.3 and up', '5.0 and up', 'Varies with device', 'Varies with device', 'Varies with device', '4.1 and up', 'Varies with device', '4.0 and up', 'Varies with device', '4.0 and up', 'Varies with device', 'Varies with device', 'Varies with device', '4.1 and up', '4.1 and up', '4.3 and up', 'Varies with device', '4.1 and up', '5.0 and up', '4.0.3 and up', '4.1 and up', '4.0 and up', '4.0.3 and up', 'Varies with device', '4.1 and up', '2.3 and up', '4.0.3 and up', '4.3 and up', '4.1 and up', '4.0.3 and up', '4.1 and up', '4.3 and up', 'Varies with device', '4.0.3 and up', '4.0 and up', '4.4 and up', '4.4 and up', 'Varies with device', '2.2 and up', '4.0.3 and up', '5.0 and up', '4.4 and up', 'Varies with device', '4.4 and up', 'Varies with device', 'Varies with device', 'Varies with device', 'Varies with device', '4.1 and up', '4.1 and up', 'Varies with device', '4.1 and up', 'Varies with device', '4.3 and up', 'Varies with device', 'Varies with device', 'Varies with device', 'Varies with device', '2.1 and up', 'Varies with device', '4.0.3 and up', 'Varies with device', 'Varies with device', 'Varies with device', 'Varies with device', '4.1 and up', '4.4 and up', '4.1 and up', 'Varies with device', 'Varies with device', 'Varies with device', '5.0 and up', 'Varies with device', '2.3 and up', 'Varies with device', '4.1 and up', '4.3 and up', '4.1 and up', '4.0.3 and up', '5.0 and up', 'Varies with device', 'Varies with device', 'Varies with device', 'Varies with device', '2.3 and up', 'Varies with device', '5.0 and up', 'Varies with device', '4.1 and up', '4.2 and up', '4.1 and up', '5.0 and up', '4.4 and up', 'Varies with device', 'Varies with device', '4.1 and up', '2.3 and up', 'Varies with device', '4.4 and up', '4.4 and up', 'Varies with device', '4.1 and up', 'Varies with device', '4.2 and up', 'Varies with device', 'Varies with device', '4.1 and up', '4.3 and up', 'Varies with device', 'Varies with device', '2.3 and up', '4.4 and up', '4.4 and up', '4.1 and up', 'Varies with device', '4.1 and up', '4.1 and up', '5.0 and up', 'Varies with device', 'Varies with device', 'Varies with device', '4.1 and up', '4.4 and up', '4.2 and up', '4.1 and up', '4.1 and up', 'Varies with device', '4.1 and up', '4.0.3 and up', '4.0 and up', '4.0.3 and up', '4.1 and up', 'Varies with device', '4.1 and up', '4.1 and up', '4.1 and up', '4.1 and up', '4.1 and up', '4.0.3 and up', '4.0.3 and up', '4.1 and up', '4.4 and up', 'Varies with device', 'Varies with device', '4.2 and up', '4.3 and up', 'Varies with device', '4.1 and up', '4.1 and up', '4.2 and up', '4.1 and up', '4.1 and up', '4.0 and up', '4.0.3 and up', '4.0.3 and up', '5.0 and up', 'Varies with device', 'Varies with device', '4.2 and up', '4.0.3 and up', '4.0 and up', '4.3 and up', 'Varies with device', '4.3 and up', 'Varies with device', '4.0.3 and up', '4.4 and up', '4.0 and up', 'Varies with device', '4.4 and up', '4.1 and up', '4.1 and up', '4.1 and up', 'Varies with device', 'Varies with device', '4.4 and up', '4.1 and up', '4.4 and up', '4.4 and up', '5.0 and up', '4.4 and up', '4.3 and up', 'Varies with device', 'Varies with device', 'Varies with device', 'Varies with device', '4.4 and up', 'Varies with device', '4.4 and up', 'Varies with device', 'Varies with device', 'Varies with device', '4.1 and up', '4.1 and up', '4.4 and up', 'Varies with device', 'Varies with device', 'Varies with device', '4.4 and up', '4.1 and up', '4.0 and up', '4.4 and up', '2.3 and up', '4.4 and up', '4.0.3 and up', 'Varies with device', 'Varies with device', '4.1 and up', 'Varies with device', '4.1 and up', 'Varies with device', '4.4 and up', '4.0.3 and up', '4.1 and up', 'Varies with device', '4.4 and up', 'Varies with device', 'Varies with device', '4.4 and up', '4.0.3 and up', '4.4 and up', '4.4 and up', '4.4 and up', '4.4 and up', '4.4 and up', 'Varies with device', '4.1 and up', '4.4 and up', '5.0 and up', '4.4 and up', 'Varies with device', '4.1 and up', 'Varies with device', '4.0 and up', '4.1 and up', '4.4 and up', '4.0.3 and up', '4.4 and up', '4.4 and up', '4.4 and up', '4.1 and up', 'Varies with device', 'Varies with device', '4.1 and up', '4.1 and up', '4.0.3 and up', '2.3.3 and up', '4.0.3 and up', 'Varies with device', '4.4 and up', '4.1 and up', '4.4 and up', '5.0 and up', '4.4 and up', '4.1 and up', '4.0 and up', 'Varies with device', '5.0 and up', '4.4 and up', '4.4 and up', '5.0 and up', '4.1 and up', '4.0.3 and up', '4.1 and up', '4.1 and up', '4.4 and up', 'Varies with device', 'Varies with device', '4.2 and up', '4.4 and up', '4.1 and up', '4.0.3 and up', '4.4 and up', '4.2 and up', '4.3 and up', '2.3 and up', '4.0.3 and up', '5.0 and up', '4.0 and up', '4.2 and up', '4.1 and up', '4.0 and up', '7.0 and up', '4.0.3 and up', '4.0.3 and up', '4.0 and up', '4.1 and up', 'Varies with device', '4.0.3 and up', '4.2 and up', '4.0.3 and up', 'Varies with device', '4.4 and up', '4.1 and up', 'Varies with device', '2.3 and up', '4.0.3 and up', '4.1 and up', '4.1 and up', '5.0 - 8.0', '4.0.3 and up', '2.3 and up', 'Varies with device', '4.4 and up', '4.0 and up', '4.0.3 and up', '4.0.3 and up', 'Varies with device', '4.0.3 and up', '4.0 and up', '4.1 and up', 'Varies with device', '4.0 and up', '4.0 and up', '4.4 and up', '5.0 and up', '4.0.3 and up', '4.3 and up', '4.0 and up', 'Varies with device', '4.1 and up', '2.3.3 and up', 'Varies with device', 'Varies with device', '2.3 and up', 'Varies with device', '4.0.3 and up', 'Varies with device', '4.4 and up', '4.0 and up', '4.0.3 and up', '4.0.3 and up', '4.0 and up', '2.3 and up', '4.0 and up', '4.0.3 and up', '4.0.3 and up', '4.1 and up', '3.0 and up', '4.1 and up', '4.0.3 and up', '4.1 and up', 'Varies with device', '4.0 and up', '4.0 and up', '4.4 and up', '5.0 and up', 'Varies with device', '4.0 and up', 'Varies with device', '4.0 and up', '2.3 and up', '2.1 and up', '4.2 and up', '5.0 and up', 'Varies with device', '4.0.3 and up', '4.0 and up', 'Varies with device', '4.2 and up', '4.0 and up', '4.0.3 and up', 'Varies with device', 'Varies with device', '2.2 and up', '4.0.3 and up', 'Varies with device', '4.0.3 and up', '4.4 and up', '4.0.3 and up', '4.1 and up', 'Varies with device', '4.2 and up', '3.1 and up', 'Varies with device', '4.0 and up', '2.3.3 and up', '4.2 and up', '4.0 and up', 'Varies with device', 'Varies with device', '4.0 and up', 'Varies with device', '4.0 and up', 'Varies with device', '5.1 and up', 'Varies with device', 'Varies with device', '4.1 and up', 'Varies with device', '4.0.3 and up', '4.1 and up', 'Varies with device', 'Varies with device', '4.4 and up', '4.1 and up', '4.0.3 and up', 'Varies with device', '4.1 and up', '4.4 and up', '4.1 and up', 'Varies with device', '4.0.3 and up', 'Varies with device', '4.3 and up', 'Varies with device', '4.4 and up', '4.0.3 and up', '4.1 and up', '4.0 and up', '2.3 and up', '4.0.3 and up', '2.3.3 and up', '5.0 and up', '4.0 and up', '4.1 and up', '4.3 and up', '5.0 and up', '4.0.3 and up', '4.1 and up', 'Varies with device', 'Varies with device', '4.4 and up', '4.4 and up', '4.1 and up', '4.4 and up', 'Varies with device', '5.0 and up', '4.0 and up', '4.0.3 and up', 'Varies with device', 'Varies with device', 'Varies with device', 'Varies with device', '5.0 and up', 'Varies with device', '4.1 and up', 'Varies with device', 'Varies with device', '4.1 and up', '4.1 and up', '4.1 and up', 'Varies with device', '4.1 and up', '4.4 and up', '4.1 and up', '4.2 and up', '4.1 and up', 'Varies with device', 'Varies with device', '4.1 and up', '2.3 and up', '4.1 and up', '4.0 and up', '4.0.3 and up', '4.0.3 and up', '4.1 and up', '4.0.3 and up', '4.4 and up', 'Varies with device', '4.4 and up', 'Varies with device', '4.1 and up', '4.2 and up', '4.1 and up', '5.0 and up', 'Varies with device', 'Varies with device', '5.0 and up', 'Varies with device', 'Varies with device', '4.4 and up', '4.4 and up', '5.0 and up', '4.4 and up', '5.0 and up', '5.0 and up', 'Varies with device', '5.0 and up', '4.1 and up', '4.4 and up', '4.1 and up', 'Varies with device', '4.1 and up', '4.1 and up', '4.1 and up', '4.1 and up', 'Varies with device', '4.4 and up', '5.0 and up', '4.0 and up', '4.1 and up', '4.2 and up', 'Varies with device', '2.3 and up', 'Varies with device', '4.0.3 and up', '4.1 and up', '5.0 and up', '5.0 and up', 'Varies with device', '4.4 and up', '4.1 and up', '4.4 and up', '5.0 and up', '5.0 and up', '5.0 and up', '5.0 and up', 'Varies with device', '4.0.3 and up', '2.3 and up', 'Varies with device', '4.4 and up', '4.4 and up', '5.0 and up', '4.1 and up', '5.1 and up', '4.1 and up', '5.0 and up', 'Varies with device', 'Varies with device', '4.4 and up', '5.0 and up', '4.2 and up', '5.1 and up', '4.4 and up', '5.0 and up', 'Varies with device', 'Varies with device', 'Varies with device', '5.0 and up', '5.0 and up', 'Varies with device', '4.0.3 and up', '2.3 and up', '4.1 and up', 'Varies with device', '5.0 and up', 'Varies with device', 'Varies with device', '4.4 and up', '4.1 and up', 'Varies with device', '4.4 and up', '2.3.3 and up', '4.4 and up', '4.1 and up', 'Varies with device', '5.0 and up', '5.1 and up', '4.2 and up', '4.4 and up', '4.4 and up', '4.2 and up', 'Varies with device', '5.0 and up', '5.0 and up', '5.0 and up', 'Varies with device', 'Varies with device', '5.0 and up', 'Varies with device', '5.0 and up', '5.0 and up', 'Varies with device', '5.0 and up', 'Varies with device', '4.4 and up', '4.0.3 and up', 'Varies with device', 'Varies with device', '4.1 and up', '4.1 and up', 'Varies with device', 'Varies with device', 'Varies with device', 'Varies with device', '4.0 and up', '4.0.3 and up', '4.1 and up', '4.4 and up', '6.0 and up', '4.1 and up', '4.2 and up', 'Varies with device', 'Varies with device', '4.4 and up', '5.0 and up', '4.3 and up', '4.4 and up', '5.0 and up', '4.0.3 and up', '4.1 and up', '4.2 and up', 'Varies with device', '5.0 and up', 'Varies with device', '4.2 and up', '4.4 and up', '5.0 and up', 'Varies with device', '5.0 and up', 'Varies with device', '4.1 and up', 'Varies with device', '5.0 and up', '4.4 and up', '4.1 and up', '4.1 and up', 'Varies with device', '4.1 and up', '4.0 and up', '4.4 and up', 'Varies with device', 'Varies with device', '4.1 and up', 'Varies with device', '4.4 and up', '5.0 and up', '4.1 and up', '4.0.3 and up', '4.4 and up', 'Varies with device', 'Varies with device', '4.0.3 and up', '4.1 and up', '4.0.3 and up', 'Varies with device', 'Varies with device', '4.1 and up', '5.0 and up', '4.4 and up', '5.0 and up', '5.0 and up', 'Varies with device', '4.4 and up', '4.4 and up', '6.0 and up', '4.4 and up', 'Varies with device', '4.4 and up', '5.0 and up', '4.1 and up', '5.0 and up', '5.0 and up', 'Varies with device', 'Varies with device', 'Varies with device', '4.1 and up', 'Varies with device', '4.4 and up', '4.1 and up', '4.2 and up', '4.0.3 and up', '4.1 and up', 'Varies with device', 'Varies with device', 'Varies with device', '4.4 and up', '4.1 and up', 'Varies with device', '5.0 and up', 'Varies with device', 'Varies with device', 'Varies with device', '4.4 and up', '4.4 and up', '4.4 and up', 'Varies with device', 'Varies with device', 'Varies with device', '4.1 and up', 'Varies with device', 'Varies with device', '4.1 and up', 'Varies with device', '5.0 and up', '4.4 and up', 'Varies with device', '4.4 and up', 'Varies with device', 'Varies with device', '4.0 and up', '4.0 and up', '4.0.3 and up', '4.1 and up', 'Varies with device', '5.0 and up', 'Varies with device', '4.0 and up', 'Varies with device', '5.0 and up', 'Varies with device', 'Varies with device', 'Varies with device', '4.4 and up', 'Varies with device', '4.0 and up', '8.0 and up', 'Varies with device', 'Varies with device', 'Varies with device', 'Varies with device', '4.0 and up', 'Varies with device', '4.1 and up', '4.2 and up', 'Varies with device', 'Varies with device', 'Varies with device', 'Varies with device', '4.2 and up', '4.1 and up', 'Varies with device', '5.0 and up', '7.0 and up', '5.0 and up', '7.0 and up', '4.1 and up', 'Varies with device', 'Varies with device', 'Varies with device', '7.1 and up', '4.1 and up', 'Varies with device', '5.0 and up', 'Varies with device', 'Varies with device', 'Varies with device', 'Varies with device', '4.0.3 and up', '8.0 and up', '4.2 and up', '6.0 and up', '4.1 and up', '4.1 and up', '4.1 and up', '4.4 and up', '4.0 and up', '4.4 and up', 'Varies with device', '4.0 and up', 'Varies with device', '4.0.3 and up', '3.0 and up', 'Varies with device', 'Varies with device', 'Varies with device', 'Varies with device', '2.3 and up', 'Varies with device', '4.1 and up', '3.0 and up', 'Varies with device', '4.2 and up', 'Varies with device', 'Varies with device', '4.1 and up', 'Varies with device', '4.1 and up', '2.3 and up', '4.0 and up', '4.4 and up', 'Varies with device', '4.2 and up', 'Varies with device', '3.0 and up', 'Varies with device', '2.3 and up', '4.0.3 and up', '5.0 and up', '4.0.3 and up', '4.0 and up', '4.1 and up', '4.1 and up', '4.1 and up', '4.1 and up', '4.1 and up', '4.0.3 and up', '4.0.3 and up', '4.1 and up', '4.1 and up', 'Varies with device', '2.3 and up', '4.1 and up', 'Varies with device', 'Varies with device', '6.0 and up', '4.2 and up', 'Varies with device', '4.4 and up', '4.2 and up', '4.0.3 and up', 'Varies with device', '2.3 and up', 'Varies with device', '2.2 and up', '4.0 and up', '4.0 and up', 'Varies with device', '4.2 and up', '3.2 and up', '4.0 and up', '2.3 and up', 'Varies with device', 'Varies with device', '2.2 and up', '4.0 and up', 'Varies with device', '4.0 and up', 'Varies with device', '4.4 and up', '4.0.3 and up', '4.4 and up', '4.2 and up', '5.0 and up', '4.0.3 and up', '4.0.3 and up', 'Varies with device', '4.0 and up', '4.0.3 and up', 'Varies with device', '4.0 and up', '4.2 and up', '4.1 and up', '4.1 and up', '4.0.3 and up', '4.0 and up', 'Varies with device', '4.2 and up', '4.0.3 and up', '5.0 and up', '4.0 and up', '4.0.3 and up', 'Varies with device', '4.2 and up', '4.1 and up', '4.0 and up', 'Varies with device', '4.0.3 and up', '5.0 and up', '4.0 and up', '5.0 and up', '4.0.3 and up', '4.0.3 and up', '4.4 and up', '4.0 and up', '4.0 and up', '4.0.3 and up', '5.0 and up', '2.3 and up', '4.0.3 and up', '4.0 and up', '4.1 and up', 'Varies with device', '4.1 and up', 'Varies with device', 'Varies with device', '3.2 and up', '2.3 and up', '2.3 and up', '4.4 and up', '4.2 and up', '1.6 and up', '4.0.3 and up', 'Varies with device', 'Varies with device', '4.0.3 and up', '4.0.3 and up', '4.1 and up', '2.3.3 and up', '2.1 and up', '4.1 and up', '4.2 and up', '2.1 and up', '4.0.3 and up', '4.4 and up', '4.0 and up', '3.0 and up', '4.0 and up', 'Varies with device', 'Varies with device', '4.1 and up', '4.1 and up', '2.1 and up', '4.1 and up', '4.1 and up', '4.1 and up', '4.1 and up', '4.1 and up', '4.1 and up', 'Varies with device', 'Varies with device', 'Varies with device', '4.0.3 and up', 'Varies with device', 'Varies with device', '2.1 and up', 'Varies with device', '4.1 and up', '4.0.3 and up', 'Varies with device', 'Varies with device', '4.0.3 and up', '4.1 and up', '4.0 and up', '4.4 and up', 'Varies with device', 'Varies with device', '4.1 and up', 'Varies with device', '4.4 and up', 'Varies with device', '4.4 and up', 'Varies with device', '4.4 and up', '4.4 and up', '4.1 and up', '5.0 and up', 'Varies with device', 'Varies with device', '4.4 and up', 'Varies with device', 'Varies with device', '4.1 and up', '4.0 and up', 'Varies with device', 'Varies with device', '4.0 and up', 'Varies with device', '5.0 - 8.0', 'Varies with device', 'Varies with device', 'Varies with device', 'Varies with device', '4.4 and up', 'Varies with device', '4.0.3 and up', 'Varies with device', 'Varies with device', '2.3.3 and up', 'Varies with device', '4.4 and up', '4.3 and up', '4.2 and up', 'Varies with device', 'Varies with device', '4.4 and up', '5.0 and up', 'Varies with device', '2.2 and up', 'Varies with device', '4.1 and up', '4.1 and up', '4.0.3 and up', 'Varies with device', '4.4 and up', '4.1 and up', 'Varies with device', '4.0 and up', '4.4 and up', '4.1 and up', 'Varies with device', 'Varies with device', 'Varies with device', '5.0 and up', 'Varies with device', '4.1 and up', '5.0 and up', 'Varies with device', '4.0 and up', '2.3 and up', '4.0 and up', '2.2 and up', '2.3 and up', 'Varies with device', '4.1 and up', '4.0 and up', '4.4 and up', 'Varies with device', 'Varies with device', 'Varies with device', 'Varies with device', '4.4 and up', 'Varies with device', '4.1 and up', '4.4 and up', '4.0 and up', '4.4 and up', 'Varies with device', 'Varies with device', 'Varies with device', 'Varies with device', '2.3 and up', '2.3.3 and up', '4.0 and up', '2.3 and up', '4.0 and up', 'Varies with device', '2.3.3 and up', '4.2 and up', 'Varies with device', 'Varies with device', 'Varies with device', 'Varies with device', '4.4 and up', '4.4 and up', 'Varies with device', '4.0.3 and up', '4.1 and up', 'Varies with device', '4.0.3 and up', '4.0 and up', '4.0.3 and up', 'Varies with device', 'Varies with device', 'Varies with device', '4.1 and up', 'Varies with device', 'Varies with device', 'Varies with device', 'Varies with device', 'Varies with device', 'Varies with device', '4.1 and up', 'Varies with device', '4.2 and up', '2.3.3 and up', 'Varies with device', '4.1 and up', 'Varies with device', '4.0.3 and up', 'Varies with device', '4.0 and up', '4.1 and up', '4.2 and up', '4.0.3 and up', '4.2 and up', '4.1 and up', '4.0 and up', '4.0.3 and up', '4.0 and up', '4.0 and up', '4.1 and up', '4.0.3 and up', '4.1 and up', '4.4 and up', 'Varies with device', '4.2 and up', '4.0 and up', '5.0 and up', '4.1 and up', '2.3 and up', '4.0.3 and up', '4.0.3 and up', '5.0 and up', '4.4 and up', '4.0.3 and up', '4.0.3 and up', '4.0.3 and up', '4.0.3 and up', '4.0.3 and up', '4.1 and up', '4.2 and up', '4.1 and up', '4.0.3 and up', '4.1 and up', '4.4 and up', '4.0.3 and up', '4.4 and up', '4.0 and up', '4.1 and up', 'Varies with device', '4.4 and up', 'Varies with device', '4.4 and up', 'Varies with device', '4.0 and up', 'Varies with device', 'Varies with device', '4.1 and up', '3.0 and up', '5.0 and up', '4.1 and up', '4.0 and up', 'Varies with device', '5.0 and up', '4.1 and up', '5.0 and up', '4.1 and up', '4.4 and up', 'Varies with device', 'Varies with device', 'Varies with device', '4.4 and up', 'Varies with device', '4.4 and up', 'Varies with device', 'Varies with device', 'Varies with device', 'Varies with device', '4.2 and up', '4.1 and up', '4.4 and up', '4.4 and up', '2.3 and up', '4.1 and up', '4.1 and up', 'Varies with device', '4.1 and up', '4.1 and up', 'Varies with device', '4.4 and up', '4.4 and up', '4.1 and up', '4.0 and up', 'Varies with device', '4.3 and up', 'Varies with device', '4.0.3 and up', '4.0.3 and up', '2.3 and up', '5.0 and up', '4.0.3 and up', '4.0.3 and up', '4.0 and up', '4.0.3 and up', '4.0.3 and up', '4.3 and up', '4.4 and up', 'Varies with device', '2.3 and up', '4.0.3 and up', 'Varies with device', '5.0 and up', 'Varies with device', 'Varies with device', '7.0 and up', '7.1 and up', '4.0 and up', '5.0 and up', '4.1 and up', 'Varies with device', '4.1 and up', 'Varies with device', '4.3 and up', '4.4 and up', '4.3 and up', 'Varies with device', 'Varies with device', '4.1 and up', 'Varies with device', 'Varies with device', '3.0 and up', '2.3 and up', '4.1 and up', 'Varies with device', '4.3 and up', '4.3 and up', '4.4 and up', 'Varies with device', 'Varies with device', '4.0 and up', '4.1 and up', 'Varies with device', '4.1 and up', 'Varies with device', 'Varies with device', '4.4 and up', '4.4 and up', 'Varies with device', '4.0 and up', '4.0.3 and up', '4.1 and up', 'Varies with device', '4.0 and up', '4.1 and up', '4.1 and up', '4.1 and up', 'Varies with device', '4.0.3 and up', '4.4 and up', 'Varies with device', '4.0 and up', 'Varies with device', '4.1 and up', '4.0.3 and up', '4.1 and up', 'Varies with device', '4.1 and up', '5.0 and up', 'Varies with device', '4.0.3 and up', '4.1 and up', '4.1 and up', '4.4 and up', '4.0 and up', '4.1 and up', '4.4 and up', 'Varies with device', 'Varies with device', '4.1 and up', 'Varies with device', '4.1 and up', 'Varies with device', '4.0 and up', '4.4 and up', 'Varies with device', '4.2 and up', '4.0.3 and up', '4.4 and up', '4.4 and up', 'Varies with device', 'Varies with device', '4.2 and up', 'Varies with device', '4.1 and up', 'Varies with device', '4.1 and up', '4.1 and up', '4.4 and up', '4.1 and up', '4.4 and up', 'Varies with device', 'Varies with device', 'Varies with device', '4.0.3 and up', 'Varies with device', '4.1 and up', '4.4 and up', 'Varies with device', 'Varies with device', '5.0 and up', 'Varies with device', '4.1 and up', 'Varies with device', '4.0 and up', '4.4 and up', '4.4 and up', '4.0 and up', 'Varies with device', 'Varies with device', '2.2 and up', 'Varies with device', '4.1 and up', 'Varies with device', 'Varies with device', 'Varies with device', '4.1 and up', 'Varies with device', '5.0 and up', '5.0 and up', 'Varies with device', 'Varies with device', '4.1 and up', '4.1 and up', '4.4 and up', '4.0.3 and up', 'Varies with device', '4.4 and up', 'Varies with device', '4.4 and up', 'Varies with device', '4.4 and up', 'Varies with device', 'Varies with device', 'Varies with device', 'Varies with device', '4.0 and up', 'Varies with device', 'Varies with device', '4.1 and up', 'Varies with device', '4.0.3 and up', '4.1 and up', '4.1 and up', '5.0 and up', '4.0.3 and up', 'Varies with device', '2.3 and up', 'Varies with device', '4.1 and up', 'Varies with device', 'Varies with device', 'Varies with device', '4.4 and up', '4.0.3 and up', '5.0 and up', '4.4 and up', '4.0 and up', 'Varies with device', '4.1 and up', '4.0.3 and up', '4.1 and up', '4.0.3 and up', '4.1 and up', '4.0.3 and up', '4.1 and up', 'Varies with device', '4.0 and up', '4.0 and up', '4.2 and up', '4.1 and up', '4.1 and up', '4.0 and up', '4.0 and up', '4.1 and up', 'Varies with device', 'Varies with device', '4.2 and up', 'Varies with device', '4.0 and up', '4.0.3 and up', '4.0.3 and up', 'Varies with device', 'Varies with device', '4.0 and up', '4.1 and up', '4.0.3 and up', '2.3 and up', '4.0 and up', '4.0 and up', '4.4 and up', '4.0 and up', '4.0 and up', '4.0.3 and up', '4.1 and up', '4.4 and up', '4.1 and up', '4.1 and up', 'Varies with device', '4.1 and up', '4.4 and up', '4.1 and up', 'Varies with device', '4.1 and up', '2.3 and up', 'Varies with device', 'Varies with device', '2.3 and up', 'Varies with device', '4.1 and up', '4.2 and up', '2.1 and up', '4.0.3 and up', '4.0.3 and up', '4.0 and up', '4.1 and up', '4.2 and up', 'Varies with device', 'Varies with device', '4.1 and up', 'Varies with device', '4.4 and up', 'Varies with device', '4.1 and up', '4.1 and up', '4.0.3 and up', '4.1 and up', '4.0.3 and up', 'Varies with device', '4.1 and up', '3.2 and up', '4.0.3 and up', '4.1 and up', '4.1 and up', '4.0.3 and up', '4.4 and up', '4.1 and up', 'Varies with device', '4.1 and up', '5.0 and up', '1.5 and up', 'Varies with device', '4.1 and up', '4.1 and up', '5.0 and up', '4.4 and up', '4.0 and up', '4.4 and up', '4.0 and up', '4.0 and up', '4.4 and up', '4.0.3 and up', '3.0 and up', 'Varies with device', 'Varies with device', '4.0 and up', 'Varies with device', '2.3 and up', '4.1 and up', '4.3 and up', '4.2 and up', '2.3 and up', '4.1 and up', '4.4 and up', '4.0 and up', '4.0.3 and up', '4.0.3 and up', '5.0 and up', '4.0 and up', '4.1 and up', '4.4 and up', '4.0 and up', '4.1 and up', '4.1 and up', 'Varies with device', '5.0 and up', '2.0 and up', '2.1 and up', '2.2 and up', '4.0.3 and up', '2.3 and up', '2.1 and up', '4.4 and up', '4.0 and up', '4.4 and up', '4.1 and up', 'Varies with device', '4.0.3 and up', '4.1 and up', '3.2 and up', '4.0.3 and up', '4.3 and up', '4.1 and up', '4.0 and up', '4.0 and up', '4.0.3 and up', '4.0.3 and up', '4.1 and up', '4.1 and up', '2.3 and up', 'Varies with device', '4.0 and up', '4.0.3 and up', '4.4 and up', 'Varies with device', '4.1 and up', '4.1 and up', 'Varies with device', '4.1 and up', '2.1 and up', '4.0 and up', 'Varies with device', '4.0.3 and up', '4.1 and up', '4.0.3 and up', '4.1 and up', 'Varies with device', '4.3 and up', '4.1 and up', '4.0 and up', '4.1 and up', '6.0 and up', '4.4 and up', '4.4 and up', '4.0 and up', '4.1 and up', '4.0.3 and up', '5.0 and up', '4.2 and up', '4.0.3 and up', '4.4 and up', '4.0 and up', '4.0 and up', '4.0.3 and up', '4.1 and up', '3.0 and up', '4.1 and up', '4.0.3 and up', '3.0 and up', '4.0 and up', '3.0 and up', '4.0 and up', 'Varies with device', '4.1 and up', '4.1 and up', '4.1 and up', '2.1 and up', 'Varies with device', '4.1 and up', '5.0 and up', '4.4 and up', '5.0 and up', '4.0 and up', '4.0.3 and up', '4.0 and up', '4.0.3 and up', '4.1 and up', '4.0 and up', '2.2 and up', 'Varies with device', '4.1 and up', '4.0 and up', 'Varies with device', '4.2 and up', '4.1 and up', '2.0.1 and up', '4.1 and up', '4.4 and up', '2.3 and up', '4.0.3 and up', '2.3 and up', '4.1 and up', '4.0 and up', '4.0 and up', '2.3.3 and up', 'Varies with device', '4.0 and up', '4.4 and up', '4.4 and up', 'Varies with device', '5.0 and up', '4.3 and up', '5.0 and up', '4.0 and up', '4.0 and up', 'Varies with device', '4.4 and up', '4.1 and up', '2.3 and up', '4.2 and up', 'Varies with device', '4.4 and up', '4.1 and up', 'Varies with device', 'Varies with device', 'Varies with device', 'Varies with device', '4.4 and up', '4.4 and up', 'Varies with device', '4.1 and up', 'Varies with device', '4.1 and up', '4.0 and up', '3.0 and up', 'Varies with device', '4.0 and up', 'Varies with device', 'Varies with device', 'Varies with device', 'Varies with device', '4.0 and up', 'Varies with device', '4.1 and up', '2.2 and up', 'Varies with device', 'Varies with device', '2.3 and up', '4.0 and up', '2.2 and up', '2.3 and up', '4.1 and up', '4.1 and up', '5.0 and up', '5.0 and up', '4.2 and up', 'Varies with device', '4.0 and up', '5.0 and up', '4.0.3 and up', '5.0 and up', '3.2 and up', '4.0.3 and up', 'Varies with device', '4.0 and up', '5.0 and up', '4.0 and up', 'Varies with device', '2.3.3 and up', '4.4 and up', '4.0 and up', '2.3 and up', 'Varies with device', 'Varies with device', '4.4 and up', '4.0.3 and up', '4.0.3 and up', '4.4 and up', '4.0 and up', '4.0 and up', '4.0 and up', 'Varies with device', '4.3 and up', 'Varies with device', 'Varies with device', '4.0 and up', '2.3.3 and up', 'Varies with device', '4.1 - 7.1.1', '2.3.3 and up', 'Varies with device', '2.3 and up', '3.0 and up', '2.2 and up', '4.0.3 and up', '2.2 and up', '4.0 and up', 'Varies with device', '4.0.3 and up', '2.3 and up', '4.1 and up', 'Varies with device', '3.2 and up', '2.3.3 and up', '4.1 and up', '5.0 and up', '4.0.3 and up', 'Varies with device', '4.0 and up', '4.0 and up', '7.0 and up', '2.3 and up', '4.3 and up', '4.1 and up', '4.0 and up', '4.0.3 and up', '4.0 and up', '4.0 and up', '4.1 and up', '2.3 and up', '2.3 and up', '4.4 and up', '4.0 and up', '4.4 and up', '4.0 and up', '4.0 and up', '4.0.3 and up', '4.4 and up', '2.2 and up', '4.0.3 and up', '4.4 and up', '5.0 and up', '4.4 and up', '7.0 and up', '2.3 and up', '4.1 and up', '2.3.3 and up', '4.4 and up', '4.0 and up', '4.1 and up', 'Varies with device', '4.4 and up', '4.0 and up', '4.1 and up', '4.1 and up', '4.0.3 and up', '4.1 and up', '4.0 and up', '2.3 and up', '5.0 and up', '4.0 and up', 'Varies with device', '4.1 and up', '2.3.3 and up', '4.0 and up', '4.0 and up', '4.0 and up', '3.1 and up', '4.4 and up', '4.1 and up', '4.0 and up', '2.3 and up', '4.3 and up', '4.1 and up', '3.0 and up', '4.1 and up', 'Varies with device', '2.3 and up', 'Varies with device', '4.1 and up', '4.1 and up', '2.3.3 and up', 'Varies with device', '4.2 and up', '4.4 and up', 'Varies with device', '4.1 and up', '4.1 and up', '4.1 and up', '4.1 and up', '2.3.3 and up', '4.1 and up', '2.1 and up', '4.1 and up', '4.1 and up', '4.1 and up', '2.3 and up', '4.3 and up', '4.0 and up', '4.1 and up', '4.1 and up', '4.1 and up', '4.0.3 and up', '4.1 and up', '2.3.3 and up', '4.2 and up', '4.1 and up', '4.0.3 and up', '4.0.3 and up', '4.1 and up', '4.4 and up', '2.2 and up', '2.3.3 and up', '4.0.3 and up', '6.0 and up', '4.0 and up', '4.0.3 and up', 'Varies with device', '4.1 and up', '4.4 and up', 'Varies with device', 'Varies with device', '4.4 and up', '4.0 and up', '4.1 and up', '4.2 and up', '7.0 and up', '4.0.3 and up', '4.1 and up', '4.1 and up', '4.0.3 and up', '4.2 and up', '4.1 and up', '4.0 and up', '4.1 and up', '4.1 and up', '4.1 and up', '2.2 and up', '4.3 and up', '4.1 and up', 'Varies with device', '4.1 and up', '4.0 and up', '2.2 and up', '4.4 and up', '4.0.3 and up', '4.0 and up', '5.0 and up', '4.0.3 and up', '4.0 and up', '4.0.3 and up', '2.3 and up', '2.3 and up', '4.1 and up', 'Varies with device', '4.1 and up', '4.1 and up', '4.1 and up', '4.1 and up', '4.1 and up', '2.3.3 and up', '4.1 and up', '2.3 and up', '4.1 and up', '2.2 and up', '4.0.3 and up', '4.0.3 and up', '4.3 and up', '4.1 and up', '4.0 and up', '2.3 and up', '4.0.3 and up', '4.0.3 and up', '4.1 and up', '4.0 and up', '4.0.3 and up', '4.4 and up', '4.4 and up', '4.1 and up', '4.0.3 and up', '4.4 and up', 'Varies with device', 'Varies with device', '4.4 and up', '4.4 and up', '4.1 and up', '4.4 and up', '4.0.3 and up', '4.0 and up', 'Varies with device', '4.0.3 and up', '4.1 and up', '2.2 and up', '5.0 and up', '4.0.3 and up', '4.0 and up', '4.4 and up', '2.3 and up', '1.6 and up', 'Varies with device', '2.2 and up', '4.1 and up', '4.0.3 and up', '4.1 and up', '4.0 and up', '3.0 and up', '4.0.3 and up', '3.0 and up', 'Varies with device', '4.4 and up', '6.0 and up', '2.3 and up', '4.1 and up', '4.1 and up', '4.1 and up', '4.1 and up', '4.1 and up', '4.1 and up', '4.1 and up', '4.1 and up', '4.4 and up', '2.3 and up', '4.1 and up', '2.3.3 and up', '4.4 and up', '4.0.3 and up', '4.1 and up', '4.1 and up', '4.1 and up', '2.3.3 and up', '4.1 and up', '2.3.3 and up', '4.0 and up', '4.0 and up', '4.1 and up', '4.1 and up', '2.3 and up', '7.0 and up', '4.0.3 and up', 'Varies with device', '4.0 and up', '4.0.3 and up', '4.0.3 and up', '2.3.3 and up', '4.0.3 and up', '1.5 and up', '4.1 and up', '4.0 and up', '4.1 and up', '4.3 and up', '4.1 and up', '4.1 and up', '2.1 and up', '5.0 and up', '4.0.3 and up', 'Varies with device', 'Varies with device', '4.1 and up', '4.3 and up', '4.4 and up', 'Varies with device', '2.3.3 and up', '4.1 and up', '5.0 and up', '4.0.3 and up', '4.2 and up', '3.0 and up', '4.0.3 and up', '2.1 and up', '5.0 and up', '5.1 and up', '4.0 and up', '2.1 and up', '5.0 and up', '4.3 and up', '4.1 and up', '2.1 and up', '4.0.3 and up', '4.1 and up', '2.3 and up', 'Varies with device', '4.0.3 and up', '4.1 and up', '6.0 and up', '5.0 and up', nan, '4.0 and up', '4.4 and up', '7.0 and up', '7.0 and up', '8.0 and up', '4.1 and up', '5.0 and up', 'Varies with device', '7.0 and up', '4.0 and up', '7.0 and up', '4.1 and up', '4.0.3 and up', '4.0.3 and up', '4.4 and up', '4.0.3 and up', '4.1 and up', '4.1 and up', '5.0 and up', '4.4 and up', '4.4 and up', '4.4 and up', '5.0 and up', '5.0 and up', '5.0 and up', '4.0.3 and up', '5.0 and up', nan, '4.1 and up', '5.0 and up', '4.4 and up', '4.0 and up', 'Varies with device', '2.3.3 and up', 'Varies with device', '4.4 and up', '2.3.3 and up', '4.4 and up', 'Varies with device', '2.3 and up', '3.0 and up', '4.4 and up', '2.3 and up', '4.0.3 and up', '2.3 and up', '4.0.3 and up', '4.1 and up', '4.0.3 and up', '4.0 and up', '2.3 and up', '4.3 and up', '4.0.3 and up', '4.0.3 and up', '2.3.3 and up', '4.4 and up', '4.3 and up', '4.3 and up', '4.4 and up', '5.0 and up', '2.3 and up', '4.0.3 and up', '5.0 and up', '4.1 and up', '4.1 and up', '4.0 and up', '2.2 and up', '4.2 and up', '4.3 and up', '3.0 and up', '2.3 and up', '2.3 and up', '4.1 and up', '4.0.3 and up', '1.5 and up', '2.3.3 and up', '4.0 and up', '4.0.3 and up', '4.0 and up', '3.1 and up', '4.4 and up', '2.3.3 and up', '4.0.3 and up', '4.0.3 and up', '4.0.3 and up', '5.0 and up', '4.1 and up', '4.3 and up', '4.0.3 and up', '2.1 and up', '4.1 and up', '4.1 and up', 'Varies with device', '2.3 and up', '2.3 and up', '4.1 and up', '4.3 and up', '6.0 and up', '4.1 and up', '4.2 and up', '4.2 and up', '7.0 and up', '4.0 and up', '4.1 and up', '2.3 and up', '2.3 and up', '4.0.3 and up', '4.1 and up', '4.1 and up', '4.1 and up', 'Varies with device', '4.4 and up', '4.0 and up', 'Varies with device', 'Varies with device', '4.1 and up', 'Varies with device', '5.0 and up', '4.1 and up', 'Varies with device', '4.0 and up', '4.4 and up', '4.3 and up', '6.0 and up', 'Varies with device', '5.0 and up', 'Varies with device', '4.4 and up', '4.0 and up', 'Varies with device', '4.0 and up', '4.0.3 and up', '4.4 and up', '2.3 and up', 'Varies with device', '5.0 and up', '5.0 and up', '2.3 and up', '4.1 and up', '4.2 and up', '4.4 and up', 'Varies with device', '2.3 and up', '5.0 and up', '2.3.3 and up', '2.0.1 and up', '5.0 and up', '4.1 and up', '4.1 and up', '6.0 and up', '4.1 and up', '4.4 and up', '4.0.3 and up', '4.1 and up', '4.0.3 and up', '4.0.3 and up', '4.1 and up', '4.0 and up', 'Varies with device', '2.1 and up', '4.1 and up', '4.0.3 and up', '4.4 and up', '4.0 and up', '2.1 and up', '2.2 and up', '4.3 and up', '4.1 and up', '4.1 and up', '4.1 and up', '1.6 and up', '5.0 and up', '4.0 and up', '4.0 and up', '2.3 and up', '2.3 and up', '4.1 and up', '5.0 and up', '4.1 and up', '2.3 and up', '5.0 and up', '4.1 and up', '2.3 and up', '4.4 and up', '4.0.3 and up', '4.0.3 and up', '4.0.3 and up', 'Varies with device', '2.3 and up', '4.1 and up', '4.2 and up', '4.0.3 and up', '5.0 and up', '4.2 and up', '4.2 and up', 'Varies with device', '4.1 and up', '4.0.3 and up', '4.0.3 and up', '3.0 and up', 'Varies with device', '6.0 and up', '4.0.3 and up', '4.1 and up', 'Varies with device', '2.3 and up', '4.0 and up', 'Varies with device', '4.1 and up', '4.1 and up', '4.0.3 and up', '4.0 and up', '4.1 and up', '4.0.3 and up', '5.0 and up', '2.3 and up', '4.1 and up', '4.4 and up', '4.0 and up', '4.0.3 and up', 'Varies with device', '4.0.3 and up', '2.3 and up', 'Varies with device', '4.0.3 and up', '2.1 and up', '4.0 and up', '2.1 and up', '4.4 and up', '3.0 and up', '4.2 and up', '4.2 and up', '4.1 and up', '4.0 and up', '2.3 and up', 'Varies with device', '2.1 and up', '4.0 and up', 'Varies with device', '4.1 and up', 'Varies with device', 'Varies with device', '4.1 and up', '4.0 and up', '7.0 and up', 'Varies with device', '4.1 and up', 'Varies with device', '4.0.3 and up', '2.3.3 and up', '4.0.3 and up', '3.0 and up', '5.0 and up', '4.0 and up', '2.2 and up', 'Varies with device', '5.0 and up', '2.3.3 and up', '4.1 and up', '4.0.3 and up', '4.4 and up', '4.1 and up', '4.0 and up', 'Varies with device', '2.3.3 and up', 'Varies with device', '2.1 and up', 'Varies with device', '4.4 and up', '4.1 and up', 'Varies with device', 'Varies with device', '4.1 and up', '4.1 and up', '4.3 and up', '4.1 and up', '4.4 and up', '4.0 and up', '4.1 and up', '4.3 and up', '4.0 and up', '4.1 and up', '4.1 and up', '4.1 and up', '4.0.3 and up', '4.0 and up', '2.3 and up', '4.1 and up', '5.0 and up', '2.3.3 and up', '4.0 and up', '4.1 and up', '4.1 and up', 'Varies with device', '4.1 and up', '4.0 and up', '4.4 and up', '4.4 and up', '4.1 and up', '2.2 and up', '4.0 and up', '4.1 and up', '3.0 and up', '4.1 and up', 'Varies with device', '2.3 and up', '4.1 and up', '4.4 and up', '4.1 and up', '2.1 and up', '2.3 and up', '4.3 and up', '4.3 and up', '1.6 and up', '5.0 and up', 'Varies with device', '4.0.3 and up', '4.0 and up', 'Varies with device', '4.1 and up', '4.1 and up', '4.1 and up', '4.4 and up', '4.0 and up', '4.0 and up', '4.0 and up', 'Varies with device', '4.1 and up', '2.3 and up', '2.3 and up', '4.1 and up', 'Varies with device', 'Varies with device', 'Varies with device', 'Varies with device', '2.2 and up', 'Varies with device', '4.0.3 and up', '4.1 and up', '2.3.3 and up', '4.0.3 and up', '4.0.3 and up', '4.0 and up', 'Varies with device', '2.2 and up', '4.0 and up', '4.1 and up', '4.0.3 and up', '4.0.3 and up', '4.0.3 and up', '5.0 and up', '4.0.3 and up', '4.1 and up', '4.4 and up', '4.4 and up', '4.0 and up', '4.0.3 and up', '4.4 and up', '4.2 and up', '4.0 and up', '4.0 and up', '4.4 and up', '4.0.3 and up', '4.0 and up', '2.3 and up', '4.0 and up', 'Varies with device', '1.6 and up', '4.0 and up', '2.3 and up', '4.4 and up', '5.0 and up', '4.0 and up', '2.3 and up', '4.2 and up', '4.0 and up', '4.4 and up', '4.0 and up', '4.0 and up', '5.0 and up', '5.0 and up', '4.1 and up', '4.2 and up', 'Varies with device', '4.1 and up', '4.4 and up', '4.1 and up', '4.0.3 and up', 'Varies with device', '4.1 and up', '4.4 and up', '3.0 and up', 'Varies with device', 'Varies with device', '4.1 and up', 'Varies with device', '4.1 and up', '4.1 and up', '4.0.3 and up', '2.3 and up', '4.0.3 and up', '4.1 and up', '4.0.3 and up', '4.1 and up', '4.1 and up', '4.1 and up', '5.0 and up', '3.0 and up', '4.1 and up', '4.0.3 and up', '4.0 and up', '4.1 and up', '4.1 and up', '2.1 and up', '4.1 and up', '4.0.3 and up', 'Varies with device', '2.2 and up', '4.1 and up', '4.1 and up', '2.3 and up', '2.2 and up', '2.2 and up', '4.4 and up', '2.3 and up', '3.0 and up', '2.2 and up', '4.0 and up', '3.0 and up', '4.0.3 and up', '4.3 and up', '4.0.3 and up', '4.0 and up', '4.2 and up', '2.3.3 and up', '4.2 and up', '3.0 and up', '4.2 and up', '4.0 and up', '4.0 and up', '4.2 and up', '2.3 and up', '4.1 and up', '4.0.3 and up', '4.1 and up', '4.1 and up', '4.0.3 and up', '4.2 and up', '4.1 and up', '2.2 and up', '4.0 and up', '4.0 and up', '4.4 and up', '4.2 and up', '4.2 and up', '4.1 and up', '4.2 and up', '4.0.3 and up', '4.0.3 and up', 'Varies with device', '2.3 and up', '4.1 and up', 'Varies with device', 'Varies with device', '5.0 and up', '4.1 and up', '4.0 and up', 'Varies with device', '4.1 and up', '4.4 and up', '2.3 and up', '5.0 and up', '4.0.3 and up', '4.0 and up', '5.0 and up', '3.0 and up', '4.0.3 and up', '4.1 and up', '4.1 and up', '4.4 and up', '4.1 and up', '4.4 and up', '4.0 and up', '4.2 and up', '5.0 and up', '4.1 and up', '4.0 and up', '2.2 and up', '4.1 and up', '3.2 and up', '2.2 and up', '4.1 and up', '4.1 and up', '4.1 and up', '2.2 and up', '2.3 and up', '4.0.3 and up', '4.1 and up', '3.0 and up', '4.1 and up', 'Varies with device', '4.0.3 and up', '5.0 and up', '1.6 and up', 'Varies with device', '4.0 and up', 'Varies with device', '4.4 and up', '4.4 and up', '4.4 and up', '2.3 and up', '2.2 and up', '3.0 and up', '2.3 and up', 'Varies with device', 'Varies with device', '2.3.3 and up', '3.0 and up', 'Varies with device', '4.0.3 and up', '2.3 and up', '2.0 and up', '2.0 and up', '2.3 and up', '2.3 and up', '4.0.3 and up', 'Varies with device', '2.3 and up', '2.2 and up', '2.3 and up', '4.4 and up', 'Varies with device', '4.1 and up', '4.0.3 and up', 'Varies with device', '2.3 and up', '2.3 and up', '4.0 and up', '2.1 and up', '2.1 and up', '4.2 and up', '4.0.3 and up', '2.1 and up', '2.3 and up', '3.1 and up', '2.2 and up', 'Varies with device', '3.0 and up', '4.3 and up', '2.3 and up', '4.1 and up', '4.0.3 and up', '4.4 and up', '4.4 and up', '2.3.3 and up', '4.1 and up', '4.0 and up', '4.0 and up', '3.0 and up', '4.0.3 and up', '2.1 and up', '4.1 and up', '5.0 and up', 'Varies with device', '4.0 and up', '4.0.3 and up', '4.0 and up', 'Varies with device', 'Varies with device', '2.2 and up', '4.0.3 and up', '4.0 and up', '4.0 and up', '4.0 and up', '4.1 and up', '3.2 and up', '4.0 and up', '4.0.3 and up', 'Varies with device', '5.0 and up', '2.3 and up', '4.1 and up', '4.4 and up', 'Varies with device', '4.0.3 and up', '4.0 and up', '4.0.3 and up', '4.3 and up', '4.4 and up', '4.0.3 and up', '2.3 and up', '2.3.3 and up', '4.0.3 and up', '4.1 and up', '4.0.3 and up', '5.0 and up', '4.1 and up', '4.1 and up', '3.0 and up', '4.4 and up', '5.0 and up', '4.1 and up', '4.0.3 and up', '4.1 and up', '4.4 and up', '4.0.3 and up', '4.0.3 and up', '4.0 and up', '4.0.3 and up', '4.0 and up', '4.2 and up', '4.4 and up', 'Varies with device', '4.4 and up', '4.0.3 and up', '4.0 and up', '1.5 and up', '4.0.3 and up', '4.0 and up', '4.0.3 and up', '2.3 and up', '5.0 and up', '4.0.3 and up', '4.0.3 and up', '4.0.3 and up', '4.3 and up', '4.3 and up', '4.0.3 and up', '2.3 and up', '4.4 and up', '5.0 and up', '4.0 and up', '2.3 and up', '4.0 and up', '4.0 and up', '4.0 and up', '4.1 and up', '4.1 and up', '4.0.3 and up', 'Varies with device', '6.0 and up', '1.6 and up', '5.0 and up', '4.1 and up', '4.1 and up', '4.1 and up', '4.1 and up', '4.4 and up', '4.0.3 and up', '4.0.3 and up', '4.1 and up', '4.0 and up', '5.0 and up', '6.0 and up', '4.0 and up', '4.0.3 and up', '2.3 and up', '4.0.3 and up', '4.1 and up', '5.0 and up', '4.4 and up', '5.0 and up', '2.2 and up', '4.1 and up', '5.0 and up', '4.0.3 and up', '4.0.3 and up', '2.3 and up', '4.0 and up', '2.1 and up', '4.1 and up', '4.0 and up', '4.1 and up', '4.3 and up', '4.0.3 and up', '4.1 and up', '4.1 and up', '4.4 and up', '2.3 and up', '4.4 and up', '2.2 and up', '3.2 and up', '2.3 and up', '2.3.3 and up', '4.1 and up', '5.0 and up', '2.2 and up', '2.3 and up', '2.2 and up', '4.1 and up', '4.3 and up', '4.1 and up', '4.1 and up', '4.0 and up', '4.1 and up', '4.0.3 and up', '4.1 and up', '4.0.3 and up', '4.1 and up', '4.0.3 and up', '3.0 and up', '2.3.3 and up', '4.1 and up', '4.4 and up', '4.0 and up', '4.0 and up', '4.1 and up', '2.3 and up', '4.0.3 and up', '4.1 and up', '2.3 and up', '4.0.3 and up', '4.1 and up', '4.0.3 and up', '4.1 and up', '2.3 and up', '4.0 and up', '2.2 and up', '4.1 and up', '4.0.3 and up', '2.2 and up', '4.4 and up', '2.3 and up', '4.0 and up', '4.1 and up', '2.3 and up', '2.3.3 and up', '4.0 and up', '4.1 and up', '4.1 and up', '4.2 and up', '4.1 and up', '4.0 and up', '4.4 and up', '4.0 and up', '4.4 and up', '4.0 and up', 'Varies with device', '4.0 and up', '2.3 and up', '2.2 and up', '4.0.3 and up', 'Varies with device', '4.1 and up', '2.3 and up', '4.0 and up', '3.0 and up', '4.0 and up', '2.2 and up', 'Varies with device', '4.1 and up', '2.2 and up', 'Varies with device', '2.3 and up', '4.0.3 and up', '4.0.3 and up', '2.2 and up', '4.1 and up', '2.3.3 and up', '4.1 and up', 'Varies with device', '2.2 and up', '2.3.3 and up', '2.3.3 and up', 'Varies with device', '4.1 and up', '4.0.3 and up', '2.3 and up', '4.4 and up', '4.4 and up', '4.3 and up', '4.0 and up', '4.0 and up', '4.1 and up', '4.4 and up', '4.0.3 and up', '4.0.3 and up', '1.6 and up', '4.0.3 and up', '4.0.3 and up', '4.0 and up', '4.2 and up', '4.4 and up', '4.1 and up', '4.2 and up', '4.0.3 and up', '4.1 and up', '4.4 and up', '4.1 and up', 'Varies with device', '4.1 and up', '4.0.3 and up', '4.0.3 and up', '4.1 and up', '4.1 and up', '4.3 and up', '4.1 and up', '4.1 and up', 'Varies with device', '4.0.3 and up', '4.1 and up', '4.1 and up', '2.3.3 and up', '2.3.3 and up', '4.1 and up', '4.4 and up', '4.0.3 and up', 'Varies with device', '4.0.3 and up', '4.2 and up', 'Varies with device', 'Varies with device', '4.2 and up', '4.4 and up', 'Varies with device', '4.0.3 and up', '4.0 and up', '4.0 and up', '5.0 and up', '4.4 and up', '4.1 and up', '4.0 and up', '4.0.3 and up', '4.0 and up', '4.1 and up', '4.0.3 and up', '4.0 and up', '4.0.3 and up', '4.1 and up', '5.0 and up', '4.0.3 and up', 'Varies with device', '4.1 and up', '4.1 and up', '4.0.3 and up', '4.0 and up', '4.1 and up', 'Varies with device', 'Varies with device', '3.0 and up', '4.0.3 and up', '4.0 and up', '4.1 and up', '4.0.3 and up', '4.1 and up', '4.1 and up', '3.0 and up', '4.1 and up', '2.3 and up', '4.0.3 and up', '4.1 and up', '2.1 and up', '4.0.3 and up', '4.1 and up', '2.3 and up', '4.1 and up', '2.3 and up', '4.0 and up', '4.4 and up', '4.1 and up', '2.3 and up', '4.0 and up', '4.4 and up', '4.0.3 and up', '2.3 and up', '6.0 and up', '2.3 and up', '4.0 and up', '3.0 and up', '4.1 and up', '2.1 and up', '4.3 and up', '3.2 and up', '4.0.3 and up', '4.1 and up', '4.0.3 and up', '4.0.3 and up', '4.4 and up', '2.3 and up', '4.1 and up', '3.1 and up', '4.1 and up', '2.3.3 and up', '4.1 and up', '4.1 and up', '4.1 and up', '1.6 and up', '4.4 and up', '4.1 and up', '4.1 and up', '4.0.3 and up', '4.1 and up', '2.0.1 and up', '4.1 and up', '2.3 and up', '4.1 and up', '4.1 and up', '4.0 and up', '4.0.3 and up', '4.1 and up', '4.4 and up', '4.0 and up', 'Varies with device', '2.3 and up', '4.0.3 and up', '4.0.3 and up', '2.3.3 and up', '4.1 and up', '4.1 and up', '4.1 and up', '4.0 and up', '4.0.3 and up', 'Varies with device', '4.4 and up', '1.6 and up', 'Varies with device', '4.0.3 and up', 'Varies with device', 'Varies with device', '4.0.3 and up', '4.1 and up', '4.0.3 and up', '4.0 and up', '4.0.3 and up', '4.0.3 and up', '4.2 and up', '4.2 and up', '7.0 and up', '2.3 and up', '5.0 and up', '4.4 and up', '4.0.3 and up', '4.4 and up', '4.0 and up', '4.2 and up', '4.0.3 and up', 'Varies with device', '7.0 and up', '7.0 and up', '4.1 and up', 'Varies with device', '5.0 and up', '4.1 and up', '4.4 and up', 'Varies with device', '4.0 and up', '7.0 and up', '4.3 and up', '7.0 and up', '4.0 and up', '7.0 and up', '4.0 and up', '7.0 and up', '5.0 and up', '4.1 and up', '7.0 and up', '7.0 and up', '7.0 and up', '4.0 and up', '4.0.3 and up', '2.1 and up', '7.0 and up', '4.0 and up', '7.0 and up', '7.0 and up', '4.1 and up', '7.0 and up', '4.2 and up', '7.0 and up', '4.4 and up', '4.1 and up', '4.1 and up', '4.1 and up', 'Varies with device', '4.1 and up', '4.0 and up', '4.0 and up', '2.3 and up', 'Varies with device', '4.2 and up', '4.0 and up', '2.3 and up', '4.0.3 and up', '4.0 and up', '4.2 and up', 'Varies with device', '4.1 and up', '4.0.3 and up', 'Varies with device', 'Varies with device', 'Varies with device', 'Varies with device', '4.0.3 and up', '5.0 and up', '2.3.3 and up', '4.2 and up', '4.1 and up', 'Varies with device', 'Varies with device', 'Varies with device', 'Varies with device', '4.1 and up', '4.1 and up', 'Varies with device', '2.1 and up', '4.1 and up', '4.1 and up', '4.1 and up', 'Varies with device', 'Varies with device', 'Varies with device', '5.0 and up', '3.0 and up', '4.0.3 and up', '2.3 and up', '2.3 and up', '4.4 and up', 'Varies with device', '4.3 and up', '4.1 and up', 'Varies with device', '2.3 and up', '3.0 and up', '4.4 and up', '2.3 and up', '2.3 and up', '3.0 and up', '4.0.3 and up', '2.3 and up', '4.2 and up', '4.4 and up', '4.2 and up', '4.1 and up', '2.3 and up', '4.1 and up', '4.4 and up', '4.2 and up', '4.1 and up', '2.3 and up', '4.1 and up', '4.1 and up', '2.3 and up', '2.3 and up', '2.3.3 and up', '4.2 and up', '2.3 and up', '4.0.3 and up', '4.0 and up', 'Varies with device', '4.0.3 and up', '2.3 and up', '5.0 and up', '5.0 and up', '2.3 and up', '4.1 and up', '4.1 and up', '2.3 and up', '2.3.3 and up', '4.4 and up', '4.1 and up', '4.1 and up', 'Varies with device', '4.3 and up', '4.1 and up', '4.1 and up', '4.0 and up', '4.0 and up', '4.2 and up', '4.1 and up', '5.0 and up', '4.0.3 and up', '4.0.3 and up', '4.0 and up', '4.0.3 and up', '4.0 and up', '4.3 and up', '4.2 and up', '4.0.3 and up', '4.0 and up', '4.0 and up', '4.0 and up', '4.1 and up', 'Varies with device', 'Varies with device', '4.1 and up', '4.0 and up', '4.1 and up', '4.4 and up', 'Varies with device', '4.1 and up', '4.1 and up', '4.3 and up', '4.1 and up', '2.3 and up', '4.0 and up', '4.3 and up', '2.3.3 and up', '4.0 and up', '4.1 and up', '2.3.3 and up', '4.1 and up', '4.0 and up', '4.1 and up', '4.0 and up', '4.1 and up', '4.1 and up', '4.1 and up', '4.3 and up', '1.6 and up', '2.2 and up', '4.0.3 and up', '4.2 and up', '4.1 and up', '4.0.3 and up', '3.0 and up', '2.3.3 and up', '4.1 and up', '4.0.3 and up', '4.0 and up', '5.0 and up', '4.1 and up', 'Varies with device', '2.3 and up', '4.3 and up', '4.3 and up', '5.0 and up', '4.3 and up', '4.1 and up', '2.3 and up', '4.0.3 and up', '4.3 and up', '4.3 and up', '4.3 and up', 'Varies with device', '6.0 and up', '4.3 and up', '4.3 and up', 'Varies with device', '4.0 and up', '2.3 and up', '4.0.3 and up', '4.3 and up', '4.1 and up', 'Varies with device', '4.1 and up', '3.0 and up', '4.0 and up', 'Varies with device', 'Varies with device', '4.3 and up', '3.0 and up', '4.1 and up', '4.3 and up', 'Varies with device', 'Varies with device', '5.0 and up', '2.3.3 and up', '4.1 and up', '2.3.3 and up', '2.2 and up', '4.4 and up', '4.1 and up', '4.0 and up', '4.1 and up', '3.0 and up', '3.0 and up', '4.2 and up', '4.1 and up', '4.1 and up', '4.4 and up', '3.1 and up', '4.1 and up', '4.1 and up', '2.1 and up', '4.0.3 and up', '4.3 and up', '2.3.3 and up', '4.1 and up', '2.3 and up', '4.0.3 and up', '4.1 and up', '4.0 and up', '4.2 and up', '4.0 and up', '4.2 and up', '4.0.3 and up', '4.0 and up', '2.3 and up', '2.3 and up', '4.1 and up', '4.1 and up', '2.1 and up', '5.0 and up', '2.3 and up', '2.3 and up', '4.0 and up', 'Varies with device', '2.2 and up', 'Varies with device', '4.0 and up', '4.2 and up', 'Varies with device', '4.1 and up', '4.2 and up', '4.1 and up', '4.0.3 and up', '4.0 and up', 'Varies with device', '4.0 and up', '4.0 and up', '2.2 and up', '4.1 and up', '4.0.3 and up', '5.0 and up', '4.4 and up', '4.0.3 and up', '5.0 and up', '4.4 and up', '5.0 and up', '4.1 and up', '5.0 and up', '4.1 and up', '2.2 and up', '4.1 and up', '4.2 and up', '4.1 and up', '3.2 and up', 'Varies with device', '4.1 and up', '4.2 and up', '4.1 and up', '4.1 and up', '4.4 and up', '4.0 and up', '4.0 and up', '4.1 and up', '4.2 and up', '4.1 and up', '4.4 and up', '2.3 and up', '4.4 and up', '4.1 and up', '3.0 and up', '2.3.3 and up', '4.1 and up', '4.0 and up', '4.1 and up', '4.0.3 and up', '4.1 and up', '4.0.3 and up', '3.2 and up', '4.1 and up', '4.4 and up', '2.1 and up', '3.0 and up', '4.0 and up', '2.3 and up', '4.0.3 and up', '4.0 and up', '2.3 and up', '2.3 and up', '4.0.3 and up', '4.1 and up', '2.3 and up', '2.3 and up', '2.3 and up', '4.0.3 and up', '4.4 and up', '4.1 and up', '1.6 and up', '2.3 and up', '5.0 and up', '2.2 and up', '2.3 and up', '4.2 and up', '4.0 and up', '4.2 and up', '4.0.3 and up', '2.3 and up', '4.1 and up', '4.0 and up', '4.1 and up', '5.0 and up', '4.0.3 and up', 'Varies with device', '4.1 and up', '4.1 and up', '4.0.3 and up', '2.3 and up', '4.0.3 and up', '4.4 and up', '2.3 and up', '4.1 and up', '2.0 and up', '4.0.3 and up', '4.0.3 and up', 'Varies with device', '2.2 and up', '4.1 and up', '4.1 and up', '4.0 and up', '4.4W and up', '3.2 and up', '4.0 and up', '4.0.3 and up', '5.0 and up', '4.0 and up', '2.1 and up', '5.0 and up', '4.0.3 and up', '4.0 and up', 'Varies with device', '4.0 and up', '4.1 and up', '4.4 and up', '4.4 and up', '4.1 and up', '4.4 and up', '4.0 and up', '4.4 and up', 'Varies with device', '4.2 and up', '2.2 and up', '4.1 and up', '4.0.3 and up', '4.1 and up', '4.1 and up', '5.0 and up', '4.0 and up', 'Varies with device', '4.1 and up', '4.0 and up', '4.2 and up', '4.1 and up', '4.0 and up', '4.2 and up', '4.0.3 and up', '4.1 and up', '4.1 and up', '2.3 and up', '3.0 and up', '4.0.3 and up', '3.0 and up', '4.3 and up', '4.1 and up', '4.1 and up', '4.0.3 and up', '4.2 and up', '4.3 and up', '4.0.3 and up', '4.0.3 and up', '4.0.3 and up', '4.0 and up', '4.0 and up', '2.0 and up', '4.1 and up', 'Varies with device', '4.0 and up', '4.0 and up', '3.0 and up', '4.4 and up', '4.0 and up', '2.3.3 and up', '4.3 and up', '4.1 and up', '4.3 and up', '4.3 and up', '3.2 and up', '2.0 and up', '4.0.3 and up', '4.1 and up', '4.1 and up', '4.0.3 and up', '4.1 and up', '2.3 and up', 'Varies with device', '4.4 and up', '4.0.3 and up', '4.1 and up', '4.4 and up', '4.0.3 and up', '4.1 and up', '2.3 and up', '4.0 and up', '4.2 and up', '4.0 and up', '4.0 and up', '4.0 and up', '2.2 and up', '4.1 and up', '3.2 and up', '4.1 and up', 'Varies with device', '4.0 and up', '4.0 and up', '5.0 and up', '2.3 and up', '4.0.3 and up', '2.3 and up', '4.0.3 and up', '4.1 and up', '4.1 and up', '4.3 and up', '4.1 and up', '4.4 and up', '4.0.3 and up', '4.3 and up', '4.0 and up', '4.0 and up', '4.4 and up', '4.0 and up', '4.0 and up', '2.3.3 and up', '2.3.3 and up', '4.0.3 and up', '4.0 and up', '4.0.3 and up', '4.0.3 and up', '3.0 and up', '4.0 and up', '4.2 and up', '4.1 and up', '4.3 and up', '2.3.3 and up', '3.0 and up', '2.3.3 and up', '4.1 and up', '2.3 and up', '4.1 and up', '2.3 and up', '3.0 and up', '3.0 and up', '4.2 and up', '2.3 and up', '2.3 and up', '3.0 and up', '3.0 and up', '2.2 and up', 'Varies with device', '2.2 and up', '2.3.3 and up', '2.3 and up', '4.0 and up', '4.4 and up', '4.0.3 and up', '4.0.3 and up', '5.0 and up', '4.1 and up', '4.4 and up', '4.4 and up', '4.1 and up', '4.1 and up', '4.1 and up', '4.4 and up', '5.0 and up', '4.1 and up', '4.1 and up', '4.1 and up', '2.3 and up', '4.1 and up', '4.0 and up', '4.0.3 and up', 'Varies with device', '4.1 and up', '4.4 and up', 'Varies with device', '3.2 and up', '2.3 and up', '2.3 and up', 'Varies with device', '2.3.3 and up', '4.0.3 and up', '3.0 and up', '4.0.3 and up', '3.0 and up', '4.1 and up', '4.0 and up', '4.0 and up', '4.1 and up', '2.3 and up', '4.2 and up', '4.0 and up', '4.1 and up', '4.0 and up', '5.0 and up', '4.1 and up', 'Varies with device', '4.3 and up', '2.3.3 and up', '4.4 and up', '4.0.3 and up', '4.0.3 and up', 'Varies with device', '4.4 and up', '3.0 and up', '4.1 and up', 'Varies with device', '4.4 and up', '4.1 and up', '2.1 and up', '4.1 and up', '4.0.3 and up', 'Varies with device', 'Varies with device', '4.0.3 and up', 'Varies with device', '5.0 and up', '4.0 and up', '4.4 and up', '4.1 and up', '4.0 and up', '5.0 and up', '4.0 and up', '4.4 and up', '4.2 and up', '2.3 and up', '4.0.3 and up', '4.0 and up', '4.0.3 and up', '4.2 and up', '4.2 and up', '2.3 and up', '4.1 and up', '4.0.3 and up', '4.0 and up', '4.0 and up', '4.4 and up', '4.1 and up', '4.4 and up', '4.0 and up', '2.2 and up', '4.0.3 and up', '4.4 and up', '2.3 and up', '5.0 and up', '4.4 and up', '4.1 and up', '5.1 and up', '4.1 and up', '4.3 and up', '4.1 and up', '4.1 and up', '4.4 and up', '3.0 and up', 'Varies with device', '4.0 and up', '6.0 and up', '2.0 and up', '4.0.3 and up', '4.3 and up', '4.1 and up', '4.0 and up', '4.0.3 and up', '4.1 and up', '4.1 and up', '4.1 and up', 'Varies with device', 'Varies with device', 'Varies with device', '4.1 and up', '4.1 and up', '4.1 and up', '4.2 and up', 'Varies with device', 'Varies with device', '2.3 and up', '2.3.3 and up', '4.0.3 and up', '4.1 and up', '4.0.3 and up', 'Varies with device', '4.0 and up', '4.1 and up', '4.1 and up', '4.4 and up', '4.3 and up', '4.0 and up', '4.0 and up', '4.0 and up', '2.3.3 and up', '5.0 and up', '4.4 and up', '4.0 and up', '3.0 and up', '4.0 and up', '4.1 and up', '4.0 and up', '2.3.3 and up', '4.0 and up', '4.0 and up', '4.0 and up', '4.3 and up', '2.3.3 and up', '4.0.3 and up', '4.1 and up', '2.3.3 and up', '3.0 and up', '4.1 and up', '2.3 and up', '5.0 and up', '2.3 and up', '2.2 and up', '4.0 and up', '2.3.3 and up', '4.0.3 and up', '4.0 and up', '4.0.3 and up', '2.3 and up', '2.3 and up', '4.1 and up', 'Varies with device', '4.0.3 and up', '4.4 and up', '2.2 and up', '4.0.3 and up', '4.1 and up', '4.4 and up', '4.0 and up', '2.3 and up', '4.0.3 and up', '5.0 and up', '4.2 and up', 'Varies with device', '2.3 and up', '4.1 and up', '4.0.3 and up', '3.0 and up', '4.0 and up', '3.0 and up', '4.1 and up', '4.0.3 and up', '2.3 and up', '4.0 and up', '4.0 and up', '2.2 and up', '4.4 and up', '2.3 and up', '4.0 and up', '4.1 and up', '4.4 and up', '2.2 and up', '4.1 and up', '2.1 and up', '4.4 and up', '4.0.3 and up', '2.3.3 and up', '4.1 and up', '2.2 and up', '4.0.3 and up', '4.0 and up', '2.3.3 and up', '4.1 and up', 'Varies with device', '2.3.3 and up', '4.1 and up', '4.0.3 and up', '4.0.3 and up', '2.3.3 and up', '4.0.3 and up', '4.0 and up', '4.1 and up', '2.3.3 and up', '2.3 and up', '4.0 and up', '3.0 and up', '2.3.3 and up', '4.2 and up', '2.3 and up', 'Varies with device', '4.1 and up', '4.3 and up', '2.3 and up', '2.3.3 and up', '2.1 and up', '2.1 and up', '5.0 and up', '4.0 and up', 'Varies with device', '4.0.3 and up', '2.3 and up', '2.1 and up', '2.3.3 and up', '4.0.3 and up', 'Varies with device', '4.2 and up', '2.3 and up', '4.0 and up', '4.0.3 and up', '4.0.3 and up', '4.4 and up', '4.1 and up', '5.0 and up', '6.0 and up', '4.0 and up', '4.4 and up', '4.1 and up', 'Varies with device', '4.1 and up', '5.0 and up', '4.4 and up', '4.1 and up', '4.0.3 and up', '4.1 and up', '4.1 and up', '4.1 and up', '4.0.3 and up', 'Varies with device', '4.4 and up', '4.3 and up', '4.1 and up', '4.1 and up', '4.4 and up', '4.4 and up', '4.1 and up', 'Varies with device', '4.4 and up', '4.1 and up', '4.1 and up', '1.5 and up', '5.0 and up', '1.6 and up', '4.0.3 and up', '1.6 and up', 'Varies with device', '1.6 and up', '4.0 and up', '1.6 and up', '4.3 and up', '1.6 and up', '1.6 and up', '4.4 and up', '1.6 and up', '1.6 and up', '4.0.3 and up', '1.6 and up', '1.6 and up', '1.6 and up', '1.6 and up', '1.6 and up', '4.0 and up', '1.6 and up', 'Varies with device', '1.6 and up', '4.0 and up', '1.6 and up', '1.6 and up', '1.6 and up', '4.0 and up', '1.6 and up', '1.6 and up', '1.6 and up', '4.1 and up', 'Varies with device', '4.1 and up', '4.1 and up', '4.0.3 and up', '4.0 and up', '4.0.3 and up', '4.0.3 and up', '4.0.3 and up', '4.1 and up', '4.1 and up', '5.0 and up', '2.3 and up', '2.1 and up', '4.1 and up', '2.3.3 and up', '4.0 and up', '4.0.3 and up', '5.0 and up', '4.1 and up', '4.0.3 and up', '4.0.3 and up', '4.2 and up', '4.0.3 and up', '4.1 and up', '4.0.3 and up', '4.0.3 and up', '4.0 and up', '4.0.3 and up', '4.2 and up', '2.3 and up', '5.0 and up', '8.0 and up', '4.1 and up', '2.2 and up', '4.1 and up', '2.2 and up', '4.0 and up', '2.3.3 and up', '2.3.3 and up', '4.0.3 and up', '4.1 and up', '4.0 and up', '4.4 and up', '4.4 and up', '4.1 and up', '4.2 and up', '4.4 and up', '2.1 and up', '4.0 and up', '4.3 and up', '5.0 and up', '2.2 and up', '5.0 and up', '4.0 and up', 'Varies with device', '4.0.3 and up', '3.0 and up', '4.4 and up', '3.0 and up', '4.0 and up', '4.0.3 and up', '4.0.3 and up', '4.1 and up', 'Varies with device', '4.3 and up', '4.1 and up', '4.4 and up', '5.0 and up', '4.0 and up', '4.0.3 and up', 'Varies with device', 'Varies with device', '4.1 and up', '2.3.3 and up', '4.0 and up', '4.0 and up', '4.0 and up', '2.3 and up', '2.3.3 and up', '4.4 and up', '4.4 and up', '2.3.3 and up', '4.0 and up', '7.0 and up', '4.0.3 and up', '4.0 and up', '4.0 and up', 'Varies with device', 'Varies with device', '4.1 and up', '5.0 and up', '4.0.3 and up', '2.3 and up', 'Varies with device', '4.1 and up', '3.0 and up', '4.0.3 and up', 'Varies with device', '4.1 and up', '2.3 and up', '4.4 and up', '2.2 and up', '5.0 and up', '4.1 and up', '4.1 and up', '3.0 and up', '4.1 and up', '5.0 and up', '4.0 and up', '5.0 and up', 'Varies with device', '2.2 and up', '4.1 and up', '2.1 and up', '4.0.3 and up', '4.1 and up', '2.3 and up', '4.1 and up', '4.1 and up', '4.0.3 and up', '4.1 and up', '2.0 and up', '2.3 and up', '4.1 and up', '4.0.3 and up', '4.1 and up', '4.1 and up', '4.1 and up', 'Varies with device', '4.1 and up', '4.1 and up', '4.0.3 and up', '4.0 and up', 'Varies with device', '4.1 and up', '2.1 and up', '4.3 and up', '4.0.3 and up', '2.3 and up', '2.2 and up', 'Varies with device', '4.0.3 and up', '4.4 and up', '2.2 and up', '4.0.3 and up', '4.0 and up', '4.0.3 and up', '2.0 and up', '4.0 and up', '4.4 and up', '4.1 and up', '4.4 and up', '4.0.3 and up', '4.4 and up', '2.3 and up', 'Varies with device', '4.1 and up', '2.3 and up', '4.1 and up', '2.2 and up', '4.0.3 and up', '4.3 and up', '4.0 and up', '4.2 and up', '4.3 and up', '4.2 and up', '6.0 and up', '1.6 and up', '2.3.3 and up', '1.6 and up', '2.2 and up', '3.0 and up', '2.3 and up', '2.2 and up', '4.1 and up', '4.1 and up', '2.2 and up', '5.0 and up', '4.4 and up', '3.0 and up', '4.0.3 and up', '4.4 and up', '4.2 and up', '4.1 and up', '4.0 and up', '4.1 and up', '4.1 and up', '4.3 and up', '3.0 and up', '4.1 and up', '4.3 and up', '2.3.3 and up', '1.6 and up', 'Varies with device', '1.6 and up', '4.1 and up', '4.1 and up', '4.0 and up', '4.2 and up', '2.2 and up', '4.1 and up', '4.4 and up', '4.1 and up', '3.0 and up', '4.0.3 and up', '4.1 and up', '2.3.3 and up', '4.0.3 and up', '4.1 and up', '4.0 and up', '4.0.3 and up', '4.0.3 and up', '4.4 and up', '4.3 and up', '3.0 and up', '4.0 and up', '4.4 and up', '4.0 and up', '4.1 and up', 'Varies with device', '4.0.3 and up', '4.2 and up', '3.0 and up', '3.0 and up', '4.0 and up', '3.0 and up', '4.1 and up', '4.0.3 and up', '4.1 and up', '4.1 and up', '5.0 and up', '2.1 and up', '4.0.3 and up', 'Varies with device', '4.1 and up', '4.1 and up', '4.1 and up', '4.0 and up', '4.1 and up', '4.3 and up', '5.0 and up', '4.0.3 and up', '4.2 and up', '2.3 and up', '4.0 and up', '4.3 and up', '2.3 and up', '4.0 and up', '4.4 and up', '4.0.3 and up', '4.0 and up', '4.0 and up', '2.2 and up', '4.0 and up', '4.4 and up', '4.0 and up', '5.0 and up', '2.2 and up', '2.3 and up', '4.0 and up', '2.3 and up', '4.4 and up', '4.0 and up', '4.4 and up', '4.0 and up', '2.3 and up', '5.0 and up', '4.0 and up', '4.1 and up', '3.0 and up', '4.4 and up', '4.0 and up', '4.0.3 and up', '2.1 and up', '4.0 and up', '2.3.3 and up', '4.0 and up', '2.2 and up', '7.0 and up', '7.0 and up', '4.0.3 and up', '4.2 and up', '2.2 and up', '4.0.3 and up', '5.0 and up', '4.0.3 and up', '4.2 and up', '4.4 and up', '4.4 and up', '4.1 and up', '5.0 and up', '2.3 and up', '4.0.3 and up', '2.3 and up', '4.1 and up', '2.2 and up', '4.0 and up', '2.3 and up', '4.1 and up', '4.2 and up', '4.0.3 and up', '5.0 and up', '4.0 and up', '4.1 and up', '4.1 and up', '3.0 and up', '2.3.3 and up', '4.1 and up', 'Varies with device', '4.0.3 and up', '2.3 and up', '2.3 and up', '4.1 and up', 'Varies with device', '4.0 and up', '4.1 and up', '2.3 and up', '4.4 and up', '4.0 and up', '4.4 and up', '4.1 and up', '4.0.3 and up', '4.2 and up', '4.4 and up', '4.3 and up', '2.3 and up', '4.0.3 and up', '4.1 and up', '4.1 and up', '4.1 and up', '4.1 and up', '4.0.3 and up', '4.1 and up', '4.3 and up', '4.1 and up', '4.3 and up', '4.0 and up', '4.4 and up', '5.1 and up', '4.1 and up', '2.3 and up', '3.0 and up', '4.4 and up', '2.3 and up', '4.1 and up', '4.4 and up', '4.1 and up', '4.0 and up', '4.1 and up', '5.0 and up', '4.1 and up', '4.0.3 and up', '4.1 and up', '4.4 and up', '4.0.3 and up', '2.3.3 and up', '2.3 and up', '4.1 and up', '4.1 and up', '4.1 and up', '4.1 and up', '4.0 and up', '4.1 and up', '4.1 and up', '2.3.3 and up', '4.4 and up', '4.1 and up', '4.1 and up', '4.1 and up', '4.0.3 and up', '5.0 and up', '4.1 and up', '4.1 and up', '4.4 and up', '4.1 and up', '2.3.3 and up', '4.0.3 and up', '4.0 and up', '4.1 and up', '4.0 and up', '4.0 and up', '4.1 and up', '4.0 and up', '4.0 and up', '5.0 and up', '4.0 and up', '4.0 and up', '4.1 and up', '4.0 and up', 'Varies with device', '4.1 and up', 'Varies with device', '1.6 and up', '5.0 and up', '2.3.3 and up', '4.4 and up', '4.0 and up', '4.0 and up', '2.2 and up', '1.6 and up', '2.3.3 and up', '5.0 and up', '4.1 and up', '4.1 and up', '2.2 and up', '4.4 and up', '4.0.3 and up', '3.0 and up', '4.0 and up', '4.0.3 and up', '4.0.3 and up', '4.0 and up', 'Varies with device', '4.0.3 and up', '2.3 and up', '4.0.3 and up', '4.1 and up', '4.0.3 and up', '4.4 and up', '3.0 and up', '2.2 and up', '3.2 and up', '4.0 and up', '4.1 and up', '4.1 and up', '4.4 and up', '4.2 and up', '4.1 and up', '4.0 and up', '4.4 and up', '4.0 and up', '4.0.3 and up', '4.1 and up', '4.4 and up', '4.1 and up', '4.0 and up', '4.1 and up', '4.0 and up', '4.0.3 and up', '4.0.3 and up', '5.0 and up', '4.0.3 and up', '4.0 and up', '2.1 and up', '4.2 and up', '7.0 and up', '3.0 and up', '4.0 and up', '4.0 and up', '4.1 and up', '4.1 and up', '4.0 and up', '4.0 and up', '4.0 and up', '4.0 and up', '4.1 and up', '2.3 and up', '4.0 and up', '4.1 and up', '2.3.3 and up', '4.0 and up', '4.4 and up', '4.1 and up', '4.0.3 and up', '5.0 and up', '2.0.1 and up', '4.4 and up', '4.1 and up', '4.1 and up', '4.0.3 and up', '2.3.3 and up', '2.3 and up', '4.0.3 and up', '2.3.3 and up', '4.4 and up', '4.0 and up', '2.3 and up', '4.1 and up', '4.0 and up', '4.1 and up', '1.6 and up', '5.0 and up', '4.0 and up', '5.0 and up', '1.6 and up', '4.4 and up', '4.1 and up', 'Varies with device', '2.1 and up', '4.1 and up', '4.0.3 and up', '2.2 and up', '4.1 and up', '2.3 and up', '4.1 and up', '2.3.3 and up', '4.0 and up', '2.3 and up', '4.0 and up', '4.0 and up', '4.0 and up', '4.3 and up', '4.0 and up', '4.1 and up', '5.0 and up', '4.1 and up', '4.1 and up', '4.0.3 and up', '2.3 and up', '4.0.3 and up', '4.0 and up', '4.0 and up', '2.3 and up', '2.3 and up', '2.3 and up', '4.0 and up', '4.3 and up', '2.3 and up', '2.3 and up', '4.1 and up', '4.0.3 and up', '4.0.3 and up', 'Varies with device', '4.0.3 and up', '4.0 and up', '2.3 and up', '5.0 and up', '4.1 and up', '3.0 and up', '4.1 and up', '3.0 and up', '2.3 and up', '4.4 and up', '4.0.3 and up', '4.0.3 and up', '4.0.3 and up', '4.2 and up', '2.3 and up', '4.1 and up', '3.0 and up', '4.1 and up', '4.0 and up', '4.4 and up', 'Varies with device', 'Varies with device', '4.1 and up', '4.0 and up', '4.4 and up', '5.0 and up', '4.0.3 and up', 'Varies with device', '4.1 and up', '4.2 and up', 'Varies with device', '4.2 and up', '2.0 and up', '4.0 and up', '5.0 and up', '4.1 and up', '4.0 and up', 'Varies with device', '4.1 and up', 'Varies with device', 'Varies with device', '2.3 and up', '4.4 and up', 'Varies with device', 'Varies with device', '4.1 and up', '4.0 and up', '5.0 and up', '4.1 and up', '4.1 and up', '4.4 and up', '4.0 and up', '5.0 and up', 'Varies with device', '5.0 and up', '4.0 and up', '4.1 and up', '4.1 and up', '4.0.3 and up', '2.3 and up', '4.1 and up', '4.0.3 and up', '4.0 and up', '4.0.3 and up', '2.0 and up', '5.0 and up', '2.3.3 and up', '2.3 and up', '4.4 and up', '4.0 and up', '1.6 and up', '2.3 and up', '4.4 and up', '5.0 and up', '4.2 and up', '4.1 and up', '2.0.1 and up', '2.3 and up', '3.0 and up', '3.0 and up', '4.4 and up', '2.3.3 and up', '4.0 and up', '4.1 and up', '4.1 and up', '4.0 and up', '4.0.3 and up', '2.3 and up', '2.1 and up', '4.1 and up', '4.1 and up', '2.3 and up', '1.6 and up', '2.3.3 and up', '4.1 and up', '4.0.3 and up', '4.0.3 and up', '4.0.3 and up', '4.1 and up', '4.0.3 and up', 'Varies with device', '4.0 and up', '4.0.3 and up', '4.0.3 and up', '4.1 and up', '4.0.3 and up', '5.0 and up', '4.4 and up', '4.1 and up', '2.3 and up', '4.0 and up', 'Varies with device', '2.3.3 and up', '4.1 and up', '2.3 and up', '4.1 and up', '4.1 and up', '4.1 and up', '2.1 and up', '4.3 and up', '2.3 and up', '4.1 and up', '2.1 and up', '5.0 and up', '2.3 and up', '5.0 and up', '3.0 and up', '4.1 and up', '2.1 and up', '4.1 and up', '2.2 and up', '4.1 and up', '1.5 and up', '2.2 and up', '4.0.3 and up', '4.0.3 and up', '4.3 and up', '2.1 and up', '4.1 and up', '4.0 and up', 'Varies with device', '2.0 and up', '4.2 and up', '4.1 and up', '4.1 and up', '4.1 and up', '4.1 and up', '4.0 and up', '4.1 and up', '4.1 and up', '4.0 and up', 'Varies with device', '4.1 and up', '4.1 and up', '2.3.3 and up', '5.0 and up', '4.0.3 and up', '4.3 and up', '2.3.3 and up', '4.0 and up', '4.1 and up', '4.1 and up', '4.1 and up', '4.1 and up', '5.0 and up', '2.3.3 and up', '4.0 and up', '4.2 and up', '4.0.3 and up', '4.1 and up', '4.0 and up', 'Varies with device', '4.0.3 and up', '4.0 and up', 'Varies with device', '4.0 and up', '4.0.3 and up', '2.3 and up', '4.0 and up', '2.3 and up', '4.2 and up', '4.0 and up', '2.3 and up', '4.0 and up', '4.0 and up', '4.0 and up', '2.3.3 and up', '2.3 and up', 'Varies with device', '4.0 and up', '5.0 and up', 'Varies with device', '2.2 and up', '4.0 and up', '4.2 and up', '2.2 and up', '4.0.3 and up', '4.3 and up', '4.0 and up', '4.0 and up', '2.3 and up', '4.0 and up', '4.0 and up', '4.0 and up', '4.1 and up', '4.1 and up', '5.0 - 6.0', '4.0 and up', '4.1 and up', '1.6 and up', '2.3.3 and up', '4.0 and up', 'Varies with device', '1.6 and up', '4.0 and up', '5.0 and up', 'Varies with device', '4.4 and up', '5.1 and up', '4.1 and up', '4.1 and up', '4.4 and up', '5.1 and up', '4.0.3 and up', '4.3 and up', '4.0.3 and up', '4.3 and up', '4.0 and up', '2.3 and up', '2.3.3 and up', '4.1 and up', '5.0 and up', '4.4 and up', '4.1 and up', '5.1 and up', '4.1 and up', '4.4 and up', '4.1 and up', '2.3.3 and up', '4.1 and up', '5.0 and up', '5.0 and up', '4.1 and up', '4.4 and up', '2.3 and up', '4.0.3 and up', '5.1 and up', '4.4 and up', '2.3.3 and up', 'Varies with device', '4.4 and up', '4.0 and up', '4.1 and up', '4.0 and up', '2.3.3 and up', '4.1 and up', '4.1 and up', '4.0 and up', '5.0 and up', '5.0 and up', '2.3 and up', '4.0 and up', '4.1 and up', '4.4 and up', '4.4 and up', '4.3 and up', '4.1 and up', '4.2 and up', '4.1 and up', '4.0.3 and up', '4.2 and up', '2.0 and up', 'Varies with device', '5.0 and up', '4.1 and up', '4.4 and up', '4.1 and up', '5.0 and up', '4.0.3 and up', '2.3 and up', '6.0 and up', '2.3 and up', '5.0 and up', '4.1 and up', '4.1 and up', '5.0 and up', '4.0.3 and up', 'Varies with device', '4.0 and up', '4.0 and up', '2.3.3 and up', '1.6 and up', '4.0.3 and up', '4.1 and up', '4.1 and up', '2.3 and up', '4.1 and up', '4.1 and up', '4.0.3 and up', '4.1 and up', '4.2 and up', '4.0.3 and up', '4.1 and up', '4.1 and up', '4.4 and up', '4.0.3 and up', '4.3 and up', '3.0 and up', '4.0 and up', '2.3.3 and up', '3.0 and up', '4.0.3 and up', '5.0 and up', '4.2 and up', '4.0 and up', '4.1 and up', '4.0.3 and up', '3.0 and up', '4.0.3 and up', '4.1 and up', '4.0.3 and up', '4.1 and up', '4.1 and up', '5.0 and up', '4.0 and up', '4.1 and up', '4.4 and up', '5.0 and up', '4.2 and up', '3.0 and up', '4.2 and up', '5.0 and up', '4.0 and up', '4.1 and up', '4.1 and up', '4.4 and up', '4.0.3 and up', '4.0.3 and up', '2.3.3 and up', 'Varies with device', '2.3 and up', '4.4 and up', '4.4 and up', '4.1 and up', '4.1 and up', '4.4 and up', '2.3.3 and up', '3.0 and up', '2.1 and up', '4.0.3 and up', '2.3 and up', '4.0.3 and up', '4.4 and up', '4.0.3 and up', '2.3 and up', 'Varies with device', '2.3.3 and up', '4.1 and up', '4.0 and up', '4.0.3 and up', '4.3 and up', '4.0.3 and up', '5.0 and up', '4.4 and up', '4.1 and up', '4.0 and up', '4.0 and up', '2.3 and up', '4.1 and up', '4.1 and up', '4.1 and up', '4.0.3 and up', '4.1 and up', '4.1 and up', '4.0.3 and up', '4.1 and up', '2.3.3 and up', '4.1 and up', '4.0 and up', '3.0 and up', '4.1 and up', '4.2 and up', '4.0.3 and up', '4.2 and up', '4.1 and up', '4.0 and up', '4.0.3 and up', '4.1 and up', '2.3 and up', '3.0 and up', '4.0.3 and up', '4.1 and up', '4.0 and up', '3.0 and up', '2.3.3 and up', '4.4 and up', '4.1 and up', '4.0.3 and up', '4.1 and up', '4.4 and up', '4.1 and up', '4.1 and up', '4.0 and up', '4.0 and up', '4.1 and up', '2.3.3 and up', '2.3 and up', 'Varies with device', '4.1 and up', '2.0 and up', '2.3 and up', '4.1 and up', '4.1 and up', '3.0 and up', '4.1 and up', '5.0 and up', '4.1 and up', '2.3 and up', '4.0 and up', '3.0 and up', '2.2 and up', '4.0.3 and up', '4.1 and up', '4.0.3 and up', '2.3 and up', '2.2 and up', '4.4 and up', '2.3.3 and up', '2.3 and up', '4.1 and up', '2.3 and up', '1.5 and up', '3.0 and up', '4.4 and up', '4.1 and up', '2.3 and up', '4.1 and up', '4.1 and up', '4.0 and up', '4.2 and up', '4.0.3 and up', '4.1 and up', '4.2 and up', '4.4 and up', '2.2 and up', '4.0 and up', '4.0.3 and up', '4.0.3 and up', '4.0 and up', '4.0 and up', '4.0 and up', '4.0 and up', '2.3 and up', '4.1 and up', '4.0 and up', '4.0 and up', '4.0 and up', '4.4 and up', '4.4 and up', '4.0 and up', '4.0 and up', '2.3 and up', '3.0 and up', '4.0.3 and up', '2.2 and up', '4.0.3 and up', '4.0 and up', '2.3.3 and up', '4.0 and up', '4.1 and up', '4.0.3 and up', '4.0 and up', '4.0.3 and up', '4.0.3 and up', '4.1 and up', '4.4 and up', '2.3 and up', '4.1 and up', '3.0 and up', '4.1 and up', '2.2 and up', '4.0 and up', '4.2 and up', '4.0 and up', '4.0 and up', '4.2 and up', '4.1 and up', '4.1 and up', '4.1 and up', '5.0 and up', '4.0 and up', '4.4 and up', '5.0 and up', '4.0.3 and up', '5.0 and up', '4.4 and up', '4.0.3 and up', '4.2 and up', '4.2 and up', '5.0 and up', '5.0 and up', '4.0 and up', '4.0.3 and up', '4.0.3 and up', '4.4 and up', '5.0 and up', '2.3 and up', '5.0 and up', '2.3 and up', '4.0 and up', '4.0 and up', '2.2 and up', '5.0 and up', 'Varies with device', 'Varies with device', '4.0 and up', '4.3 and up', '2.2 and up', '4.1 and up', '4.0 and up', '3.0 and up', '2.1 and up', '4.1 and up', 'Varies with device', '5.0 and up', '4.0.3 and up', '2.3.3 and up', '4.1 and up', '4.4 and up', '4.0 and up', '4.4 and up', '5.0 and up', '4.0 and up', '4.0.3 and up', '4.1 and up', '4.4 and up', '4.0.3 and up', '4.0.3 and up', '4.0.3 and up', '4.0.3 and up', '4.0 and up', '4.1 and up', '4.0 and up', '2.3.3 and up', '4.0 and up', '2.3 and up', '4.4 and up', 'Varies with device', '2.3 and up', '4.1 and up', '4.0.3 and up', '4.0.3 and up', '4.0 and up', '4.0.3 and up', '3.0 and up', '4.0 and up', '4.2 and up', '4.0 and up', '4.0.3 and up', '4.0.3 and up', '4.0.3 and up', '4.1 and up', '4.1 and up', '4.0.3 and up', '4.0.3 and up', '2.3.3 and up', '4.4 and up', '4.0.3 and up', '4.0.3 and up', '4.4 and up', '4.4 and up', '3.2 and up', '4.0 and up', '3.2 and up', '4.3 and up', '1.6 and up', '2.3 and up', '4.4 and up', '1.6 and up', '2.1 and up', '2.3 and up', '4.0 and up', '2.3.3 and up', '4.0.3 and up', '2.3.3 and up', '2.1 and up', '2.3 and up', '4.1 and up', 'Varies with device', '2.0 and up', 'Varies with device', '3.0 and up', '4.4 and up', '4.1 and up', '2.1 and up', '4.1 and up', '2.2 and up', '1.6 and up', '4.0 and up', 'Varies with device', '2.1 and up', '4.4 and up', '3.0 and up', '4.3 and up', '5.0 and up', '2.2 and up', '4.4 and up', '4.0.3 and up', '4.4 and up', '2.3 and up', '5.0 and up', '4.4 and up', '4.0 and up', '4.3 and up', '2.2 and up', '4.3 and up', '4.3 and up', '5.0 and up', '2.2 and up', '2.2 and up', '2.3 and up', '4.0 and up', '4.0 and up', '4.0 and up', '3.0 and up', '5.0 and up', '4.1 and up', '4.0 and up', '4.1 and up', '4.0 and up', '4.0 and up', '4.1 and up', '4.0 and up', '4.4 and up', '4.0 and up', '2.2 and up', '2.2 and up', '2.1 and up', '4.1 and up', '2.2 and up', '2.2 and up', 'Varies with device', 'Varies with device', '1.6 and up', '4.4 and up', '4.2 and up', '5.0 and up', '2.3 and up', '4.1 and up', '3.2 and up', '4.0 and up', '4.3 and up', '2.3.3 and up', '1.6 and up', '3.0 and up', '2.2 and up', '4.0 and up', '4.1 and up', '4.1 and up', '4.1 and up', '4.0 and up', 'Varies with device', 'Varies with device', '4.1 and up', '2.3 and up', '4.0 and up', '4.1 and up', 'Varies with device', '2.2 and up', '2.2 and up', '4.0.3 and up', '2.3 and up', '4.1 and up', '4.1 and up', '2.3 and up', '4.3 and up', '4.0.3 and up', '4.2 and up', '4.1 and up', '4.0 and up', 'Varies with device', '4.0.3 and up', '4.3 and up', '4.1 and up', '4.0.3 and up', '2.3.3 and up', '4.1 and up', '4.1 and up', '4.4 and up', '2.2 and up', '5.0 and up', '4.2 and up', 'Varies with device', '3.0 and up', 'Varies with device', '4.0 and up', '4.1 and up', '4.1 and up', '4.3 and up', '4.0 and up', '4.0 and up', '4.4 and up', '4.4 and up', '4.1 and up', '4.1 and up', '4.0 and up', '4.4 and up', '4.0.3 and up', '2.2 and up', '4.0.3 and up', '4.0.3 and up', '4.4 and up', 'Varies with device', '5.0 and up', '4.4 and up', '2.3 and up', 'Varies with device', '4.0 and up', '2.3 and up', '4.1 and up', '4.1 and up', '4.1 and up', 'Varies with device', '2.3 and up', 'Varies with device', '4.1 and up', '4.1 and up', '4.0.3 and up', '4.1 and up', '4.4 and up', '4.0.3 and up', '4.0 and up', '2.1 and up', '2.3 and up', '6.0 and up', '3.0 and up', '4.0 and up', '4.0.3 and up', '3.0 and up', '4.1 and up', '4.0 and up', '4.3 and up', '3.0 and up', '2.2 and up', '4.4 and up', '4.4 and up', '2.1 and up', '4.0 and up', '4.1 and up', '4.0 and up', '4.0 and up', '4.1 and up', '4.1 and up', '4.4 and up', '4.1 and up', '4.0 and up', '5.0 and up', '2.2 and up', '4.1 and up', '4.0 and up', '4.2 and up', '4.0.3 and up', '4.1 and up', '2.3 and up', '4.0 and up', '4.1 and up', '4.4 and up', 'Varies with device', '4.4 and up', '4.0 and up', '4.4 and up', '4.0 and up', '4.0.3 and up', '4.0.3 and up', '4.1 and up', '4.3 and up', '4.1 and up', '4.0.3 and up', 'Varies with device', '4.1 and up', '4.0 and up', '5.0 and up', '4.0.3 and up', '4.0.3 and up', '4.0.3 and up', '4.4 and up', '2.3.3 and up', '1.6 and up', '4.4 and up', '4.0.3 and up', '4.0.3 and up', '4.0 and up', '4.0 and up', '4.0.3 and up', '4.1 and up', '4.4 and up', '4.1 and up', '4.0 and up', '4.1 and up', '4.1 and up', '1.5 and up', '4.0.3 and up', '4.1 and up', '2.3 and up', '4.4W and up', '4.2 and up', 'Varies with device', 'Varies with device', '4.0 and up', 'Varies with device', 'Varies with device', '4.0 and up', '4.2 and up', '4.4 and up', 'Varies with device', '4.0.3 and up', '2.3.3 and up', '4.0 and up', '2.3 and up', '4.1 and up', '2.3 and up', '4.1 and up', '4.0.3 and up', 'Varies with device', '4.1 and up', '2.3.3 and up', '4.1 and up', '2.1 and up', '1.6 and up', '4.1 and up', '4.1 and up', '4.1 and up', '4.1 and up', '2.3.3 and up', 'Varies with device', '2.3.3 and up', '3.2 and up', '4.0 and up', '4.1 and up', '4.1 and up', '4.1 and up', '4.2 and up', '4.4 and up', '4.0.3 and up', '4.4 and up', '4.0.3 and up', '4.1 and up', '4.0 and up', 'Varies with device', 'Varies with device', '4.0 and up', '4.1 and up', '4.0 and up', '4.0.3 and up', '4.1 and up', '4.4 and up', '4.0.3 and up', '4.0 and up', '2.3 and up', '4.0 and up', 'Varies with device', '4.0.3 and up', '5.0 and up', 'Varies with device', '4.4 and up', '2.2 and up', '4.4 and up', '4.0.3 and up', '4.1 and up', '4.0.3 and up', '4.0 and up', '4.1 and up', '4.4 and up', '3.0 and up', '4.0.3 and up', '4.1 and up', '4.4 and up', '4.0 and up', '4.0.3 and up', '4.0 and up', '4.1 and up', 'Varies with device', '4.1 and up', 'Varies with device', '3.0 and up', '2.1 and up', '3.0 and up', '4.1 and up', '3.0 and up', '3.0 and up', '2.3.3 and up', '2.3 and up', '4.0.3 and up', '3.0 and up', '4.1 and up', '4.2 and up', '4.4 and up', '4.0.3 and up', '4.0 and up', '3.0 and up', '4.0.3 and up', '2.2 and up', '2.0 and up', '2.3 and up', '4.4 and up', '2.3.3 and up', '4.0.3 and up', '4.0 and up', 'Varies with device', '4.4 and up', '4.0.3 and up', '2.3 and up', '4.0.3 and up', '4.1 and up', '4.0.3 and up', '2.3 and up', '4.0.3 and up', '2.3.3 and up', '2.3 and up', '3.0 and up', 'Varies with device', '4.1 and up', 'Varies with device', '4.0 and up', '4.1 and up', '4.1 and up', '4.1 and up', '4.0 and up', '4.1 and up', '4.0.3 and up', '4.0 and up', '4.1 and up', '4.1 and up', '2.3 and up', '4.1 and up', 'Varies with device', '4.1 and up', '4.1 and up', '4.1 and up', 'Varies with device', '4.1 and up', '4.1 and up', 'Varies with device', '5.0 and up', '4.1 and up', '4.1 and up', '5.0 and up', '4.1 and up', '4.1 and up', '4.0.3 and up', '4.0.3 and up', '2.3 and up', '4.1 and up', '2.3 and up', '5.0 and up', '4.1 and up', '4.1 and up', '4.4 and up', '4.4 and up', '4.2 and up', '4.2 and up', '4.0.3 and up', '4.1 and up', '4.0 and up', '2.2 and up', '4.1 and up', '4.0.3 and up', '3.0 and up', '4.4 and up', '3.0 and up', '2.3 and up', '4.1 and up', '2.3 and up', '3.0 and up', '4.2 and up', '4.0.3 and up', '4.0 and up', '4.1 and up', '4.1 and up', '4.3 and up', '4.0 and up', 'Varies with device', '4.0 and up', 'Varies with device', '4.1 and up', '4.1 and up', 'Varies with device', '2.3 and up', '4.1 and up', '2.3 and up', '4.1 and up', '4.0.3 and up', '5.0 and up', '5.0 and up', '4.1 and up', '4.0 and up', '3.0 and up', '4.4 and up', '4.0.3 and up', '4.2 and up', '4.0 and up', '4.1 and up', '4.0 and up', '4.1 and up', '4.4 and up', '2.2 and up', '4.0 and up', '2.3.3 and up', '4.2 and up', '4.1 and up', '4.2 and up', '2.3 and up', '4.0.3 and up', '4.0 and up', '4.4 and up', '4.4 and up', '3.0 and up', '3.0 and up', '4.3 and up', '4.1 and up', '4.0.3 and up', '4.1 and up', '2.1 and up', '2.3 and up', '4.0.3 and up', '2.2 and up', '4.1 and up', '2.3.3 and up', '4.1 and up', '4.3 and up', '6.0 and up', '4.0.3 and up', '4.1 and up', '2.3.3 and up', '4.1 and up', '4.0 and up', '4.4 and up', '5.0 and up', '4.1 and up', '2.3.3 and up', '4.0 and up', '4.4 and up', '2.1 and up', '4.0 and up', '4.4 and up', '5.0 and up', '4.1 and up', '4.4 and up', '3.0 and up', '4.0.3 and up', '4.0 and up', 'Varies with device', '4.3 and up', 'Varies with device', '4.1 and up', '2.3 and up', '4.0 and up', '4.0 and up', '4.1 and up', '4.0.3 and up', '4.1 and up', '4.1 and up', '3.1 and up', '4.4 and up', '4.4 and up', '4.4 and up', '4.0 and up', 'Varies with device', '4.4 and up', 'Varies with device', 'Varies with device', '2.3.3 and up', '4.0 and up', '5.0 and up', '4.1 and up', 'Varies with device', '4.0 and up', '2.3 and up', 'Varies with device', '4.4 and up', '4.0 and up', 'Varies with device', 'Varies with device', '4.0 and up', '4.4 and up', 'Varies with device', '4.1 and up', '2.1 and up', '6.0 and up', '1.5 and up', '4.0 and up', '4.1 and up', '5.0 and up', 'Varies with device', '4.1 and up', '4.0 and up', 'Varies with device', 'Varies with device', '4.0 and up', '4.1 and up', '4.4 and up', '4.0 and up', '2.3 and up', '5.0 and up', '4.1 and up', '2.3 and up', 'Varies with device', '5.0 and up', '4.1 and up', '4.0.3 and up', '4.0.3 and up', '4.1 and up', '4.3 and up', '4.0 and up', '4.0.3 and up', '4.0.3 and up', '4.1 and up', '4.1 and up', '4.0.3 and up', '4.1 and up', '4.1 and up', '4.0.3 and up', '4.3 and up', '3.0 and up', '4.0.3 and up', '4.0.3 and up', '2.2 and up', '4.1 and up', '4.0 and up', '4.0.3 and up', '4.0.3 and up', '4.1 and up', '4.1 and up', '4.2 and up', '2.3.3 and up', '4.1 and up', '4.0.3 and up', '4.0.3 and up', '4.0 and up', '4.1 and up', '4.0.3 and up', '4.2 and up', '4.1 and up', '4.0.3 and up', '4.1 and up', '4.3 and up', '4.0.3 and up', '4.4 and up', '4.0 and up', '4.1 and up', '4.1 and up', '4.1 and up', '4.1 and up', '4.0 and up', '4.1 and up', '5.0 and up', '4.0 and up', '4.1 and up', '4.0 and up', '3.2 and up', '2.3 and up', '4.0 and up', '4.4 and up', '2.3 and up', '4.4 and up', '4.2 and up', '4.3 and up', '4.2 and up', '3.2 and up', '4.2 and up', '2.2 and up', '4.2 and up', '2.3.3 and up', '4.4 and up', '4.1 and up', '2.2 and up', '2.3 and up', '2.1 and up', '4.1 and up', '4.3 and up', '4.4 and up', 'Varies with device', '4.4 and up', '4.4 and up', '4.1 and up', '4.1 and up', '4.0 and up', '5.0 and up', '4.1 and up', '4.4 and up', '3.2 and up', '4.0.3 and up', '4.0.3 and up', 'Varies with device', '2.3 and up', '4.1 and up', '4.0.3 and up', 'Varies with device', '4.0 and up', '4.0 and up', '4.0 and up', '4.1 and up', '4.4 and up', '4.1 and up', '4.1 and up', '4.1 and up', '4.0.3 and up', '4.1 and up', '4.1 and up', 'Varies with device', '4.1 and up', '4.0.3 and up', '4.0 and up', '4.1 and up', '4.0 and up', '4.0 and up', '4.0 and up', '4.0.3 and up', '4.1 and up', '4.0 and up', '4.0 and up', '4.4 and up', '7.0 and up', '4.0.3 and up', '4.0 and up', '4.0.3 and up', '4.1 and up', '2.2 and up', '4.0.3 and up', '4.1 and up', '2.0.1 and up', '4.0 and up', '4.1 and up', '2.3 and up', '4.1 and up', '4.0 and up', '4.0 and up', '4.1 and up', '2.3 and up', '2.3 and up', '4.0.3 and up', '4.0.3 and up', '2.3.3 and up', '4.0 and up', '4.1 and up', '5.0 and up', '4.1 and up', '4.0 and up', 'Varies with device', 'Varies with device', '4.4 and up', '4.1 and up', '4.1 and up', '4.1 and up', '5.0 and up', '4.0 and up', '2.3 and up', 'Varies with device', '2.3 and up', '4.2 and up', '2.3.3 and up', '5.0 and up', '1.5 and up', '2.2 and up', '2.3 and up', '2.3.3 and up', '2.0 and up', '4.1 and up', '4.0 and up', '4.1 and up', '4.1 and up', '2.3 and up', '4.0 and up', '4.1 and up', '4.1 and up', '2.2 and up', '2.2 and up', '2.3 and up', '4.2 and up', '4.1 and up', '4.0.3 and up', '4.1 and up', '2.3 and up', '2.2 and up', '2.3.3 and up', '2.3.3 and up', '2.3.3 and up', '5.0 and up', '4.4 and up', '2.2 and up', '4.0 and up', '2.1 and up', '4.1 and up', '4.1 and up', '2.2 and up', '4.2 and up', '4.1 and up', '4.1 and up', '4.3 and up', '4.0 and up', '4.0.3 and up', '4.0.3 and up', '4.0 and up', '4.2 and up', '5.0 and up', '2.3 and up', '4.1 and up', '4.1 and up', '4.0 and up', '4.2 and up', '4.0 and up', '4.0.3 and up', '4.0 and up', '4.0 and up', '4.0 and up', '4.0 and up', '4.0.3 and up', '4.0 and up', '4.2 and up', '4.0 and up', '4.3 and up', '4.0.3 and up', '4.3 and up', 'Varies with device', '2.3.3 and up', '4.0 and up', '4.0 and up', '4.0 and up', '4.0 and up', '4.1 and up', '4.1 and up', '4.0 and up', 'Varies with device', '1.0 and up', '2.3.3 and up', '4.1 and up', '2.2 and up', '4.1 and up', 'Varies with device', '4.0.3 and up', '2.3 and up', 'Varies with device', '4.1 and up', '4.2 and up', '4.3 and up', '4.4 and up', '4.0 and up', '4.0 and up', '4.0 and up', '4.0 and up', '4.0.3 and up', '4.1 and up', '4.1 and up', '4.0.3 and up', '4.0.3 and up', '2.3 and up', '4.0 and up', '4.0.3 and up', '3.0 and up', '4.2 and up', '2.3 and up', '4.0 and up', '4.0 and up', '4.0 and up', '4.0 and up', '4.4 and up', '2.2 and up', '4.1 and up', '4.1 and up', '4.0.3 and up', '4.2 and up', '4.1 and up', '4.0 and up', '4.0.3 and up', '4.4 and up', '4.0.3 and up', '2.2 and up', '2.2 and up', '2.3.3 and up', '4.0 and up', '3.0 and up', '2.2 and up', '4.1 and up', '4.2 and up', '4.4 and up', 'Varies with device', '4.1 and up', '4.1 and up', '2.2 and up', '4.1 and up', 'Varies with device', '4.1 and up', '2.3 and up', '4.1 and up', '2.2 and up', '4.1 and up', '2.1 and up', '4.1 and up', '2.3.3 and up', '4.1 and up', '4.1 and up', '5.0 and up', '4.0.3 and up', '4.1 and up', '4.1 and up', '4.0 and up', '4.1 and up', '5.0 and up', '1.6 and up', '2.3 and up', '2.3 and up', '2.3.3 and up', '2.0 and up', '4.0 and up', '4.0 and up', '4.0 and up', '4.0 and up', '2.2 and up', '2.2 and up', '2.1 and up', '4.1 and up', '4.0.3 and up', '4.0 and up', '2.3 and up', '4.1 and up', '4.0 and up', '4.0.3 and up', '3.2 and up', '2.3 and up', '4.1 and up', '4.1 and up', 'Varies with device', '4.0 and up', '4.1 and up', '1.5 and up', '4.0.3 and up', '2.2 and up', '4.0.3 and up', '4.1 and up', '4.1 and up', '6.0 and up', '2.2 and up', '3.0 and up', '2.3.3 and up', '4.0.3 and up', '4.4 and up', '4.1 and up', '2.0.1 and up', 'Varies with device', '2.3 and up', '4.4 and up', '2.1 and up', '4.1 and up', '2.3 and up', 'Varies with device', '4.1 and up', '4.1 and up', '4.1 and up', '4.0 and up', '2.2 and up', '2.3 and up', '2.3.3 and up', '4.1 and up', '4.0.3 and up', '4.1 and up', '4.0.3 and up', '4.0.3 and up', '4.1 and up', '4.0 and up', '4.0.3 and up', '4.0.3 and up', '2.3 and up', '4.2 and up', '4.0 and up', '3.0 and up', '4.0 and up', 'Varies with device', '4.0 and up', '2.1 and up', '2.3 and up', '4.1 and up', '4.0.3 and up', '2.3 and up', '4.0 and up', '5.0 and up', '4.4 and up', '1.6 and up', '4.1 and up', '4.1 and up', '4.0 and up', 'Varies with device', '4.1 and up', '4.0.3 and up', '4.0.3 and up', '4.2 and up', '4.1 and up', '4.0 and up', '4.1 and up', '4.2 and up', '4.0 and up', '2.3 and up', '2.1 and up', '2.3.3 and up', '4.0 and up', '4.1 and up', '4.1 and up', '4.0 and up', '4.4 and up', '4.0.3 and up', '4.1 and up', '4.1 and up', '4.1 and up', '3.0 and up', '3.0 and up', '4.1 and up', '2.3 and up', '4.0.3 and up', '4.1 and up', '4.1 and up', '4.0 and up', '4.0.3 and up', '4.0.3 and up', '2.3.3 and up', '4.1 and up', '4.0.3 and up', '4.4 and up', '2.3 and up', '4.0 and up', '4.1 and up', '4.1 and up', '4.4 and up', '4.1 and up', '4.3 and up', '4.3 and up', '4.3 and up', '4.0.3 and up', '4.0 and up', '4.1 and up', '4.0 and up', '4.1 and up', '4.2 and up', '5.0 and up', '4.4 and up', '4.0.3 and up', '4.0 and up', '4.1 and up', '4.0.3 and up', 'Varies with device', '4.0 and up', '4.0 and up', '4.0 and up', '4.0.3 and up', '4.0.3 and up', '4.1 and up', '3.0 and up', '2.2 and up', '4.0.3 and up', '2.2 and up', '5.0 and up', '4.1 and up', '2.3 and up', '1.0 and up', '5.0 and up', '4.0 and up', '4.0 and up', '4.2 and up', '4.1 and up', '4.4 and up', '2.3 and up', '1.6 and up', '4.1 and up', 'Varies with device', '4.0.3 and up', '2.3 and up', '4.4 and up', '3.0 and up', '2.3.3 and up', '3.0 and up', '2.3 and up', '2.3 and up', '4.0 and up', '4.4 and up', '2.3.3 and up', '4.0.3 and up', '4.0 and up', '4.1 and up', '4.0 and up', '3.0 and up', '4.1 and up', '2.3.3 and up', '2.3.3 and up', '4.0 and up', '4.0 and up', '4.0.3 and up', '4.4 and up', '2.3.3 and up', '4.0 and up', '2.3.3 and up', '4.0.3 and up', '4.4 and up', '4.0.3 and up', '4.1 and up', '4.2 and up', '4.1 and up', '4.4 and up', '4.4 and up', '4.4 and up', '5.0 and up', '5.0 and up', '4.4 and up', '4.4 and up', '4.4 and up', '4.1 and up', '4.1 and up', '4.0 and up', '4.0 and up', 'Varies with device', '4.4 and up', 'Varies with device', '4.0 and up', '4.3 and up', '5.0 and up', '4.3 and up', '4.4 and up', '3.0 and up', '4.4 and up', '4.4 and up', '4.1 and up', '4.1 and up', '2.1 and up', '4.1 and up', 'Varies with device', '4.0.3 and up', '4.2 and up', '4.1 and up', '4.0 and up', '4.0 and up', '4.1 and up', '2.3 and up', '2.2 and up', '2.3.3 and up', '4.0 and up', '2.3 and up', '2.3 and up', '4.1 and up', '3.2 and up', '2.2 and up', '2.2 and up', '4.0.3 and up', '4.3 and up', '2.2 and up', '4.1 and up', '2.2 and up', '4.0.3 and up', '4.0 and up', '2.3 and up', '4.0 and up', 'Varies with device', '2.3 and up', '2.3 and up', '3.0 and up', '4.0 and up', '4.0.3 and up', '4.4 and up', '2.3 and up', '4.0.3 and up', '4.0 and up', '4.0 and up', '4.3 and up', '4.4 and up', '4.4 and up', '4.0 and up', '4.1 and up', '4.0 and up', '4.0 and up', '2.2 and up', '4.1 and up', '4.1 and up', '4.0.3 and up', '2.3 and up', '2.2 and up', '4.1 and up', '4.0.3 and up', '4.2 and up', '4.0.3 and up', '4.0 and up', '2.1 and up', '4.1 and up', '4.0 and up', '4.0 and up', '2.3 and up', '3.0 and up', '2.3.3 and up', '2.3 and up', '4.1 and up', '2.0 and up', '2.3 and up', '2.3 and up', '4.0.3 and up', '4.1 and up', '4.2 and up', '2.3 and up', '4.1 and up', '4.2 and up', '4.4 and up', '4.0.3 and up', '4.0 and up', '3.0 and up', '4.4 and up', '2.3 and up', '4.0 and up', '2.3 and up', '4.2 and up', '2.3.3 and up', '4.0 and up', 'Varies with device', '4.4 and up', '2.3 and up', '4.0 and up', '2.2 and up', '1.6 and up', '2.3.3 and up', '4.1 and up', '2.3 and up', '2.3 and up', '2.3 and up', '4.1 and up', '4.0 and up', '4.0.3 and up', '4.4 and up', '2.1 and up', '2.3 and up', '2.3 and up', '4.1 and up', '4.0 and up', '2.3.3 and up', 'Varies with device', '4.0.3 and up', 'Varies with device', '2.3 and up', '4.0 and up', '4.0.3 and up', '4.0 and up', '4.0 and up', '2.3 and up', '4.1 and up', '2.3.3 and up', '4.0 and up', '2.3 and up', '4.1 and up', '4.0 and up', '2.3 and up', '2.3 and up', '2.3.3 and up', '5.0 and up', '4.1 and up', '2.3.3 and up', 'Varies with device', '4.0 and up', '4.0.3 and up', '4.0 and up', '2.2 and up', '2.3.3 and up', '2.3 and up', '2.3 and up', '4.1 and up', '2.3 and up', '4.0 and up', '2.2 and up', '4.0.3 and up', '4.1 and up', '2.1 and up', '3.0 and up', '4.1 and up', '2.3 and up', '4.0 and up', '4.0.3 and up', '4.0.3 and up', '4.1 and up', '4.1 and up', '1.6 and up', '4.0.3 and up', '4.1 and up', '4.1 and up', '5.0 and up', '4.0 and up', '4.4 and up', '4.0 and up', '5.1 and up', '2.2 and up', '4.0 and up', '3.0 and up', '4.3 and up', '2.2 and up', '4.1 and up', '2.1 and up', '4.0.3 and up', '5.0 and up', '4.0 and up', '5.0 and up', '5.0 and up', '4.0 and up', '4.0.3 and up', '4.1 and up', '4.1 and up', '4.0 and up', '5.0 and up', '4.1 and up', '4.0 and up', '4.1 and up', '4.0.3 and up', '4.0 and up', '4.0 and up', '4.0 and up', '4.1 and up', '2.2 and up', '4.0 and up', '4.4 and up', '4.1 and up', '2.3.3 and up', '4.2 and up', '4.1 and up', '2.3 and up', '4.2 and up', '4.0 and up', '2.3.3 and up', '4.1 and up', '4.1 and up', 'Varies with device', '2.3 and up', '4.1 and up', '2.3 and up', '4.0 and up', '4.0.3 and up', '4.2 and up', '4.0 and up', '4.1 and up', '4.0.3 and up', '4.0.3 and up', '4.0.3 and up', 'Varies with device', '4.0 and up', '5.0 and up', '4.0 and up', '1.5 and up', 'Varies with device', '4.4 and up', 'Varies with device', '1.6 and up', '4.1 and up', '4.0 and up', '5.0 and up', 'Varies with device', '4.0.3 and up', '4.0.3 and up', '4.1 and up', 'Varies with device', '2.3 and up', '2.0 and up', '4.0.3 and up', '4.1 and up', '4.0.3 and up', 'Varies with device', '4.1 and up', '4.1 and up', '2.3 and up', '2.3 and up', '4.1 and up', '4.1 and up', '5.0 and up', '4.0.3 and up', '5.0 and up', '4.0.3 and up', '4.0.3 and up', 'Varies with device', '4.1 and up', '4.1 and up', '4.1 and up', '4.1 and up', '2.0 and up', 'Varies with device', '3.0 and up', '4.1 and up', '4.1 and up', '4.0.3 and up', '4.0.3 and up', '3.0 and up', '4.1 and up', 'Varies with device', '5.0 and up', '4.0.3 and up', '4.1 and up', '2.3 and up', '2.3 and up', '4.1 and up', '2.3 and up', 'Varies with device', 'Varies with device', '4.1 and up', 'Varies with device', 'Varies with device', 'Varies with device', '2.3 and up', '4.1 and up', '4.0.3 and up', '4.0 and up', '4.0.3 and up', '4.1 and up', 'Varies with device', '2.3 and up', '5.0 and up', '5.0 and up', 'Varies with device', '4.1 and up', '4.1 and up', '2.3 and up', 'Varies with device', '4.1 and up', '4.1 and up', 'Varies with device', '4.0.3 and up', '4.0.3 and up', '4.4 and up', '4.1 and up', '4.1 and up', '4.1 and up', '4.1 and up', '4.0.3 and up', '4.3 and up', '4.1 and up', '4.0 and up', '4.1 and up', '4.0 and up', '4.0.3 and up', '4.1 and up', '4.2 and up', '4.2 and up', '2.3 and up', '4.1 and up', '4.1 and up', '4.0.3 and up', '4.1 and up', '4.1 and up', '4.1 and up', '4.1 and up', 'Varies with device', '4.2 and up', '4.3 and up', '4.0 and up', '4.0.3 and up', '4.2 and up', '4.1 and up', '4.0.3 and up', '3.0 and up', '4.1 and up', '4.1 and up', '2.3 and up', '4.1 and up', '4.1 and up', '4.0 and up', '4.1 and up', '4.3 and up', '2.3 and up', '2.2 and up', '5.0 and up', '2.3 and up', '2.3 and up', '2.3 and up', '2.2 and up', '2.3 and up', '4.4 and up', '4.0 and up', '4.1 and up', '4.1 and up', '4.1 and up', '4.1 and up', '4.1 and up', '4.0.3 and up', '4.0.3 and up', '4.1 and up', '5.1 and up', '4.1 and up', '4.1 and up', 'Varies with device', '4.4 and up', '4.0 and up', '4.0.3 and up', '4.1 and up', '4.0.3 and up', '2.3 and up', '4.3 and up', '4.1 and up', '4.0.3 and up', '2.3 and up', '4.1 and up', '4.3 and up', '4.0 and up', '4.0 and up', '4.1 and up', '4.1 and up', '4.1 and up', '4.0 and up', '4.0.3 and up', '4.1 and up', '2.3 and up', '4.0 and up', '4.1 and up', '4.1 and up', '4.1 and up', '4.0.3 and up', '4.0.3 and up', '2.3 and up', '4.0 and up', '4.1 and up', '4.1 and up', 'Varies with device', '1.6 and up', '2.3 and up', 'Varies with device', '4.0 and up', '2.1 and up', '2.2 and up', '4.0 and up', '2.1 and up', '4.0 and up', '2.2 and up', '2.0 and up', '4.0 and up', '4.0 and up', '2.1 and up', '1.6 and up', '2.0 and up', '4.2 and up', '4.0 and up', '4.2 and up', '4.0 and up', '4.2 and up', '4.3 and up', '4.1 and up', '1.6 and up', '4.1 and up', '4.2 and up', '5.0 and up', '2.2 and up', '4.1 and up', '4.0.3 and up', '4.3 and up', 'Varies with device', '4.0 and up', '4.1 and up', '4.4 and up', '4.0.3 and up', '4.1 and up', '3.0 and up', '5.0 and up', '4.0 and up', '4.1 and up', 'Varies with device', '4.1 and up', 'Varies with device', '4.1 and up', '5.0 and up', '4.1 and up', '4.1 and up', '2.2 and up', '4.0 and up', '4.0.3 and up', '4.1 and up', '4.0 and up', '4.0.3 and up', 'Varies with device', 'Varies with device', 'Varies with device', '4.1 and up', 'Varies with device', 'Varies with device', '4.4 and up', '4.1 and up', '4.2 and up', 'Varies with device', 'Varies with device', '4.1 and up', '4.0.3 and up', 'Varies with device', 'Varies with device', '4.0.3 and up', '5.0 and up', '4.1 and up', '4.0.3 and up', '4.1 and up', 'Varies with device', '4.0.3 and up', '4.1 and up', '4.1 and up', 'Varies with device', '4.0 and up', '4.0.3 and up', '4.0 and up', '2.1 and up', '4.0 and up', '2.2 and up', '4.2 and up', '2.3.3 and up', '4.0.3 and up', '4.0.3 and up', '4.1 and up', '2.1 and up', '4.1 and up', '4.0.3 and up', '4.0.3 and up', '4.0.3 and up', '4.1 and up', '2.2 and up', '4.4 and up', '4.4 and up', 'Varies with device', '4.3 and up', '4.4 and up', '4.1 and up', '4.1 and up', '2.3.3 and up', '4.4 and up', '4.1 and up', '4.1 and up', '4.1 and up', '2.3 and up', '4.1 and up', '1.6 and up', '4.4 and up', 'Varies with device', '4.3 and up', '4.0 and up', '4.0 and up', '4.1 and up', '4.1 and up', '4.1 and up', '4.0 and up', '4.0 and up', 'Varies with device', '4.4 and up', '4.0.3 and up', '4.0.3 and up', '4.1 and up', '4.4 and up', '5.0 and up', '2.3 and up', '4.1 and up', '6.0 and up', '4.1 and up', '4.0 and up', '4.1 and up', '4.1 and up', '4.4 and up', '4.1 and up', '4.0.3 and up', '5.0 and up', '4.1 and up', '4.4 and up', '2.3 and up', '4.0.3 and up', '4.0 and up', '2.3.3 and up', '4.1 and up', '2.3 and up', '4.4 and up', '2.1 and up', '4.4 and up', 'Varies with device', 'Varies with device', '4.0 and up', '4.1 and up', '4.0 and up', '4.1 and up', 'Varies with device', '4.0 and up', '2.3 and up', '4.1 and up', '4.1 and up', '4.1 and up', '4.2 and up', '4.1 and up', 'Varies with device', '2.3 and up', '4.0.3 and up', '4.1 and up', '4.4 and up', '4.0 and up', 'Varies with device', '4.1 and up', '4.0.3 and up', 'Varies with device', '4.1 and up', '4.4 and up', '4.0 and up', '4.0.3 and up', 'Varies with device', 'Varies with device', '5.0 and up', '4.0.3 and up', '4.2 and up', '4.0.3 and up', 'Varies with device', '2.3 and up', 'Varies with device', '4.0 and up', '4.1 and up', '2.3 and up', '4.0 and up', '4.0 and up', '4.1 and up', '2.3 and up', '2.1 and up', 'Varies with device', '4.2 and up', '1.6 and up', 'Varies with device', '2.0 and up', '2.1 and up', '2.2 and up', '1.6 and up', '1.6 and up', '3.0 and up', 'Varies with device', '4.0.3 and up', '1.6 and up', '1.6 and up', 'Varies with device', '5.0 and up', '1.6 and up', '1.6 and up', '1.6 and up', '2.2 and up', '5.0 and up', '2.1 and up', '1.6 and up', '2.2 and up', '2.3 and up', '4.0.3 and up', '3.0 and up', '4.0 and up', 'Varies with device', '4.1 and up', '4.1 and up', '1.6 and up', '1.6 and up', '2.3 and up', '2.3.3 and up', '4.0.3 and up', '2.1 and up', '4.0 and up', '3.0 and up', '2.3 and up', '4.1 and up', '2.2 and up', '6.0 and up', '4.1 and up', '4.0.3 and up', '4.1 and up', '2.1 and up', '2.1 and up', '4.0.3 and up', '4.0.3 and up', '2.3 and up', '4.0.3 and up', '4.1 and up', '4.0.3 and up', '4.0 and up', '2.1 and up', '4.0.3 and up', '2.3 and up', '4.4 and up', '3.0 and up', '4.1 and up', '4.0 and up', '5.0 and up', '2.1 and up', '4.0 and up', '4.0.3 and up', 'Varies with device', '4.0.3 and up', '2.3 and up', 'Varies with device', 'Varies with device', '4.2 and up', '4.3 and up', '4.0 and up', '4.4 and up', '2.3 and up', '3.2 and up', '2.2 and up', '5.0 and up', '4.3 and up', '4.0 and up', '4.0 and up', 'Varies with device', '3.0 and up', '2.1 and up', '5.0 and up', '4.3 and up', '5.0 and up', '4.3 and up', '4.0 and up', '2.1 and up', '2.3 and up', 'Varies with device', '4.0 and up', '4.4 and up', '2.2 and up', '4.0.3 and up', '2.2 and up', '3.0 and up', '4.3 and up', '4.1 and up', '4.0 and up', '4.4 and up', '4.1 and up', '5.0 and up', '6.0 and up', '4.1 and up', '5.0 and up', '4.0.3 and up', '5.0 and up', '4.1 and up', '4.1 and up', '4.0 and up', '4.1 and up', '4.0 and up', '4.0.3 and up', '4.0 and up', '4.0 and up', '4.1 and up', '4.0.3 and up', '4.0.3 and up', '4.1 and up', '2.3 and up', '4.4 and up', '4.0.3 and up', '4.1 and up', '4.0.3 and up', '4.0.3 and up', '4.0.3 and up', '4.3 and up', '4.0.3 and up', 'Varies with device', '4.4 and up', 'Varies with device', '4.4 and up', 'Varies with device', '2.3 and up', '4.1 and up', '4.1 and up', '4.0.3 and up', '4.1 and up', 'Varies with device', '4.1 and up', '4.1 and up', '4.0.3 and up', '4.1 and up', '4.1 and up', '2.3 and up', '4.0.3 and up', '2.2 and up', '2.3 and up', '4.2 and up', '4.4 and up', '5.0 and up', '5.0 and up', '4.3 and up', '4.2 and up', '4.0.3 and up', '4.4 and up', '3.0 and up', '4.0 and up', '4.0.3 and up', '4.0 and up', '4.2 and up', '4.4 and up', '3.0 and up', '4.1 and up', '2.3 and up', '4.0.3 and up', '4.0.3 and up', '4.0 and up', '4.0.3 and up', '2.3 and up', '4.1 and up', '4.2 and up', '4.1 and up', '4.0.3 and up', '4.1 and up', '4.1 and up', '4.1 and up', '4.0 and up', '4.0 and up', '4.1 and up', '4.1 and up', '4.4 and up', '4.1 and up', '4.0.3 and up', '2.3 and up', '5.0 and up', '4.4 and up', '4.4 and up', '4.1 and up', '4.1 and up', '4.4 and up', '5.0 and up', 'Varies with device', '4.4 and up', '4.3 and up', '4.4 and up', '4.4 and up', '2.3 and up', '5.0 and up', '4.1 and up', '4.2 and up', '4.0 and up', '4.0.3 and up', '4.1 and up', '4.2 and up', '5.0 and up', '4.1 and up', '4.0.3 and up', 'Varies with device', '1.6 and up', '4.0.3 and up', '4.4 and up', '4.0.3 and up', '4.0.3 and up', '4.4 and up', '5.0 and up', '4.0.3 and up', '4.4 and up', '4.4 and up', '4.4 and up', '4.4 and up', '4.4 and up', '4.0.3 and up', '4.4 and up', '1.6 and up', '5.0 and up', '4.0 and up', '4.1 and up', '4.4 and up', '4.1 and up', '4.4 and up', '4.0.3 and up', '4.4 and up', '4.4 and up', '4.0.3 and up', '3.0 and up', '3.0 and up', '2.3 and up', '4.1 and up', '3.0 and up', '4.0.3 and up', '4.0.3 and up', '4.1 and up', '4.2 and up', '4.0 and up', '4.0.3 and up', '5.0 and up', '4.1 and up', '5.0 and up', '4.1 and up', '4.1 and up', '4.0.3 and up', '4.0 and up', '4.1 and up', '4.0 and up', '4.0 and up', '5.0 and up', '4.0 and up', '4.1 and up', '2.3.3 and up', '4.1 and up', '4.0 and up', '4.1 and up', '4.1 and up', '4.2 and up', '4.1 and up', '2.3 and up', '4.1 and up', '4.1 and up', '2.3 and up', '4.1 and up', '4.1 and up', '4.1 and up', '4.1 and up', '2.2 and up', '4.0 and up', '4.1 and up', '2.3 and up', '4.4 and up', '2.3.3 and up', '4.0.3 and up', '2.3 and up', '2.3 and up', '4.2 and up', '2.3 and up', '4.1 and up', '2.3 and up', '4.4 and up', '2.3 and up', '4.0.3 and up', '4.1 and up', '2.3.3 and up', '4.1 and up', '2.3.3 and up', '4.0 and up', '4.0 and up', '4.1 and up', '4.4 and up', '4.0.3 and up', '4.0 and up', '4.0.3 and up', '2.3.3 and up', '2.3.3 and up', '4.0 and up', '5.0 and up', '4.1 and up', '4.2 and up', '4.1 and up', '3.0 and up', '4.1 and up', '4.1 and up', '4.0.3 and up', '3.0 and up', '4.0 and up', '4.1 and up', '2.3 and up', '4.1 and up', '5.0 and up', '6.0 and up', '5.1 and up', '1.6 and up', '2.2 and up', 'Varies with device', '2.3 and up', '4.0.3 and up', '4.0.3 and up', '6.0 and up', '4.0 and up', 'Varies with device', '4.4 and up', '4.2 and up', 'Varies with device', '4.0 and up', '4.4 and up', '1.6 and up', '2.1 and up', '1.6 and up', '4.1 and up', '2.3.3 and up', '4.0 and up', '2.3 and up', '4.1 and up', '5.0 and up', '4.0 and up', '4.2 and up', '2.3 and up', '4.0.3 and up', '4.4 and up', '2.2 and up', '2.3 and up', '2.3.3 and up', '4.0 and up', '4.0 and up', '4.0 and up', '2.3 and up', '4.0 and up', '2.3.3 and up', '4.3 and up', '4.1 and up', '2.3 and up', '2.3.3 and up', '2.3.3 and up', '4.4 and up', '2.3 and up', '4.0.3 and up', '2.3 and up', '2.3.3 and up', '4.2 and up', '2.3 and up', '4.1 and up', '4.1 and up', '4.1 and up', '4.0 and up', '2.3 and up', 'Varies with device', '2.3 and up', '4.1 and up', '2.3 and up', '2.3.3 and up', '4.1 and up', '2.2 and up', '2.3 and up', '4.0 and up', '4.2 and up', '4.1 and up', '2.3 and up', '4.0.3 and up', '4.2 and up', '4.0 and up', '5.0 and up', '3.2 and up', '4.1 and up', '4.4 and up', '2.3 and up', '4.4 and up', '4.1 and up', '4.0 and up', '4.4 and up', '2.3 and up', '4.4 and up', '2.2 and up', '4.1 and up', '4.1 and up', '4.4 and up', '4.0 and up', '4.0.3 and up', '4.0.3 and up', '4.1 and up', '4.0.3 and up', '4.1 and up', '4.0.3 and up', '4.4 and up', '3.0 and up', '2.3 and up', '4.0 and up', 'Varies with device', '3.0 and up', '4.1 and up', '4.1 and up', '4.1 and up', '4.4 and up', '4.2 and up', '4.4 and up', '4.1 and up', '3.0 and up', '2.1 and up', '4.0.3 and up', '4.1 and up', '2.3.3 and up', '4.4 and up', '2.2 and up', '4.0.3 and up', '4.1 and up', '4.0 and up', '4.1 and up', '4.4 and up', '2.3.3 and up', '2.2 and up', '4.0.3 and up', '4.1 and up', '4.4 and up', '4.0 and up', '2.3.3 and up', '4.1 and up', '4.0.3 and up', '5.0 and up', '4.1 and up', '4.0.3 and up', '4.0.3 and up', '5.0 and up', '4.1 and up', '7.0 and up', '4.1 and up', '2.3.3 and up', '4.3 and up', '4.4 and up', '2.1 and up', '4.1 and up', '4.0 and up', '5.0 and up', '4.0 and up', '5.0 and up', 'Varies with device', '5.0 and up', '4.0.3 and up', '4.1 and up', '4.0 and up', 'Varies with device', '4.0.3 and up', '4.0.3 and up', '4.2 and up', '4.0 and up', '4.1 and up', '4.0 and up', '4.0.3 and up', '4.0 and up', '2.3 and up', '2.2 and up', '4.0 and up', '4.0.3 and up', '2.2 and up', '2.2 and up', '2.2 and up', 'Varies with device', '4.1 and up', '4.4 and up', '4.0.3 and up', '2.1 and up', '4.1 and up', '4.0.3 and up', '3.0 and up', '2.3 and up', '2.1 and up', '4.1 and up', '7.0 and up', '2.2 and up', '2.3 and up', '2.3 and up', '2.3.3 and up', 'Varies with device', '4.0.3 and up', '4.0 and up', 'Varies with device', 'Varies with device', '4.1 and up', '4.0 and up', '4.0 and up', '4.4 and up', '5.0 and up', '4.4 and up', '5.0 and up', '4.1 and up', '2.3.3 and up', '4.1 and up', '3.0 and up', '4.4 and up', '4.2 and up', '4.4 and up', '4.0 and up', '4.0 and up', '4.4 and up', '4.0.3 and up', '2.0 and up', '1.6 and up', '4.0 and up', '2.2 and up', '4.1 and up', '2.3 and up', '6.0 and up', '4.4 and up', '4.0.3 and up', '4.2 and up', '3.1 and up', '6.0 and up', '4.0.3 and up', '4.4 and up', '2.3 and up', '2.3.3 and up', '4.1 and up', '4.4 and up', '4.0 and up', '4.2 and up', '1.6 and up', 'Varies with device', '4.0.3 and up', '4.2 and up', '5.0 and up', '2.3 and up', '4.0 and up', '2.3 and up', '4.0 and up', '4.1 and up', '4.4 and up', '4.1 and up', '4.1 and up', '5.0 and up', '4.1 and up', '4.0 and up', '2.3 and up', '6.0 and up', '4.1 and up', '4.1 and up', '4.1 and up', '2.2 and up', '4.0 and up', '4.0.3 and up', '4.1 and up', '4.1 and up', '5.0 and up', '4.0.3 and up', '4.4 and up', '4.4 and up', '3.0 and up', '4.0 and up', '2.3 and up', '4.2 and up', '4.1 and up', '4.4 and up', '4.0.3 and up', '3.0 and up', '4.2 and up', '5.0 and up', '4.1 and up', '4.1 and up', 'Varies with device', '4.0.3 and up', '4.0 and up', '4.1 and up', '1.6 and up', '2.1 and up', '2.2 and up', '4.1 and up', '4.1 and up', '4.1 and up', 'Varies with device', 'Varies with device']\n"
     ]
    }
   ],
   "source": [
    "import statistics\n",
    "Android_list = data2['Android Ver'].to_list()\n",
    "print(Android_list)"
   ]
  },
  {
   "cell_type": "code",
   "execution_count": 112,
   "metadata": {},
   "outputs": [
    {
     "data": {
      "text/html": [
       "<div>\n",
       "<style scoped>\n",
       "    .dataframe tbody tr th:only-of-type {\n",
       "        vertical-align: middle;\n",
       "    }\n",
       "\n",
       "    .dataframe tbody tr th {\n",
       "        vertical-align: top;\n",
       "    }\n",
       "\n",
       "    .dataframe thead th {\n",
       "        text-align: right;\n",
       "    }\n",
       "</style>\n",
       "<table border=\"1\" class=\"dataframe\">\n",
       "  <thead>\n",
       "    <tr style=\"text-align: right;\">\n",
       "      <th></th>\n",
       "      <th>App</th>\n",
       "      <th>Category</th>\n",
       "      <th>Rating</th>\n",
       "      <th>Reviews</th>\n",
       "      <th>Size</th>\n",
       "      <th>Installs</th>\n",
       "      <th>Type</th>\n",
       "      <th>Price</th>\n",
       "      <th>Content Rating</th>\n",
       "      <th>Genres</th>\n",
       "      <th>Last Updated</th>\n",
       "      <th>Current Ver</th>\n",
       "      <th>Android Ver</th>\n",
       "    </tr>\n",
       "  </thead>\n",
       "  <tbody>\n",
       "    <tr>\n",
       "      <th>0</th>\n",
       "      <td>Photo Editor &amp; Candy Camera &amp; Grid &amp; ScrapBook</td>\n",
       "      <td>ART_AND_DESIGN</td>\n",
       "      <td>4.1</td>\n",
       "      <td>159</td>\n",
       "      <td>19000.00000</td>\n",
       "      <td>10,000+</td>\n",
       "      <td>Free</td>\n",
       "      <td>0</td>\n",
       "      <td>Everyone</td>\n",
       "      <td>Art &amp; Design</td>\n",
       "      <td>January 7, 2018</td>\n",
       "      <td>1.0.0</td>\n",
       "      <td>4.0.3 and up</td>\n",
       "    </tr>\n",
       "    <tr>\n",
       "      <th>1</th>\n",
       "      <td>Coloring book moana</td>\n",
       "      <td>ART_AND_DESIGN</td>\n",
       "      <td>3.9</td>\n",
       "      <td>967</td>\n",
       "      <td>14000.00000</td>\n",
       "      <td>500,000+</td>\n",
       "      <td>Free</td>\n",
       "      <td>0</td>\n",
       "      <td>Everyone</td>\n",
       "      <td>Art &amp; Design;Pretend Play</td>\n",
       "      <td>January 15, 2018</td>\n",
       "      <td>2.0.0</td>\n",
       "      <td>4.0.3 and up</td>\n",
       "    </tr>\n",
       "    <tr>\n",
       "      <th>2</th>\n",
       "      <td>U Launcher Lite – FREE Live Cool Themes, Hide ...</td>\n",
       "      <td>ART_AND_DESIGN</td>\n",
       "      <td>4.7</td>\n",
       "      <td>87510</td>\n",
       "      <td>8700.00000</td>\n",
       "      <td>5,000,000+</td>\n",
       "      <td>Free</td>\n",
       "      <td>0</td>\n",
       "      <td>Everyone</td>\n",
       "      <td>Art &amp; Design</td>\n",
       "      <td>August 1, 2018</td>\n",
       "      <td>1.2.4</td>\n",
       "      <td>4.0.3 and up</td>\n",
       "    </tr>\n",
       "    <tr>\n",
       "      <th>3</th>\n",
       "      <td>Sketch - Draw &amp; Paint</td>\n",
       "      <td>ART_AND_DESIGN</td>\n",
       "      <td>4.5</td>\n",
       "      <td>215644</td>\n",
       "      <td>25000.00000</td>\n",
       "      <td>50,000,000+</td>\n",
       "      <td>Free</td>\n",
       "      <td>0</td>\n",
       "      <td>Teen</td>\n",
       "      <td>Art &amp; Design</td>\n",
       "      <td>June 8, 2018</td>\n",
       "      <td>Varies with device</td>\n",
       "      <td>4.2 and up</td>\n",
       "    </tr>\n",
       "    <tr>\n",
       "      <th>4</th>\n",
       "      <td>Pixel Draw - Number Art Coloring Book</td>\n",
       "      <td>ART_AND_DESIGN</td>\n",
       "      <td>4.3</td>\n",
       "      <td>967</td>\n",
       "      <td>2800.00000</td>\n",
       "      <td>100,000+</td>\n",
       "      <td>Free</td>\n",
       "      <td>0</td>\n",
       "      <td>Everyone</td>\n",
       "      <td>Art &amp; Design;Creativity</td>\n",
       "      <td>June 20, 2018</td>\n",
       "      <td>1.1</td>\n",
       "      <td>4.4 and up</td>\n",
       "    </tr>\n",
       "    <tr>\n",
       "      <th>...</th>\n",
       "      <td>...</td>\n",
       "      <td>...</td>\n",
       "      <td>...</td>\n",
       "      <td>...</td>\n",
       "      <td>...</td>\n",
       "      <td>...</td>\n",
       "      <td>...</td>\n",
       "      <td>...</td>\n",
       "      <td>...</td>\n",
       "      <td>...</td>\n",
       "      <td>...</td>\n",
       "      <td>...</td>\n",
       "      <td>...</td>\n",
       "    </tr>\n",
       "    <tr>\n",
       "      <th>10834</th>\n",
       "      <td>FR Calculator</td>\n",
       "      <td>FAMILY</td>\n",
       "      <td>4.0</td>\n",
       "      <td>7</td>\n",
       "      <td>2600.00000</td>\n",
       "      <td>500+</td>\n",
       "      <td>Free</td>\n",
       "      <td>0</td>\n",
       "      <td>Everyone</td>\n",
       "      <td>Education</td>\n",
       "      <td>June 18, 2017</td>\n",
       "      <td>1.0.0</td>\n",
       "      <td>4.1 and up</td>\n",
       "    </tr>\n",
       "    <tr>\n",
       "      <th>10836</th>\n",
       "      <td>Sya9a Maroc - FR</td>\n",
       "      <td>FAMILY</td>\n",
       "      <td>4.5</td>\n",
       "      <td>38</td>\n",
       "      <td>53000.00000</td>\n",
       "      <td>5,000+</td>\n",
       "      <td>Free</td>\n",
       "      <td>0</td>\n",
       "      <td>Everyone</td>\n",
       "      <td>Education</td>\n",
       "      <td>July 25, 2017</td>\n",
       "      <td>1.48</td>\n",
       "      <td>4.1 and up</td>\n",
       "    </tr>\n",
       "    <tr>\n",
       "      <th>10837</th>\n",
       "      <td>Fr. Mike Schmitz Audio Teachings</td>\n",
       "      <td>FAMILY</td>\n",
       "      <td>5.0</td>\n",
       "      <td>4</td>\n",
       "      <td>3600.00000</td>\n",
       "      <td>100+</td>\n",
       "      <td>Free</td>\n",
       "      <td>0</td>\n",
       "      <td>Everyone</td>\n",
       "      <td>Education</td>\n",
       "      <td>July 6, 2018</td>\n",
       "      <td>1</td>\n",
       "      <td>4.1 and up</td>\n",
       "    </tr>\n",
       "    <tr>\n",
       "      <th>10839</th>\n",
       "      <td>The SCP Foundation DB fr nn5n</td>\n",
       "      <td>BOOKS_AND_REFERENCE</td>\n",
       "      <td>4.5</td>\n",
       "      <td>114</td>\n",
       "      <td>21516.52952</td>\n",
       "      <td>1,000+</td>\n",
       "      <td>Free</td>\n",
       "      <td>0</td>\n",
       "      <td>Mature 17+</td>\n",
       "      <td>Books &amp; Reference</td>\n",
       "      <td>January 19, 2015</td>\n",
       "      <td>Varies with device</td>\n",
       "      <td>Varies with device</td>\n",
       "    </tr>\n",
       "    <tr>\n",
       "      <th>10840</th>\n",
       "      <td>iHoroscope - 2018 Daily Horoscope &amp; Astrology</td>\n",
       "      <td>LIFESTYLE</td>\n",
       "      <td>4.5</td>\n",
       "      <td>398307</td>\n",
       "      <td>19000.00000</td>\n",
       "      <td>10,000,000+</td>\n",
       "      <td>Free</td>\n",
       "      <td>0</td>\n",
       "      <td>Everyone</td>\n",
       "      <td>Lifestyle</td>\n",
       "      <td>July 25, 2018</td>\n",
       "      <td>Varies with device</td>\n",
       "      <td>Varies with device</td>\n",
       "    </tr>\n",
       "  </tbody>\n",
       "</table>\n",
       "<p>9366 rows × 13 columns</p>\n",
       "</div>"
      ],
      "text/plain": [
       "                                                     App             Category  \\\n",
       "0         Photo Editor & Candy Camera & Grid & ScrapBook       ART_AND_DESIGN   \n",
       "1                                    Coloring book moana       ART_AND_DESIGN   \n",
       "2      U Launcher Lite – FREE Live Cool Themes, Hide ...       ART_AND_DESIGN   \n",
       "3                                  Sketch - Draw & Paint       ART_AND_DESIGN   \n",
       "4                  Pixel Draw - Number Art Coloring Book       ART_AND_DESIGN   \n",
       "...                                                  ...                  ...   \n",
       "10834                                      FR Calculator               FAMILY   \n",
       "10836                                   Sya9a Maroc - FR               FAMILY   \n",
       "10837                   Fr. Mike Schmitz Audio Teachings               FAMILY   \n",
       "10839                      The SCP Foundation DB fr nn5n  BOOKS_AND_REFERENCE   \n",
       "10840      iHoroscope - 2018 Daily Horoscope & Astrology            LIFESTYLE   \n",
       "\n",
       "       Rating Reviews         Size     Installs  Type Price Content Rating  \\\n",
       "0         4.1     159  19000.00000      10,000+  Free     0       Everyone   \n",
       "1         3.9     967  14000.00000     500,000+  Free     0       Everyone   \n",
       "2         4.7   87510   8700.00000   5,000,000+  Free     0       Everyone   \n",
       "3         4.5  215644  25000.00000  50,000,000+  Free     0           Teen   \n",
       "4         4.3     967   2800.00000     100,000+  Free     0       Everyone   \n",
       "...       ...     ...          ...          ...   ...   ...            ...   \n",
       "10834     4.0       7   2600.00000         500+  Free     0       Everyone   \n",
       "10836     4.5      38  53000.00000       5,000+  Free     0       Everyone   \n",
       "10837     5.0       4   3600.00000         100+  Free     0       Everyone   \n",
       "10839     4.5     114  21516.52952       1,000+  Free     0     Mature 17+   \n",
       "10840     4.5  398307  19000.00000  10,000,000+  Free     0       Everyone   \n",
       "\n",
       "                          Genres      Last Updated         Current Ver  \\\n",
       "0                   Art & Design   January 7, 2018               1.0.0   \n",
       "1      Art & Design;Pretend Play  January 15, 2018               2.0.0   \n",
       "2                   Art & Design    August 1, 2018               1.2.4   \n",
       "3                   Art & Design      June 8, 2018  Varies with device   \n",
       "4        Art & Design;Creativity     June 20, 2018                 1.1   \n",
       "...                          ...               ...                 ...   \n",
       "10834                  Education     June 18, 2017               1.0.0   \n",
       "10836                  Education     July 25, 2017                1.48   \n",
       "10837                  Education      July 6, 2018                   1   \n",
       "10839          Books & Reference  January 19, 2015  Varies with device   \n",
       "10840                  Lifestyle     July 25, 2018  Varies with device   \n",
       "\n",
       "              Android Ver  \n",
       "0            4.0.3 and up  \n",
       "1            4.0.3 and up  \n",
       "2            4.0.3 and up  \n",
       "3              4.2 and up  \n",
       "4              4.4 and up  \n",
       "...                   ...  \n",
       "10834          4.1 and up  \n",
       "10836          4.1 and up  \n",
       "10837          4.1 and up  \n",
       "10839  Varies with device  \n",
       "10840  Varies with device  \n",
       "\n",
       "[9366 rows x 13 columns]"
      ]
     },
     "execution_count": 112,
     "metadata": {},
     "output_type": "execute_result"
    }
   ],
   "source": [
    "data2_new = d.fillna(statistics.mode(Android_list))\n",
    "data2_new"
   ]
  },
  {
   "cell_type": "code",
   "execution_count": 113,
   "metadata": {},
   "outputs": [
    {
     "name": "stdout",
     "output_type": "stream",
     "text": [
      "                         App         Category  Rating Reviews     Size  \\\n",
      "4453  [substratum] Vacuum: P  PERSONALIZATION     4.4     230  11000.0   \n",
      "\n",
      "     Installs  Type  Price Content Rating           Genres   Last Updated  \\\n",
      "4453   1,000+  Paid  $1.49       Everyone  Personalization  July 20, 2018   \n",
      "\n",
      "     Current Ver Android Ver  \n",
      "4453         4.4  4.1 and up  \n",
      "                       App         Category  Rating Reviews    Size Installs  \\\n",
      "4490  Pi Dark [substratum]  PERSONALIZATION     4.5     189  2100.0  10,000+   \n",
      "\n",
      "      Type Price Content Rating           Genres    Last Updated Current Ver  \\\n",
      "4490  Free     0       Everyone  Personalization  March 27, 2018         1.1   \n",
      "\n",
      "     Android Ver  \n",
      "4490  4.1 and up  \n"
     ]
    }
   ],
   "source": [
    "print(data2_new.loc[[4453]])\n",
    "\n",
    "print(data2_new.loc[[4490]])"
   ]
  },
  {
   "cell_type": "markdown",
   "metadata": {},
   "source": [
    "Now Android Ver is 4.1 and up for Category 'PERSONALIZATION'"
   ]
  },
  {
   "cell_type": "markdown",
   "metadata": {},
   "source": [
    "c. Current ver – replace with most common value"
   ]
  },
  {
   "cell_type": "code",
   "execution_count": 114,
   "metadata": {},
   "outputs": [
    {
     "name": "stdout",
     "output_type": "stream",
     "text": [
      "Missing Values :0\n"
     ]
    }
   ],
   "source": [
    "print(f\"Missing Values :{data2_new['Current Ver'].isnull().sum()}\") # Rechecking"
   ]
  },
  {
   "cell_type": "markdown",
   "metadata": {},
   "source": [
    "No missing value is observed"
   ]
  },
  {
   "cell_type": "markdown",
   "metadata": {},
   "source": [
    "# 2. Data clean up – correcting the data types"
   ]
  },
  {
   "cell_type": "markdown",
   "metadata": {},
   "source": [
    "a. Which all variables need to be brought to numeric types?"
   ]
  },
  {
   "cell_type": "code",
   "execution_count": 116,
   "metadata": {},
   "outputs": [
    {
     "name": "stdout",
     "output_type": "stream",
     "text": [
      "<class 'pandas.core.frame.DataFrame'>\n",
      "Int64Index: 9366 entries, 0 to 10840\n",
      "Data columns (total 13 columns):\n",
      " #   Column          Non-Null Count  Dtype  \n",
      "---  ------          --------------  -----  \n",
      " 0   App             9366 non-null   object \n",
      " 1   Category        9366 non-null   object \n",
      " 2   Rating          9366 non-null   float64\n",
      " 3   Reviews         9366 non-null   object \n",
      " 4   Size            9366 non-null   float64\n",
      " 5   Installs        9366 non-null   object \n",
      " 6   Type            9366 non-null   object \n",
      " 7   Price           9366 non-null   object \n",
      " 8   Content Rating  9366 non-null   object \n",
      " 9   Genres          9366 non-null   object \n",
      " 10  Last Updated    9366 non-null   object \n",
      " 11  Current Ver     9366 non-null   object \n",
      " 12  Android Ver     9366 non-null   object \n",
      "dtypes: float64(2), object(11)\n",
      "memory usage: 1.3+ MB\n"
     ]
    }
   ],
   "source": [
    "data2_new.info()"
   ]
  },
  {
   "cell_type": "markdown",
   "metadata": {},
   "source": [
    "#Reviews, Size, Last Updated eed to be brought to numeric types"
   ]
  },
  {
   "cell_type": "code",
   "execution_count": 118,
   "metadata": {},
   "outputs": [],
   "source": [
    "data2_new['Reviews'] = data2_new['Reviews'].astype(int)\n",
    "data2_new['Size'] = data2_new['Size'].astype(int)\n",
    "data2_new['Last Updated'] = data2_new['Last Updated'].astype('datetime64[ns]')"
   ]
  },
  {
   "cell_type": "code",
   "execution_count": 119,
   "metadata": {},
   "outputs": [
    {
     "name": "stdout",
     "output_type": "stream",
     "text": [
      "<class 'pandas.core.frame.DataFrame'>\n",
      "Int64Index: 9366 entries, 0 to 10840\n",
      "Data columns (total 13 columns):\n",
      " #   Column          Non-Null Count  Dtype         \n",
      "---  ------          --------------  -----         \n",
      " 0   App             9366 non-null   object        \n",
      " 1   Category        9366 non-null   object        \n",
      " 2   Rating          9366 non-null   float64       \n",
      " 3   Reviews         9366 non-null   int32         \n",
      " 4   Size            9366 non-null   int32         \n",
      " 5   Installs        9366 non-null   object        \n",
      " 6   Type            9366 non-null   object        \n",
      " 7   Price           9366 non-null   object        \n",
      " 8   Content Rating  9366 non-null   object        \n",
      " 9   Genres          9366 non-null   object        \n",
      " 10  Last Updated    9366 non-null   datetime64[ns]\n",
      " 11  Current Ver     9366 non-null   object        \n",
      " 12  Android Ver     9366 non-null   object        \n",
      "dtypes: datetime64[ns](1), float64(1), int32(2), object(9)\n",
      "memory usage: 1.2+ MB\n"
     ]
    }
   ],
   "source": [
    "data2_new.info()"
   ]
  },
  {
   "cell_type": "markdown",
   "metadata": {},
   "source": [
    "b. Price variable – remove $ sign and convert to float"
   ]
  },
  {
   "cell_type": "code",
   "execution_count": 120,
   "metadata": {},
   "outputs": [
    {
     "name": "stderr",
     "output_type": "stream",
     "text": [
      "<ipython-input-120-f82d791b358b>:1: FutureWarning: The default value of regex will change from True to False in a future version. In addition, single character regular expressions will*not* be treated as literal strings when regex=True.\n",
      "  data2_new['Price'] = data2_new['Price'].str.replace('$','')\n"
     ]
    }
   ],
   "source": [
    "data2_new['Price'] = data2_new['Price'].str.replace('$','')"
   ]
  },
  {
   "cell_type": "code",
   "execution_count": 128,
   "metadata": {},
   "outputs": [
    {
     "data": {
      "text/html": [
       "<div>\n",
       "<style scoped>\n",
       "    .dataframe tbody tr th:only-of-type {\n",
       "        vertical-align: middle;\n",
       "    }\n",
       "\n",
       "    .dataframe tbody tr th {\n",
       "        vertical-align: top;\n",
       "    }\n",
       "\n",
       "    .dataframe thead th {\n",
       "        text-align: right;\n",
       "    }\n",
       "</style>\n",
       "<table border=\"1\" class=\"dataframe\">\n",
       "  <thead>\n",
       "    <tr style=\"text-align: right;\">\n",
       "      <th></th>\n",
       "      <th>App</th>\n",
       "      <th>Category</th>\n",
       "      <th>Rating</th>\n",
       "      <th>Reviews</th>\n",
       "      <th>Size</th>\n",
       "      <th>Installs</th>\n",
       "      <th>Type</th>\n",
       "      <th>Price</th>\n",
       "      <th>Content Rating</th>\n",
       "      <th>Genres</th>\n",
       "      <th>Last Updated</th>\n",
       "      <th>Current Ver</th>\n",
       "      <th>Android Ver</th>\n",
       "    </tr>\n",
       "  </thead>\n",
       "  <tbody>\n",
       "    <tr>\n",
       "      <th>0</th>\n",
       "      <td>Photo Editor &amp; Candy Camera &amp; Grid &amp; ScrapBook</td>\n",
       "      <td>ART_AND_DESIGN</td>\n",
       "      <td>4.1</td>\n",
       "      <td>159</td>\n",
       "      <td>19000</td>\n",
       "      <td>10,000+</td>\n",
       "      <td>Free</td>\n",
       "      <td>0</td>\n",
       "      <td>Everyone</td>\n",
       "      <td>Art &amp; Design</td>\n",
       "      <td>2018-01-07</td>\n",
       "      <td>1.0.0</td>\n",
       "      <td>4.0.3 and up</td>\n",
       "    </tr>\n",
       "    <tr>\n",
       "      <th>1</th>\n",
       "      <td>Coloring book moana</td>\n",
       "      <td>ART_AND_DESIGN</td>\n",
       "      <td>3.9</td>\n",
       "      <td>967</td>\n",
       "      <td>14000</td>\n",
       "      <td>500,000+</td>\n",
       "      <td>Free</td>\n",
       "      <td>0</td>\n",
       "      <td>Everyone</td>\n",
       "      <td>Art &amp; Design;Pretend Play</td>\n",
       "      <td>2018-01-15</td>\n",
       "      <td>2.0.0</td>\n",
       "      <td>4.0.3 and up</td>\n",
       "    </tr>\n",
       "    <tr>\n",
       "      <th>2</th>\n",
       "      <td>U Launcher Lite – FREE Live Cool Themes, Hide ...</td>\n",
       "      <td>ART_AND_DESIGN</td>\n",
       "      <td>4.7</td>\n",
       "      <td>87510</td>\n",
       "      <td>8700</td>\n",
       "      <td>5,000,000+</td>\n",
       "      <td>Free</td>\n",
       "      <td>0</td>\n",
       "      <td>Everyone</td>\n",
       "      <td>Art &amp; Design</td>\n",
       "      <td>2018-08-01</td>\n",
       "      <td>1.2.4</td>\n",
       "      <td>4.0.3 and up</td>\n",
       "    </tr>\n",
       "    <tr>\n",
       "      <th>3</th>\n",
       "      <td>Sketch - Draw &amp; Paint</td>\n",
       "      <td>ART_AND_DESIGN</td>\n",
       "      <td>4.5</td>\n",
       "      <td>215644</td>\n",
       "      <td>25000</td>\n",
       "      <td>50,000,000+</td>\n",
       "      <td>Free</td>\n",
       "      <td>0</td>\n",
       "      <td>Teen</td>\n",
       "      <td>Art &amp; Design</td>\n",
       "      <td>2018-06-08</td>\n",
       "      <td>Varies with device</td>\n",
       "      <td>4.2 and up</td>\n",
       "    </tr>\n",
       "    <tr>\n",
       "      <th>4</th>\n",
       "      <td>Pixel Draw - Number Art Coloring Book</td>\n",
       "      <td>ART_AND_DESIGN</td>\n",
       "      <td>4.3</td>\n",
       "      <td>967</td>\n",
       "      <td>2800</td>\n",
       "      <td>100,000+</td>\n",
       "      <td>Free</td>\n",
       "      <td>0</td>\n",
       "      <td>Everyone</td>\n",
       "      <td>Art &amp; Design;Creativity</td>\n",
       "      <td>2018-06-20</td>\n",
       "      <td>1.1</td>\n",
       "      <td>4.4 and up</td>\n",
       "    </tr>\n",
       "  </tbody>\n",
       "</table>\n",
       "</div>"
      ],
      "text/plain": [
       "                                                 App        Category  Rating  \\\n",
       "0     Photo Editor & Candy Camera & Grid & ScrapBook  ART_AND_DESIGN     4.1   \n",
       "1                                Coloring book moana  ART_AND_DESIGN     3.9   \n",
       "2  U Launcher Lite – FREE Live Cool Themes, Hide ...  ART_AND_DESIGN     4.7   \n",
       "3                              Sketch - Draw & Paint  ART_AND_DESIGN     4.5   \n",
       "4              Pixel Draw - Number Art Coloring Book  ART_AND_DESIGN     4.3   \n",
       "\n",
       "   Reviews   Size     Installs  Type Price Content Rating  \\\n",
       "0      159  19000      10,000+  Free     0       Everyone   \n",
       "1      967  14000     500,000+  Free     0       Everyone   \n",
       "2    87510   8700   5,000,000+  Free     0       Everyone   \n",
       "3   215644  25000  50,000,000+  Free     0           Teen   \n",
       "4      967   2800     100,000+  Free     0       Everyone   \n",
       "\n",
       "                      Genres Last Updated         Current Ver   Android Ver  \n",
       "0               Art & Design   2018-01-07               1.0.0  4.0.3 and up  \n",
       "1  Art & Design;Pretend Play   2018-01-15               2.0.0  4.0.3 and up  \n",
       "2               Art & Design   2018-08-01               1.2.4  4.0.3 and up  \n",
       "3               Art & Design   2018-06-08  Varies with device    4.2 and up  \n",
       "4    Art & Design;Creativity   2018-06-20                 1.1    4.4 and up  "
      ]
     },
     "execution_count": 128,
     "metadata": {},
     "output_type": "execute_result"
    }
   ],
   "source": [
    "data2_new.head()"
   ]
  },
  {
   "cell_type": "code",
   "execution_count": 129,
   "metadata": {},
   "outputs": [],
   "source": [
    "data2_new['Price'] = data2_new['Price'].astype(float)"
   ]
  },
  {
   "cell_type": "code",
   "execution_count": 130,
   "metadata": {},
   "outputs": [
    {
     "name": "stdout",
     "output_type": "stream",
     "text": [
      "<class 'pandas.core.frame.DataFrame'>\n",
      "Int64Index: 9366 entries, 0 to 10840\n",
      "Data columns (total 13 columns):\n",
      " #   Column          Non-Null Count  Dtype         \n",
      "---  ------          --------------  -----         \n",
      " 0   App             9366 non-null   object        \n",
      " 1   Category        9366 non-null   object        \n",
      " 2   Rating          9366 non-null   float64       \n",
      " 3   Reviews         9366 non-null   int32         \n",
      " 4   Size            9366 non-null   int32         \n",
      " 5   Installs        9366 non-null   object        \n",
      " 6   Type            9366 non-null   object        \n",
      " 7   Price           9366 non-null   float64       \n",
      " 8   Content Rating  9366 non-null   object        \n",
      " 9   Genres          9366 non-null   object        \n",
      " 10  Last Updated    9366 non-null   datetime64[ns]\n",
      " 11  Current Ver     9366 non-null   object        \n",
      " 12  Android Ver     9366 non-null   object        \n",
      "dtypes: datetime64[ns](1), float64(2), int32(2), object(8)\n",
      "memory usage: 1.2+ MB\n"
     ]
    }
   ],
   "source": [
    "data2_new.info()"
   ]
  },
  {
   "cell_type": "markdown",
   "metadata": {},
   "source": [
    "Here we converted various colmn attributes in as following data type :\n",
    "\n",
    "column_2   Rating          9366 non-null   float64       \n",
    "column_3   Reviews         9366 non-null   int32         \n",
    "column_4   Size            9366 non-null   int32               \n",
    "column_7   Price           9366 non-null   float64             \n",
    "column_10  Last Updated    9366 non-null   datetime64[ns]"
   ]
  },
  {
   "cell_type": "markdown",
   "metadata": {},
   "source": [
    "c. Installs – remove ‘,’ and ‘+’ sign, convert to integer"
   ]
  },
  {
   "cell_type": "code",
   "execution_count": 134,
   "metadata": {},
   "outputs": [
    {
     "name": "stderr",
     "output_type": "stream",
     "text": [
      "<ipython-input-134-8e38250f2b70>:1: FutureWarning: The default value of regex will change from True to False in a future version. In addition, single character regular expressions will*not* be treated as literal strings when regex=True.\n",
      "  data2_new['Installs'] = data2_new['Installs'].str.replace('+','').str.replace(',', '')\n"
     ]
    }
   ],
   "source": [
    "data2_new['Installs'] = data2_new['Installs'].str.replace('+','').str.replace(',', '')"
   ]
  },
  {
   "cell_type": "code",
   "execution_count": 135,
   "metadata": {},
   "outputs": [],
   "source": [
    "data2_new['Installs'] = data2_new['Installs'].astype(int)"
   ]
  },
  {
   "cell_type": "code",
   "execution_count": 136,
   "metadata": {},
   "outputs": [
    {
     "data": {
      "text/html": [
       "<div>\n",
       "<style scoped>\n",
       "    .dataframe tbody tr th:only-of-type {\n",
       "        vertical-align: middle;\n",
       "    }\n",
       "\n",
       "    .dataframe tbody tr th {\n",
       "        vertical-align: top;\n",
       "    }\n",
       "\n",
       "    .dataframe thead th {\n",
       "        text-align: right;\n",
       "    }\n",
       "</style>\n",
       "<table border=\"1\" class=\"dataframe\">\n",
       "  <thead>\n",
       "    <tr style=\"text-align: right;\">\n",
       "      <th></th>\n",
       "      <th>App</th>\n",
       "      <th>Category</th>\n",
       "      <th>Rating</th>\n",
       "      <th>Reviews</th>\n",
       "      <th>Size</th>\n",
       "      <th>Installs</th>\n",
       "      <th>Type</th>\n",
       "      <th>Price</th>\n",
       "      <th>Content Rating</th>\n",
       "      <th>Genres</th>\n",
       "      <th>Last Updated</th>\n",
       "      <th>Current Ver</th>\n",
       "      <th>Android Ver</th>\n",
       "    </tr>\n",
       "  </thead>\n",
       "  <tbody>\n",
       "    <tr>\n",
       "      <th>0</th>\n",
       "      <td>Photo Editor &amp; Candy Camera &amp; Grid &amp; ScrapBook</td>\n",
       "      <td>ART_AND_DESIGN</td>\n",
       "      <td>4.1</td>\n",
       "      <td>159</td>\n",
       "      <td>19000</td>\n",
       "      <td>10000</td>\n",
       "      <td>Free</td>\n",
       "      <td>0.0</td>\n",
       "      <td>Everyone</td>\n",
       "      <td>Art &amp; Design</td>\n",
       "      <td>2018-01-07</td>\n",
       "      <td>1.0.0</td>\n",
       "      <td>4.0.3 and up</td>\n",
       "    </tr>\n",
       "    <tr>\n",
       "      <th>1</th>\n",
       "      <td>Coloring book moana</td>\n",
       "      <td>ART_AND_DESIGN</td>\n",
       "      <td>3.9</td>\n",
       "      <td>967</td>\n",
       "      <td>14000</td>\n",
       "      <td>500000</td>\n",
       "      <td>Free</td>\n",
       "      <td>0.0</td>\n",
       "      <td>Everyone</td>\n",
       "      <td>Art &amp; Design;Pretend Play</td>\n",
       "      <td>2018-01-15</td>\n",
       "      <td>2.0.0</td>\n",
       "      <td>4.0.3 and up</td>\n",
       "    </tr>\n",
       "  </tbody>\n",
       "</table>\n",
       "</div>"
      ],
      "text/plain": [
       "                                              App        Category  Rating  \\\n",
       "0  Photo Editor & Candy Camera & Grid & ScrapBook  ART_AND_DESIGN     4.1   \n",
       "1                             Coloring book moana  ART_AND_DESIGN     3.9   \n",
       "\n",
       "   Reviews   Size  Installs  Type  Price Content Rating  \\\n",
       "0      159  19000     10000  Free    0.0       Everyone   \n",
       "1      967  14000    500000  Free    0.0       Everyone   \n",
       "\n",
       "                      Genres Last Updated Current Ver   Android Ver  \n",
       "0               Art & Design   2018-01-07       1.0.0  4.0.3 and up  \n",
       "1  Art & Design;Pretend Play   2018-01-15       2.0.0  4.0.3 and up  "
      ]
     },
     "execution_count": 136,
     "metadata": {},
     "output_type": "execute_result"
    }
   ],
   "source": [
    "data2_new.head(2)"
   ]
  },
  {
   "cell_type": "code",
   "execution_count": 137,
   "metadata": {},
   "outputs": [
    {
     "name": "stdout",
     "output_type": "stream",
     "text": [
      "<class 'pandas.core.frame.DataFrame'>\n",
      "Int64Index: 9366 entries, 0 to 10840\n",
      "Data columns (total 13 columns):\n",
      " #   Column          Non-Null Count  Dtype         \n",
      "---  ------          --------------  -----         \n",
      " 0   App             9366 non-null   object        \n",
      " 1   Category        9366 non-null   object        \n",
      " 2   Rating          9366 non-null   float64       \n",
      " 3   Reviews         9366 non-null   int32         \n",
      " 4   Size            9366 non-null   int32         \n",
      " 5   Installs        9366 non-null   int32         \n",
      " 6   Type            9366 non-null   object        \n",
      " 7   Price           9366 non-null   float64       \n",
      " 8   Content Rating  9366 non-null   object        \n",
      " 9   Genres          9366 non-null   object        \n",
      " 10  Last Updated    9366 non-null   datetime64[ns]\n",
      " 11  Current Ver     9366 non-null   object        \n",
      " 12  Android Ver     9366 non-null   object        \n",
      "dtypes: datetime64[ns](1), float64(2), int32(3), object(7)\n",
      "memory usage: 1.1+ MB\n"
     ]
    }
   ],
   "source": [
    "data2_new.info()"
   ]
  },
  {
   "cell_type": "markdown",
   "metadata": {},
   "source": [
    "Successfully removed \"+\" and \",\" sign from colmn Installs and changed datatype to int as per requirement"
   ]
  },
  {
   "cell_type": "markdown",
   "metadata": {},
   "source": [
    "# 3. Sanity checks – check for the following and handle accordingly"
   ]
  },
  {
   "cell_type": "markdown",
   "metadata": {},
   "source": [
    "a. Avg. rating should be between 1 and 5, as only these values are allowed on the play\n",
    "store."
   ]
  },
  {
   "cell_type": "code",
   "execution_count": 138,
   "metadata": {},
   "outputs": [
    {
     "data": {
      "text/plain": [
       "array([4.1, 3.9, 4.7, 4.5, 4.3, 4.4, 3.8, 4.2, 4.6, 3.2, 4. , 4.8, 4.9,\n",
       "       3.6, 3.7, 3.3, 3.4, 3.5, 3.1, 5. , 2.6, 3. , 1.9, 2.5, 2.8, 2.7,\n",
       "       1. , 2.9, 2.3, 2.2, 1.7, 2. , 1.8, 2.4, 1.6, 2.1, 1.4, 1.5, 1.2])"
      ]
     },
     "execution_count": 138,
     "metadata": {},
     "output_type": "execute_result"
    }
   ],
   "source": [
    "pd.unique(data2_new[['Rating']].values.ravel()) #.ravel()-->return 1D array with all the input-array elements"
   ]
  },
  {
   "cell_type": "markdown",
   "metadata": {},
   "source": [
    "Here,\n",
    "Yes all Avg. rating values is in between 1 and 5\n",
    "\n",
    "    i. Are there any such records? Drop if so."
   ]
  },
  {
   "cell_type": "raw",
   "metadata": {},
   "source": [
    " No such record has been oberved."
   ]
  },
  {
   "cell_type": "markdown",
   "metadata": {},
   "source": [
    "b. Reviews should not be more than installs as only those who installed can review the\n",
    "app."
   ]
  },
  {
   "cell_type": "code",
   "execution_count": 140,
   "metadata": {
    "scrolled": true
   },
   "outputs": [
    {
     "data": {
      "text/html": [
       "<div>\n",
       "<style scoped>\n",
       "    .dataframe tbody tr th:only-of-type {\n",
       "        vertical-align: middle;\n",
       "    }\n",
       "\n",
       "    .dataframe tbody tr th {\n",
       "        vertical-align: top;\n",
       "    }\n",
       "\n",
       "    .dataframe thead th {\n",
       "        text-align: right;\n",
       "    }\n",
       "</style>\n",
       "<table border=\"1\" class=\"dataframe\">\n",
       "  <thead>\n",
       "    <tr style=\"text-align: right;\">\n",
       "      <th></th>\n",
       "      <th>App</th>\n",
       "      <th>Category</th>\n",
       "      <th>Rating</th>\n",
       "      <th>Reviews</th>\n",
       "      <th>Size</th>\n",
       "      <th>Installs</th>\n",
       "      <th>Type</th>\n",
       "      <th>Price</th>\n",
       "      <th>Content Rating</th>\n",
       "      <th>Genres</th>\n",
       "      <th>Last Updated</th>\n",
       "      <th>Current Ver</th>\n",
       "      <th>Android Ver</th>\n",
       "    </tr>\n",
       "  </thead>\n",
       "  <tbody>\n",
       "    <tr>\n",
       "      <th>0</th>\n",
       "      <td>Photo Editor &amp; Candy Camera &amp; Grid &amp; ScrapBook</td>\n",
       "      <td>ART_AND_DESIGN</td>\n",
       "      <td>4.1</td>\n",
       "      <td>159</td>\n",
       "      <td>19000</td>\n",
       "      <td>10000</td>\n",
       "      <td>Free</td>\n",
       "      <td>0.0</td>\n",
       "      <td>Everyone</td>\n",
       "      <td>Art &amp; Design</td>\n",
       "      <td>2018-01-07</td>\n",
       "      <td>1.0.0</td>\n",
       "      <td>4.0.3 and up</td>\n",
       "    </tr>\n",
       "    <tr>\n",
       "      <th>1</th>\n",
       "      <td>Coloring book moana</td>\n",
       "      <td>ART_AND_DESIGN</td>\n",
       "      <td>3.9</td>\n",
       "      <td>967</td>\n",
       "      <td>14000</td>\n",
       "      <td>500000</td>\n",
       "      <td>Free</td>\n",
       "      <td>0.0</td>\n",
       "      <td>Everyone</td>\n",
       "      <td>Art &amp; Design;Pretend Play</td>\n",
       "      <td>2018-01-15</td>\n",
       "      <td>2.0.0</td>\n",
       "      <td>4.0.3 and up</td>\n",
       "    </tr>\n",
       "    <tr>\n",
       "      <th>2</th>\n",
       "      <td>U Launcher Lite – FREE Live Cool Themes, Hide ...</td>\n",
       "      <td>ART_AND_DESIGN</td>\n",
       "      <td>4.7</td>\n",
       "      <td>87510</td>\n",
       "      <td>8700</td>\n",
       "      <td>5000000</td>\n",
       "      <td>Free</td>\n",
       "      <td>0.0</td>\n",
       "      <td>Everyone</td>\n",
       "      <td>Art &amp; Design</td>\n",
       "      <td>2018-08-01</td>\n",
       "      <td>1.2.4</td>\n",
       "      <td>4.0.3 and up</td>\n",
       "    </tr>\n",
       "    <tr>\n",
       "      <th>3</th>\n",
       "      <td>Sketch - Draw &amp; Paint</td>\n",
       "      <td>ART_AND_DESIGN</td>\n",
       "      <td>4.5</td>\n",
       "      <td>215644</td>\n",
       "      <td>25000</td>\n",
       "      <td>50000000</td>\n",
       "      <td>Free</td>\n",
       "      <td>0.0</td>\n",
       "      <td>Teen</td>\n",
       "      <td>Art &amp; Design</td>\n",
       "      <td>2018-06-08</td>\n",
       "      <td>Varies with device</td>\n",
       "      <td>4.2 and up</td>\n",
       "    </tr>\n",
       "    <tr>\n",
       "      <th>4</th>\n",
       "      <td>Pixel Draw - Number Art Coloring Book</td>\n",
       "      <td>ART_AND_DESIGN</td>\n",
       "      <td>4.3</td>\n",
       "      <td>967</td>\n",
       "      <td>2800</td>\n",
       "      <td>100000</td>\n",
       "      <td>Free</td>\n",
       "      <td>0.0</td>\n",
       "      <td>Everyone</td>\n",
       "      <td>Art &amp; Design;Creativity</td>\n",
       "      <td>2018-06-20</td>\n",
       "      <td>1.1</td>\n",
       "      <td>4.4 and up</td>\n",
       "    </tr>\n",
       "  </tbody>\n",
       "</table>\n",
       "</div>"
      ],
      "text/plain": [
       "                                                 App        Category  Rating  \\\n",
       "0     Photo Editor & Candy Camera & Grid & ScrapBook  ART_AND_DESIGN     4.1   \n",
       "1                                Coloring book moana  ART_AND_DESIGN     3.9   \n",
       "2  U Launcher Lite – FREE Live Cool Themes, Hide ...  ART_AND_DESIGN     4.7   \n",
       "3                              Sketch - Draw & Paint  ART_AND_DESIGN     4.5   \n",
       "4              Pixel Draw - Number Art Coloring Book  ART_AND_DESIGN     4.3   \n",
       "\n",
       "   Reviews   Size  Installs  Type  Price Content Rating  \\\n",
       "0      159  19000     10000  Free    0.0       Everyone   \n",
       "1      967  14000    500000  Free    0.0       Everyone   \n",
       "2    87510   8700   5000000  Free    0.0       Everyone   \n",
       "3   215644  25000  50000000  Free    0.0           Teen   \n",
       "4      967   2800    100000  Free    0.0       Everyone   \n",
       "\n",
       "                      Genres Last Updated         Current Ver   Android Ver  \n",
       "0               Art & Design   2018-01-07               1.0.0  4.0.3 and up  \n",
       "1  Art & Design;Pretend Play   2018-01-15               2.0.0  4.0.3 and up  \n",
       "2               Art & Design   2018-08-01               1.2.4  4.0.3 and up  \n",
       "3               Art & Design   2018-06-08  Varies with device    4.2 and up  \n",
       "4    Art & Design;Creativity   2018-06-20                 1.1    4.4 and up  "
      ]
     },
     "execution_count": 140,
     "metadata": {},
     "output_type": "execute_result"
    }
   ],
   "source": [
    "df = pd.DataFrame()\n",
    "df = data2_new[data2_new.Reviews <= data2_new.Installs]\n",
    "df.head()"
   ]
  },
  {
   "cell_type": "code",
   "execution_count": 141,
   "metadata": {},
   "outputs": [
    {
     "data": {
      "text/plain": [
       "(9359, 13)"
      ]
     },
     "execution_count": 141,
     "metadata": {},
     "output_type": "execute_result"
    }
   ],
   "source": [
    "df.shape"
   ]
  },
  {
   "cell_type": "markdown",
   "metadata": {},
   "source": [
    "# 4. Identify and handle outliers –"
   ]
  },
  {
   "cell_type": "markdown",
   "metadata": {},
   "source": [
    "### a. Price column"
   ]
  },
  {
   "cell_type": "markdown",
   "metadata": {},
   "source": [
    "i. Make suitable plot to identify outliers in price"
   ]
  },
  {
   "cell_type": "code",
   "execution_count": 145,
   "metadata": {},
   "outputs": [
    {
     "data": {
      "image/png": "[encoded data removed]",
      "text/plain": [
       "<Figure size 720x576 with 1 Axes>"
      ]
     },
     "metadata": {},
     "output_type": "display_data"
    }
   ],
   "source": [
    "\n",
    "plt.subplots(figsize=(10,8))\n",
    "sns.boxplot(df.Price)       #Use Box Plot\n",
    "                    \n",
    "plt.xlabel('Unit Price')\n",
    "plt.title('Unit Price')\n",
    "plt.grid(linestyle='-')\n",
    "plt.show()"
   ]
  },
  {
   "cell_type": "markdown",
   "metadata": {},
   "source": [
    "As using above boxplot we can observe the outliers in price colmn."
   ]
  },
  {
   "cell_type": "markdown",
   "metadata": {},
   "source": [
    "ii. Do you expect apps on the play store to cost $200? Check out these cases"
   ]
  },
  {
   "cell_type": "code",
   "execution_count": 150,
   "metadata": {},
   "outputs": [
    {
     "name": "stdout",
     "output_type": "stream",
     "text": [
      "Empty DataFrame\n",
      "Columns: [App, Category, Rating, Reviews, Size, Installs, Type, Price, Content Rating, Genres, Last Updated, Current Ver, Android Ver]\n",
      "Index: []\n"
     ]
    }
   ],
   "source": [
    "rslt_df = data2_new[data2_new['Price'] == 200]\n",
    "print(rslt_df)"
   ]
  },
  {
   "cell_type": "markdown",
   "metadata": {},
   "source": [
    "in original dataframe there is a row of app $200 but it had rating colmn as blank so when priviously we drop data whose Rating value is null, this data frame gets removed.\n",
    "Hence in new data frame we got Empty DataFrame"
   ]
  },
  {
   "cell_type": "markdown",
   "metadata": {},
   "source": [
    "iii. After dropping the useless records, make the suitable plot again to identify\n",
    "outliers\n",
    "--> To fullfill above contion let's remove whose price value is 0."
   ]
  },
  {
   "cell_type": "code",
   "execution_count": 147,
   "metadata": {},
   "outputs": [
    {
     "data": {
      "image/png": "[encoded data removed]",
      "text/plain": [
       "<Figure size 1440x576 with 1 Axes>"
      ]
     },
     "metadata": {},
     "output_type": "display_data"
    }
   ],
   "source": [
    "usful_df = df[df['Price'] != 0]\n",
    "# usful_df\n",
    "plt.subplots(figsize=(20,8))\n",
    "sns.boxplot(usful_df.Price)\n",
    "\n",
    "plt.xlabel('Unit Price')\n",
    "plt.title('Unit Price')\n",
    "plt.grid()\n",
    "plt.show()"
   ]
  },
  {
   "cell_type": "markdown",
   "metadata": {},
   "source": [
    "iv. Limit data to records with price < $30"
   ]
  },
  {
   "cell_type": "code",
   "execution_count": 153,
   "metadata": {},
   "outputs": [
    {
     "data": {
      "text/html": [
       "<div>\n",
       "<style scoped>\n",
       "    .dataframe tbody tr th:only-of-type {\n",
       "        vertical-align: middle;\n",
       "    }\n",
       "\n",
       "    .dataframe tbody tr th {\n",
       "        vertical-align: top;\n",
       "    }\n",
       "\n",
       "    .dataframe thead th {\n",
       "        text-align: right;\n",
       "    }\n",
       "</style>\n",
       "<table border=\"1\" class=\"dataframe\">\n",
       "  <thead>\n",
       "    <tr style=\"text-align: right;\">\n",
       "      <th></th>\n",
       "      <th>App</th>\n",
       "      <th>Category</th>\n",
       "      <th>Rating</th>\n",
       "      <th>Reviews</th>\n",
       "      <th>Size</th>\n",
       "      <th>Installs</th>\n",
       "      <th>Type</th>\n",
       "      <th>Price</th>\n",
       "      <th>Content Rating</th>\n",
       "      <th>Genres</th>\n",
       "      <th>Last Updated</th>\n",
       "      <th>Current Ver</th>\n",
       "      <th>Android Ver</th>\n",
       "    </tr>\n",
       "  </thead>\n",
       "  <tbody>\n",
       "    <tr>\n",
       "      <th>0</th>\n",
       "      <td>Photo Editor &amp; Candy Camera &amp; Grid &amp; ScrapBook</td>\n",
       "      <td>ART_AND_DESIGN</td>\n",
       "      <td>4.1</td>\n",
       "      <td>159</td>\n",
       "      <td>19000</td>\n",
       "      <td>10000</td>\n",
       "      <td>Free</td>\n",
       "      <td>0.0</td>\n",
       "      <td>Everyone</td>\n",
       "      <td>Art &amp; Design</td>\n",
       "      <td>2018-01-07</td>\n",
       "      <td>1.0.0</td>\n",
       "      <td>4.0.3 and up</td>\n",
       "    </tr>\n",
       "    <tr>\n",
       "      <th>1</th>\n",
       "      <td>Coloring book moana</td>\n",
       "      <td>ART_AND_DESIGN</td>\n",
       "      <td>3.9</td>\n",
       "      <td>967</td>\n",
       "      <td>14000</td>\n",
       "      <td>500000</td>\n",
       "      <td>Free</td>\n",
       "      <td>0.0</td>\n",
       "      <td>Everyone</td>\n",
       "      <td>Art &amp; Design;Pretend Play</td>\n",
       "      <td>2018-01-15</td>\n",
       "      <td>2.0.0</td>\n",
       "      <td>4.0.3 and up</td>\n",
       "    </tr>\n",
       "    <tr>\n",
       "      <th>2</th>\n",
       "      <td>U Launcher Lite – FREE Live Cool Themes, Hide ...</td>\n",
       "      <td>ART_AND_DESIGN</td>\n",
       "      <td>4.7</td>\n",
       "      <td>87510</td>\n",
       "      <td>8700</td>\n",
       "      <td>5000000</td>\n",
       "      <td>Free</td>\n",
       "      <td>0.0</td>\n",
       "      <td>Everyone</td>\n",
       "      <td>Art &amp; Design</td>\n",
       "      <td>2018-08-01</td>\n",
       "      <td>1.2.4</td>\n",
       "      <td>4.0.3 and up</td>\n",
       "    </tr>\n",
       "    <tr>\n",
       "      <th>3</th>\n",
       "      <td>Sketch - Draw &amp; Paint</td>\n",
       "      <td>ART_AND_DESIGN</td>\n",
       "      <td>4.5</td>\n",
       "      <td>215644</td>\n",
       "      <td>25000</td>\n",
       "      <td>50000000</td>\n",
       "      <td>Free</td>\n",
       "      <td>0.0</td>\n",
       "      <td>Teen</td>\n",
       "      <td>Art &amp; Design</td>\n",
       "      <td>2018-06-08</td>\n",
       "      <td>Varies with device</td>\n",
       "      <td>4.2 and up</td>\n",
       "    </tr>\n",
       "    <tr>\n",
       "      <th>4</th>\n",
       "      <td>Pixel Draw - Number Art Coloring Book</td>\n",
       "      <td>ART_AND_DESIGN</td>\n",
       "      <td>4.3</td>\n",
       "      <td>967</td>\n",
       "      <td>2800</td>\n",
       "      <td>100000</td>\n",
       "      <td>Free</td>\n",
       "      <td>0.0</td>\n",
       "      <td>Everyone</td>\n",
       "      <td>Art &amp; Design;Creativity</td>\n",
       "      <td>2018-06-20</td>\n",
       "      <td>1.1</td>\n",
       "      <td>4.4 and up</td>\n",
       "    </tr>\n",
       "  </tbody>\n",
       "</table>\n",
       "</div>"
      ],
      "text/plain": [
       "                                                 App        Category  Rating  \\\n",
       "0     Photo Editor & Candy Camera & Grid & ScrapBook  ART_AND_DESIGN     4.1   \n",
       "1                                Coloring book moana  ART_AND_DESIGN     3.9   \n",
       "2  U Launcher Lite – FREE Live Cool Themes, Hide ...  ART_AND_DESIGN     4.7   \n",
       "3                              Sketch - Draw & Paint  ART_AND_DESIGN     4.5   \n",
       "4              Pixel Draw - Number Art Coloring Book  ART_AND_DESIGN     4.3   \n",
       "\n",
       "   Reviews   Size  Installs  Type  Price Content Rating  \\\n",
       "0      159  19000     10000  Free    0.0       Everyone   \n",
       "1      967  14000    500000  Free    0.0       Everyone   \n",
       "2    87510   8700   5000000  Free    0.0       Everyone   \n",
       "3   215644  25000  50000000  Free    0.0           Teen   \n",
       "4      967   2800    100000  Free    0.0       Everyone   \n",
       "\n",
       "                      Genres Last Updated         Current Ver   Android Ver  \n",
       "0               Art & Design   2018-01-07               1.0.0  4.0.3 and up  \n",
       "1  Art & Design;Pretend Play   2018-01-15               2.0.0  4.0.3 and up  \n",
       "2               Art & Design   2018-08-01               1.2.4  4.0.3 and up  \n",
       "3               Art & Design   2018-06-08  Varies with device    4.2 and up  \n",
       "4    Art & Design;Creativity   2018-06-20                 1.1    4.4 and up  "
      ]
     },
     "execution_count": 153,
     "metadata": {},
     "output_type": "execute_result"
    }
   ],
   "source": [
    "limit_data = df[df['Price'] < 30]\n",
    "limit_data.head()"
   ]
  },
  {
   "cell_type": "code",
   "execution_count": 154,
   "metadata": {},
   "outputs": [
    {
     "data": {
      "text/plain": [
       "(9338, 13)"
      ]
     },
     "execution_count": 154,
     "metadata": {},
     "output_type": "execute_result"
    }
   ],
   "source": [
    "limit_data.shape"
   ]
  },
  {
   "cell_type": "markdown",
   "metadata": {},
   "source": [
    "### b. Reviews column"
   ]
  },
  {
   "cell_type": "markdown",
   "metadata": {},
   "source": [
    "i. Make suitable plot"
   ]
  },
  {
   "cell_type": "code",
   "execution_count": 163,
   "metadata": {},
   "outputs": [
    {
     "name": "stdout",
     "output_type": "stream",
     "text": [
      "Category\n",
      "GAME                   1585419555\n",
      "COMMUNICATION           815461799\n",
      "SOCIAL                  621241071\n",
      "FAMILY                  410223081\n",
      "TOOLS                   273184168\n",
      "PHOTOGRAPHY             213516607\n",
      "SHOPPING                115041033\n",
      "PRODUCTIVITY            114116717\n",
      "VIDEO_PLAYERS           110379692\n",
      "PERSONALIZATION          89345815\n",
      "SPORTS                   70829568\n",
      "TRAVEL_AND_LOCAL         62617772\n",
      "ENTERTAINMENT            59178154\n",
      "NEWS_AND_MAGAZINES       54399899\n",
      "EDUCATION                39595010\n",
      "HEALTH_AND_FITNESS       37893622\n",
      "MAPS_AND_NAVIGATION      30659060\n",
      "BOOKS_AND_REFERENCE      21958660\n",
      "FINANCE                  17550406\n",
      "WEATHER                  14604695\n",
      "BUSINESS                 13954086\n",
      "LIFESTYLE                12871520\n",
      "FOOD_AND_DRINK            8883009\n",
      "DATING                    7291039\n",
      "HOUSE_AND_HOME            3976004\n",
      "COMICS                    3381945\n",
      "ART_AND_DESIGN            1714372\n",
      "MEDICAL                   1585618\n",
      "AUTO_AND_VEHICLES         1163630\n",
      "LIBRARIES_AND_DEMO        1033535\n",
      "PARENTING                  953609\n",
      "BEAUTY                     395133\n",
      "EVENTS                     160590\n",
      "Name: Reviews, dtype: int32\n"
     ]
    },
    {
     "data": {
      "image/png": "[encoded data removed]",
      "text/plain": [
       "<Figure size 1440x864 with 1 Axes>"
      ]
     },
     "metadata": {},
     "output_type": "display_data"
    }
   ],
   "source": [
    "#group by needful columns\n",
    "total=df.groupby('Category')['Reviews'].sum().sort_values()\n",
    "plt.subplots(figsize=(20,12))\n",
    "total.plot(kind='barh', fontsize=14)\n",
    "print(total.sort_values(ascending=False))\n",
    "plt.title(\"Bar Chart\")\n",
    "plt.show()"
   ]
  },
  {
   "cell_type": "markdown",
   "metadata": {},
   "source": [
    "Top 5 Reviewed Apps by Category\n",
    "\n",
    "Category\n",
    "\n",
    "    GAME                   1585419555\n",
    "    COMMUNICATION           815461799\n",
    "    SOCIAL                  621241071\n",
    "    FAMILY                  410223081\n",
    "    TOOLS                   273184168"
   ]
  },
  {
   "cell_type": "markdown",
   "metadata": {},
   "source": [
    "ii. Limit data to apps with < 1 Million reviews"
   ]
  },
  {
   "cell_type": "code",
   "execution_count": 164,
   "metadata": {},
   "outputs": [
    {
     "data": {
      "text/html": [
       "<div>\n",
       "<style scoped>\n",
       "    .dataframe tbody tr th:only-of-type {\n",
       "        vertical-align: middle;\n",
       "    }\n",
       "\n",
       "    .dataframe tbody tr th {\n",
       "        vertical-align: top;\n",
       "    }\n",
       "\n",
       "    .dataframe thead th {\n",
       "        text-align: right;\n",
       "    }\n",
       "</style>\n",
       "<table border=\"1\" class=\"dataframe\">\n",
       "  <thead>\n",
       "    <tr style=\"text-align: right;\">\n",
       "      <th></th>\n",
       "      <th>App</th>\n",
       "      <th>Category</th>\n",
       "      <th>Rating</th>\n",
       "      <th>Reviews</th>\n",
       "      <th>Size</th>\n",
       "      <th>Installs</th>\n",
       "      <th>Type</th>\n",
       "      <th>Price</th>\n",
       "      <th>Content Rating</th>\n",
       "      <th>Genres</th>\n",
       "      <th>Last Updated</th>\n",
       "      <th>Current Ver</th>\n",
       "      <th>Android Ver</th>\n",
       "    </tr>\n",
       "  </thead>\n",
       "  <tbody>\n",
       "    <tr>\n",
       "      <th>0</th>\n",
       "      <td>Photo Editor &amp; Candy Camera &amp; Grid &amp; ScrapBook</td>\n",
       "      <td>ART_AND_DESIGN</td>\n",
       "      <td>4.1</td>\n",
       "      <td>159</td>\n",
       "      <td>19000</td>\n",
       "      <td>10000</td>\n",
       "      <td>Free</td>\n",
       "      <td>0.0</td>\n",
       "      <td>Everyone</td>\n",
       "      <td>Art &amp; Design</td>\n",
       "      <td>2018-01-07</td>\n",
       "      <td>1.0.0</td>\n",
       "      <td>4.0.3 and up</td>\n",
       "    </tr>\n",
       "    <tr>\n",
       "      <th>1</th>\n",
       "      <td>Coloring book moana</td>\n",
       "      <td>ART_AND_DESIGN</td>\n",
       "      <td>3.9</td>\n",
       "      <td>967</td>\n",
       "      <td>14000</td>\n",
       "      <td>500000</td>\n",
       "      <td>Free</td>\n",
       "      <td>0.0</td>\n",
       "      <td>Everyone</td>\n",
       "      <td>Art &amp; Design;Pretend Play</td>\n",
       "      <td>2018-01-15</td>\n",
       "      <td>2.0.0</td>\n",
       "      <td>4.0.3 and up</td>\n",
       "    </tr>\n",
       "  </tbody>\n",
       "</table>\n",
       "</div>"
      ],
      "text/plain": [
       "                                              App        Category  Rating  \\\n",
       "0  Photo Editor & Candy Camera & Grid & ScrapBook  ART_AND_DESIGN     4.1   \n",
       "1                             Coloring book moana  ART_AND_DESIGN     3.9   \n",
       "\n",
       "   Reviews   Size  Installs  Type  Price Content Rating  \\\n",
       "0      159  19000     10000  Free    0.0       Everyone   \n",
       "1      967  14000    500000  Free    0.0       Everyone   \n",
       "\n",
       "                      Genres Last Updated Current Ver   Android Ver  \n",
       "0               Art & Design   2018-01-07       1.0.0  4.0.3 and up  \n",
       "1  Art & Design;Pretend Play   2018-01-15       2.0.0  4.0.3 and up  "
      ]
     },
     "execution_count": 164,
     "metadata": {},
     "output_type": "execute_result"
    }
   ],
   "source": [
    "limit_data_by_review = df[df['Reviews'] < 1000000]\n",
    "limit_data_by_review.head(2)"
   ]
  },
  {
   "cell_type": "code",
   "execution_count": 165,
   "metadata": {},
   "outputs": [
    {
     "data": {
      "text/plain": [
       "(8655, 13)"
      ]
     },
     "execution_count": 165,
     "metadata": {},
     "output_type": "execute_result"
    }
   ],
   "source": [
    "limit_data_by_review.shape"
   ]
  },
  {
   "cell_type": "raw",
   "metadata": {},
   "source": [
    "8655 rows of limited data to apps with LESS THAN 1 Million reviews"
   ]
  },
  {
   "cell_type": "markdown",
   "metadata": {},
   "source": [
    "### c. Installs"
   ]
  },
  {
   "cell_type": "markdown",
   "metadata": {},
   "source": [
    "i. What is the 95th percentile of the installs?"
   ]
  },
  {
   "cell_type": "code",
   "execution_count": 167,
   "metadata": {},
   "outputs": [
    {
     "data": {
      "text/plain": [
       "0        10,000+\n",
       "1       500,000+\n",
       "2     5,000,000+\n",
       "3    50,000,000+\n",
       "4       100,000+\n",
       "Name: Installs, dtype: object"
      ]
     },
     "execution_count": 167,
     "metadata": {},
     "output_type": "execute_result"
    }
   ],
   "source": [
    "data2['Installs'].head()"
   ]
  },
  {
   "cell_type": "code",
   "execution_count": 168,
   "metadata": {},
   "outputs": [
    {
     "name": "stdout",
     "output_type": "stream",
     "text": [
      "100000000.0\n"
     ]
    }
   ],
   "source": [
    "val = df.Installs.quantile(0.95) # 95th percentile\n",
    "print(val)"
   ]
  },
  {
   "cell_type": "markdown",
   "metadata": {},
   "source": [
    "95th percentile of the installs is 100000000.0"
   ]
  },
  {
   "cell_type": "markdown",
   "metadata": {},
   "source": [
    "ii. Drop records having a value more than the 95th percentile"
   ]
  },
  {
   "cell_type": "code",
   "execution_count": 169,
   "metadata": {},
   "outputs": [
    {
     "name": "stdout",
     "output_type": "stream",
     "text": [
      "False\n"
     ]
    }
   ],
   "source": [
    "# Double checking\n",
    "x = df.Installs.quantile() > val\n",
    "print (x)"
   ]
  },
  {
   "cell_type": "markdown",
   "metadata": {},
   "source": [
    "There is no value more than the 95th percentile."
   ]
  },
  {
   "cell_type": "markdown",
   "metadata": {},
   "source": [
    "# Data analysis to answer business questions"
   ]
  },
  {
   "cell_type": "markdown",
   "metadata": {},
   "source": [
    "### 5. What is the distribution of ratings like? (use Seaborn) More skewed towards higher/lower\n",
    "values?"
   ]
  },
  {
   "cell_type": "code",
   "execution_count": 170,
   "metadata": {},
   "outputs": [
    {
     "data": {
      "image/png": "[encoded data removed]",
      "text/plain": [
       "<Figure size 432x288 with 1 Axes>"
      ]
     },
     "metadata": {},
     "output_type": "display_data"
    }
   ],
   "source": [
    "sns.distplot(df['Rating'])\n",
    "plt.show()"
   ]
  },
  {
   "cell_type": "markdown",
   "metadata": {},
   "source": [
    "a. How do you explain this?"
   ]
  },
  {
   "cell_type": "markdown",
   "metadata": {},
   "source": [
    "    A left skewed distribution is sometimes called a negatively skewed distribution because it’s long tail is on the negative direction on a number line.The mean is also on the left of the peak.\n",
    "     Here you can see three measures position on the plot. So, you will find that:\n",
    "    mean less than the mode\n",
    "    median less than the mode\n",
    "    mean less than median\n",
    "\n",
    "    Here the distribution tells that most of the rating is in between 4 to 5."
   ]
  },
  {
   "cell_type": "markdown",
   "metadata": {},
   "source": [
    "b. What is the implication of this on your analysis?"
   ]
  },
  {
   "cell_type": "markdown",
   "metadata": {},
   "source": [
    "    When we consider our real life the distributions are skewed. If there are too much skewness in the data, then many statistical model don’t work.\n",
    "    So in skewed data, the tail region may act as an outlier for the statistical model and we know that outliers adversely affect the model’s performance especially regression-based models.\n",
    "    So there is a necessity to transform the skewed data to close enough to a Gaussian distribution or Normal distribution. This will allow us to try more number of statistical model.\n",
    "\n",
    "    Conclusion:\n",
    "        If we have a skewed data then it may harm our results. So, in order to use a skewed data we have to apply a log transformation over the whole set of values to discover patterns in the data and make it usable for the statistical model."
   ]
  },
  {
   "cell_type": "markdown",
   "metadata": {},
   "source": [
    "### 6. What are the top Content Rating values?"
   ]
  },
  {
   "cell_type": "code",
   "execution_count": 171,
   "metadata": {},
   "outputs": [
    {
     "data": {
      "text/plain": [
       "Everyone           7414\n",
       "Teen               1083\n",
       "Mature 17+          461\n",
       "Everyone 10+        397\n",
       "Adults only 18+       3\n",
       "Unrated               1\n",
       "Name: Content Rating, dtype: int64"
      ]
     },
     "execution_count": 171,
     "metadata": {},
     "output_type": "execute_result"
    }
   ],
   "source": [
    "df['Content Rating'].value_counts()"
   ]
  },
  {
   "cell_type": "markdown",
   "metadata": {},
   "source": [
    "top Content Rating values are :-\n",
    "\n",
    "        Content Rating\n",
    "        \n",
    "    Everyone           7414\n",
    "    Teen               1083\n",
    "    Mature 17+          461\n",
    "    Everyone 10+        397\n",
    "    Adults only 18+       3\n",
    "    Unrated               1"
   ]
  },
  {
   "cell_type": "markdown",
   "metadata": {},
   "source": [
    "    a. Are there any values with very few records?\n",
    "    Yes. 2 of the values have.\n",
    "    'Unrated' Content Rating has value 1 and 'Adults only 18+' has value 3."
   ]
  },
  {
   "cell_type": "markdown",
   "metadata": {},
   "source": [
    "b. If yes, drop those as they won’t help in the analysis"
   ]
  },
  {
   "cell_type": "code",
   "execution_count": 172,
   "metadata": {},
   "outputs": [
    {
     "data": {
      "text/plain": [
       "Everyone        7414\n",
       "Teen            1083\n",
       "Mature 17+       461\n",
       "Everyone 10+     397\n",
       "Name: Content Rating, dtype: int64"
      ]
     },
     "execution_count": 172,
     "metadata": {},
     "output_type": "execute_result"
    }
   ],
   "source": [
    "Adult_rating = df[df['Content Rating'] == 'Adults only 18+'].index.to_list()\n",
    "unrated =df[df['Content Rating'] == 'Unrated'].index.to_list()\n",
    "df.drop(Adult_rating, inplace = True)\n",
    "df.drop(unrated, inplace = True)\n",
    "df['Content Rating'].value_counts()"
   ]
  },
  {
   "cell_type": "code",
   "execution_count": 190,
   "metadata": {},
   "outputs": [
    {
     "data": {
      "application/vnd.plotly.v1+json": {
       "config": {
        "plotlyServerURL": "https://plot.ly"
       },
       "data": [
        {
         "labels": [
          "Everyone",
          "Teen",
          "Mature 17+",
          "Everyone 10+"
         ],
         "title": {
          "text": "Top Content Rating"
         },
         "type": "pie",
         "values": [
          7414,
          1083,
          461,
          397
         ]
        }
       ],
       "layout": {
        "template": {
         "data": {
          "bar": [
           {
            "error_x": {
             "color": "#2a3f5f"
            },
            "error_y": {
             "color": "#2a3f5f"
            },
            "marker": {
             "line": {
              "color": "#E5ECF6",
              "width": 0.5
             }
            },
            "type": "bar"
           }
          ],
          "barpolar": [
           {
            "marker": {
             "line": {
              "color": "#E5ECF6",
              "width": 0.5
             }
            },
            "type": "barpolar"
           }
          ],
          "carpet": [
           {
            "aaxis": {
             "endlinecolor": "#2a3f5f",
             "gridcolor": "white",
             "linecolor": "white",
             "minorgridcolor": "white",
             "startlinecolor": "#2a3f5f"
            },
            "baxis": {
             "endlinecolor": "#2a3f5f",
             "gridcolor": "white",
             "linecolor": "white",
             "minorgridcolor": "white",
             "startlinecolor": "#2a3f5f"
            },
            "type": "carpet"
           }
          ],
          "choropleth": [
           {
            "colorbar": {
             "outlinewidth": 0,
             "ticks": ""
            },
            "type": "choropleth"
           }
          ],
          "contour": [
           {
            "colorbar": {
             "outlinewidth": 0,
             "ticks": ""
            },
            "colorscale": [
             [
              0,
              "#0d0887"
             ],
             [
              0.1111111111111111,
              "#46039f"
             ],
             [
              0.2222222222222222,
              "#7201a8"
             ],
             [
              0.3333333333333333,
              "#9c179e"
             ],
             [
              0.4444444444444444,
              "#bd3786"
             ],
             [
              0.5555555555555556,
              "#d8576b"
             ],
             [
              0.6666666666666666,
              "#ed7953"
             ],
             [
              0.7777777777777778,
              "#fb9f3a"
             ],
             [
              0.8888888888888888,
              "#fdca26"
             ],
             [
              1,
              "#f0f921"
             ]
            ],
            "type": "contour"
           }
          ],
          "contourcarpet": [
           {
            "colorbar": {
             "outlinewidth": 0,
             "ticks": ""
            },
            "type": "contourcarpet"
           }
          ],
          "heatmap": [
           {
            "colorbar": {
             "outlinewidth": 0,
             "ticks": ""
            },
            "colorscale": [
             [
              0,
              "#0d0887"
             ],
             [
              0.1111111111111111,
              "#46039f"
             ],
             [
              0.2222222222222222,
              "#7201a8"
             ],
             [
              0.3333333333333333,
              "#9c179e"
             ],
             [
              0.4444444444444444,
              "#bd3786"
             ],
             [
              0.5555555555555556,
              "#d8576b"
             ],
             [
              0.6666666666666666,
              "#ed7953"
             ],
             [
              0.7777777777777778,
              "#fb9f3a"
             ],
             [
              0.8888888888888888,
              "#fdca26"
             ],
             [
              1,
              "#f0f921"
             ]
            ],
            "type": "heatmap"
           }
          ],
          "heatmapgl": [
           {
            "colorbar": {
             "outlinewidth": 0,
             "ticks": ""
            },
            "colorscale": [
             [
              0,
              "#0d0887"
             ],
             [
              0.1111111111111111,
              "#46039f"
             ],
             [
              0.2222222222222222,
              "#7201a8"
             ],
             [
              0.3333333333333333,
              "#9c179e"
             ],
             [
              0.4444444444444444,
              "#bd3786"
             ],
             [
              0.5555555555555556,
              "#d8576b"
             ],
             [
              0.6666666666666666,
              "#ed7953"
             ],
             [
              0.7777777777777778,
              "#fb9f3a"
             ],
             [
              0.8888888888888888,
              "#fdca26"
             ],
             [
              1,
              "#f0f921"
             ]
            ],
            "type": "heatmapgl"
           }
          ],
          "histogram": [
           {
            "marker": {
             "colorbar": {
              "outlinewidth": 0,
              "ticks": ""
             }
            },
            "type": "histogram"
           }
          ],
          "histogram2d": [
           {
            "colorbar": {
             "outlinewidth": 0,
             "ticks": ""
            },
            "colorscale": [
             [
              0,
              "#0d0887"
             ],
             [
              0.1111111111111111,
              "#46039f"
             ],
             [
              0.2222222222222222,
              "#7201a8"
             ],
             [
              0.3333333333333333,
              "#9c179e"
             ],
             [
              0.4444444444444444,
              "#bd3786"
             ],
             [
              0.5555555555555556,
              "#d8576b"
             ],
             [
              0.6666666666666666,
              "#ed7953"
             ],
             [
              0.7777777777777778,
              "#fb9f3a"
             ],
             [
              0.8888888888888888,
              "#fdca26"
             ],
             [
              1,
              "#f0f921"
             ]
            ],
            "type": "histogram2d"
           }
          ],
          "histogram2dcontour": [
           {
            "colorbar": {
             "outlinewidth": 0,
             "ticks": ""
            },
            "colorscale": [
             [
              0,
              "#0d0887"
             ],
             [
              0.1111111111111111,
              "#46039f"
             ],
             [
              0.2222222222222222,
              "#7201a8"
             ],
             [
              0.3333333333333333,
              "#9c179e"
             ],
             [
              0.4444444444444444,
              "#bd3786"
             ],
             [
              0.5555555555555556,
              "#d8576b"
             ],
             [
              0.6666666666666666,
              "#ed7953"
             ],
             [
              0.7777777777777778,
              "#fb9f3a"
             ],
             [
              0.8888888888888888,
              "#fdca26"
             ],
             [
              1,
              "#f0f921"
             ]
            ],
            "type": "histogram2dcontour"
           }
          ],
          "mesh3d": [
           {
            "colorbar": {
             "outlinewidth": 0,
             "ticks": ""
            },
            "type": "mesh3d"
           }
          ],
          "parcoords": [
           {
            "line": {
             "colorbar": {
              "outlinewidth": 0,
              "ticks": ""
             }
            },
            "type": "parcoords"
           }
          ],
          "pie": [
           {
            "automargin": true,
            "type": "pie"
           }
          ],
          "scatter": [
           {
            "marker": {
             "colorbar": {
              "outlinewidth": 0,
              "ticks": ""
             }
            },
            "type": "scatter"
           }
          ],
          "scatter3d": [
           {
            "line": {
             "colorbar": {
              "outlinewidth": 0,
              "ticks": ""
             }
            },
            "marker": {
             "colorbar": {
              "outlinewidth": 0,
              "ticks": ""
             }
            },
            "type": "scatter3d"
           }
          ],
          "scattercarpet": [
           {
            "marker": {
             "colorbar": {
              "outlinewidth": 0,
              "ticks": ""
             }
            },
            "type": "scattercarpet"
           }
          ],
          "scattergeo": [
           {
            "marker": {
             "colorbar": {
              "outlinewidth": 0,
              "ticks": ""
             }
            },
            "type": "scattergeo"
           }
          ],
          "scattergl": [
           {
            "marker": {
             "colorbar": {
              "outlinewidth": 0,
              "ticks": ""
             }
            },
            "type": "scattergl"
           }
          ],
          "scattermapbox": [
           {
            "marker": {
             "colorbar": {
              "outlinewidth": 0,
              "ticks": ""
             }
            },
            "type": "scattermapbox"
           }
          ],
          "scatterpolar": [
           {
            "marker": {
             "colorbar": {
              "outlinewidth": 0,
              "ticks": ""
             }
            },
            "type": "scatterpolar"
           }
          ],
          "scatterpolargl": [
           {
            "marker": {
             "colorbar": {
              "outlinewidth": 0,
              "ticks": ""
             }
            },
            "type": "scatterpolargl"
           }
          ],
          "scatterternary": [
           {
            "marker": {
             "colorbar": {
              "outlinewidth": 0,
              "ticks": ""
             }
            },
            "type": "scatterternary"
           }
          ],
          "surface": [
           {
            "colorbar": {
             "outlinewidth": 0,
             "ticks": ""
            },
            "colorscale": [
             [
              0,
              "#0d0887"
             ],
             [
              0.1111111111111111,
              "#46039f"
             ],
             [
              0.2222222222222222,
              "#7201a8"
             ],
             [
              0.3333333333333333,
              "#9c179e"
             ],
             [
              0.4444444444444444,
              "#bd3786"
             ],
             [
              0.5555555555555556,
              "#d8576b"
             ],
             [
              0.6666666666666666,
              "#ed7953"
             ],
             [
              0.7777777777777778,
              "#fb9f3a"
             ],
             [
              0.8888888888888888,
              "#fdca26"
             ],
             [
              1,
              "#f0f921"
             ]
            ],
            "type": "surface"
           }
          ],
          "table": [
           {
            "cells": {
             "fill": {
              "color": "#EBF0F8"
             },
             "line": {
              "color": "white"
             }
            },
            "header": {
             "fill": {
              "color": "#C8D4E3"
             },
             "line": {
              "color": "white"
             }
            },
            "type": "table"
           }
          ]
         },
         "layout": {
          "annotationdefaults": {
           "arrowcolor": "#2a3f5f",
           "arrowhead": 0,
           "arrowwidth": 1
          },
          "coloraxis": {
           "colorbar": {
            "outlinewidth": 0,
            "ticks": ""
           }
          },
          "colorscale": {
           "diverging": [
            [
             0,
             "#8e0152"
            ],
            [
             0.1,
             "#c51b7d"
            ],
            [
             0.2,
             "#de77ae"
            ],
            [
             0.3,
             "#f1b6da"
            ],
            [
             0.4,
             "#fde0ef"
            ],
            [
             0.5,
             "#f7f7f7"
            ],
            [
             0.6,
             "#e6f5d0"
            ],
            [
             0.7,
             "#b8e186"
            ],
            [
             0.8,
             "#7fbc41"
            ],
            [
             0.9,
             "#4d9221"
            ],
            [
             1,
             "#276419"
            ]
           ],
           "sequential": [
            [
             0,
             "#0d0887"
            ],
            [
             0.1111111111111111,
             "#46039f"
            ],
            [
             0.2222222222222222,
             "#7201a8"
            ],
            [
             0.3333333333333333,
             "#9c179e"
            ],
            [
             0.4444444444444444,
             "#bd3786"
            ],
            [
             0.5555555555555556,
             "#d8576b"
            ],
            [
             0.6666666666666666,
             "#ed7953"
            ],
            [
             0.7777777777777778,
             "#fb9f3a"
            ],
            [
             0.8888888888888888,
             "#fdca26"
            ],
            [
             1,
             "#f0f921"
            ]
           ],
           "sequentialminus": [
            [
             0,
             "#0d0887"
            ],
            [
             0.1111111111111111,
             "#46039f"
            ],
            [
             0.2222222222222222,
             "#7201a8"
            ],
            [
             0.3333333333333333,
             "#9c179e"
            ],
            [
             0.4444444444444444,
             "#bd3786"
            ],
            [
             0.5555555555555556,
             "#d8576b"
            ],
            [
             0.6666666666666666,
             "#ed7953"
            ],
            [
             0.7777777777777778,
             "#fb9f3a"
            ],
            [
             0.8888888888888888,
             "#fdca26"
            ],
            [
             1,
             "#f0f921"
            ]
           ]
          },
          "colorway": [
           "#636efa",
           "#EF553B",
           "#00cc96",
           "#ab63fa",
           "#FFA15A",
           "#19d3f3",
           "#FF6692",
           "#B6E880",
           "#FF97FF",
           "#FECB52"
          ],
          "font": {
           "color": "#2a3f5f"
          },
          "geo": {
           "bgcolor": "white",
           "lakecolor": "white",
           "landcolor": "#E5ECF6",
           "showlakes": true,
           "showland": true,
           "subunitcolor": "white"
          },
          "hoverlabel": {
           "align": "left"
          },
          "hovermode": "closest",
          "mapbox": {
           "style": "light"
          },
          "paper_bgcolor": "white",
          "plot_bgcolor": "#E5ECF6",
          "polar": {
           "angularaxis": {
            "gridcolor": "white",
            "linecolor": "white",
            "ticks": ""
           },
           "bgcolor": "#E5ECF6",
           "radialaxis": {
            "gridcolor": "white",
            "linecolor": "white",
            "ticks": ""
           }
          },
          "scene": {
           "xaxis": {
            "backgroundcolor": "#E5ECF6",
            "gridcolor": "white",
            "gridwidth": 2,
            "linecolor": "white",
            "showbackground": true,
            "ticks": "",
            "zerolinecolor": "white"
           },
           "yaxis": {
            "backgroundcolor": "#E5ECF6",
            "gridcolor": "white",
            "gridwidth": 2,
            "linecolor": "white",
            "showbackground": true,
            "ticks": "",
            "zerolinecolor": "white"
           },
           "zaxis": {
            "backgroundcolor": "#E5ECF6",
            "gridcolor": "white",
            "gridwidth": 2,
            "linecolor": "white",
            "showbackground": true,
            "ticks": "",
            "zerolinecolor": "white"
           }
          },
          "shapedefaults": {
           "line": {
            "color": "#2a3f5f"
           }
          },
          "ternary": {
           "aaxis": {
            "gridcolor": "white",
            "linecolor": "white",
            "ticks": ""
           },
           "baxis": {
            "gridcolor": "white",
            "linecolor": "white",
            "ticks": ""
           },
           "bgcolor": "#E5ECF6",
           "caxis": {
            "gridcolor": "white",
            "linecolor": "white",
            "ticks": ""
           }
          },
          "title": {
           "x": 0.05
          },
          "xaxis": {
           "automargin": true,
           "gridcolor": "white",
           "linecolor": "white",
           "ticks": "",
           "title": {
            "standoff": 15
           },
           "zerolinecolor": "white",
           "zerolinewidth": 2
          },
          "yaxis": {
           "automargin": true,
           "gridcolor": "white",
           "linecolor": "white",
           "ticks": "",
           "title": {
            "standoff": 15
           },
           "zerolinecolor": "white",
           "zerolinewidth": 2
          }
         }
        }
       }
      },
      "text/html": [
       "<div>                            <div id=\"b5d551f6-4212-413b-837b-ded1aab25bf2\" class=\"plotly-graph-div\" style=\"height:525px; width:100%;\"></div>            <script type=\"text/javascript\">                require([\"plotly\"], function(Plotly) {                    window.PLOTLYENV=window.PLOTLYENV || {};                                    if (document.getElementById(\"b5d551f6-4212-413b-837b-ded1aab25bf2\")) {                    Plotly.newPlot(                        \"b5d551f6-4212-413b-837b-ded1aab25bf2\",                        [{\"labels\": [\"Everyone\", \"Teen\", \"Mature 17+\", \"Everyone 10+\"], \"title\": {\"text\": \"Top Content Rating\"}, \"type\": \"pie\", \"values\": [7414, 1083, 461, 397]}],                        {\"template\": {\"data\": {\"bar\": [{\"error_x\": {\"color\": \"#2a3f5f\"}, \"error_y\": {\"color\": \"#2a3f5f\"}, \"marker\": {\"line\": {\"color\": \"#E5ECF6\", \"width\": 0.5}}, \"type\": \"bar\"}], \"barpolar\": [{\"marker\": {\"line\": {\"color\": \"#E5ECF6\", \"width\": 0.5}}, \"type\": \"barpolar\"}], \"carpet\": [{\"aaxis\": {\"endlinecolor\": \"#2a3f5f\", \"gridcolor\": \"white\", \"linecolor\": \"white\", \"minorgridcolor\": \"white\", \"startlinecolor\": \"#2a3f5f\"}, \"baxis\": {\"endlinecolor\": \"#2a3f5f\", \"gridcolor\": \"white\", \"linecolor\": \"white\", \"minorgridcolor\": \"white\", \"startlinecolor\": \"#2a3f5f\"}, \"type\": \"carpet\"}], \"choropleth\": [{\"colorbar\": {\"outlinewidth\": 0, \"ticks\": \"\"}, \"type\": \"choropleth\"}], \"contour\": [{\"colorbar\": {\"outlinewidth\": 0, \"ticks\": \"\"}, \"colorscale\": [[0.0, \"#0d0887\"], [0.1111111111111111, \"#46039f\"], [0.2222222222222222, \"#7201a8\"], [0.3333333333333333, \"#9c179e\"], [0.4444444444444444, \"#bd3786\"], [0.5555555555555556, \"#d8576b\"], [0.6666666666666666, \"#ed7953\"], [0.7777777777777778, \"#fb9f3a\"], [0.8888888888888888, \"#fdca26\"], [1.0, \"#f0f921\"]], \"type\": \"contour\"}], \"contourcarpet\": [{\"colorbar\": {\"outlinewidth\": 0, \"ticks\": \"\"}, \"type\": \"contourcarpet\"}], \"heatmap\": [{\"colorbar\": {\"outlinewidth\": 0, \"ticks\": \"\"}, \"colorscale\": [[0.0, \"#0d0887\"], [0.1111111111111111, \"#46039f\"], [0.2222222222222222, \"#7201a8\"], [0.3333333333333333, \"#9c179e\"], [0.4444444444444444, \"#bd3786\"], [0.5555555555555556, \"#d8576b\"], [0.6666666666666666, \"#ed7953\"], [0.7777777777777778, \"#fb9f3a\"], [0.8888888888888888, \"#fdca26\"], [1.0, \"#f0f921\"]], \"type\": \"heatmap\"}], \"heatmapgl\": [{\"colorbar\": {\"outlinewidth\": 0, \"ticks\": \"\"}, \"colorscale\": [[0.0, \"#0d0887\"], [0.1111111111111111, \"#46039f\"], [0.2222222222222222, \"#7201a8\"], [0.3333333333333333, \"#9c179e\"], [0.4444444444444444, \"#bd3786\"], [0.5555555555555556, \"#d8576b\"], [0.6666666666666666, \"#ed7953\"], [0.7777777777777778, \"#fb9f3a\"], [0.8888888888888888, \"#fdca26\"], [1.0, \"#f0f921\"]], \"type\": \"heatmapgl\"}], \"histogram\": [{\"marker\": {\"colorbar\": {\"outlinewidth\": 0, \"ticks\": \"\"}}, \"type\": \"histogram\"}], \"histogram2d\": [{\"colorbar\": {\"outlinewidth\": 0, \"ticks\": \"\"}, \"colorscale\": [[0.0, \"#0d0887\"], [0.1111111111111111, \"#46039f\"], [0.2222222222222222, \"#7201a8\"], [0.3333333333333333, \"#9c179e\"], [0.4444444444444444, \"#bd3786\"], [0.5555555555555556, \"#d8576b\"], [0.6666666666666666, \"#ed7953\"], [0.7777777777777778, \"#fb9f3a\"], [0.8888888888888888, \"#fdca26\"], [1.0, \"#f0f921\"]], \"type\": \"histogram2d\"}], \"histogram2dcontour\": [{\"colorbar\": {\"outlinewidth\": 0, \"ticks\": \"\"}, \"colorscale\": [[0.0, \"#0d0887\"], [0.1111111111111111, \"#46039f\"], [0.2222222222222222, \"#7201a8\"], [0.3333333333333333, \"#9c179e\"], [0.4444444444444444, \"#bd3786\"], [0.5555555555555556, \"#d8576b\"], [0.6666666666666666, \"#ed7953\"], [0.7777777777777778, \"#fb9f3a\"], [0.8888888888888888, \"#fdca26\"], [1.0, \"#f0f921\"]], \"type\": \"histogram2dcontour\"}], \"mesh3d\": [{\"colorbar\": {\"outlinewidth\": 0, \"ticks\": \"\"}, \"type\": \"mesh3d\"}], \"parcoords\": [{\"line\": {\"colorbar\": {\"outlinewidth\": 0, \"ticks\": \"\"}}, \"type\": \"parcoords\"}], \"pie\": [{\"automargin\": true, \"type\": \"pie\"}], \"scatter\": [{\"marker\": {\"colorbar\": {\"outlinewidth\": 0, \"ticks\": \"\"}}, \"type\": \"scatter\"}], \"scatter3d\": [{\"line\": {\"colorbar\": {\"outlinewidth\": 0, \"ticks\": \"\"}}, \"marker\": {\"colorbar\": {\"outlinewidth\": 0, \"ticks\": \"\"}}, \"type\": \"scatter3d\"}], \"scattercarpet\": [{\"marker\": {\"colorbar\": {\"outlinewidth\": 0, \"ticks\": \"\"}}, \"type\": \"scattercarpet\"}], \"scattergeo\": [{\"marker\": {\"colorbar\": {\"outlinewidth\": 0, \"ticks\": \"\"}}, \"type\": \"scattergeo\"}], \"scattergl\": [{\"marker\": {\"colorbar\": {\"outlinewidth\": 0, \"ticks\": \"\"}}, \"type\": \"scattergl\"}], \"scattermapbox\": [{\"marker\": {\"colorbar\": {\"outlinewidth\": 0, \"ticks\": \"\"}}, \"type\": \"scattermapbox\"}], \"scatterpolar\": [{\"marker\": {\"colorbar\": {\"outlinewidth\": 0, \"ticks\": \"\"}}, \"type\": \"scatterpolar\"}], \"scatterpolargl\": [{\"marker\": {\"colorbar\": {\"outlinewidth\": 0, \"ticks\": \"\"}}, \"type\": \"scatterpolargl\"}], \"scatterternary\": [{\"marker\": {\"colorbar\": {\"outlinewidth\": 0, \"ticks\": \"\"}}, \"type\": \"scatterternary\"}], \"surface\": [{\"colorbar\": {\"outlinewidth\": 0, \"ticks\": \"\"}, \"colorscale\": [[0.0, \"#0d0887\"], [0.1111111111111111, \"#46039f\"], [0.2222222222222222, \"#7201a8\"], [0.3333333333333333, \"#9c179e\"], [0.4444444444444444, \"#bd3786\"], [0.5555555555555556, \"#d8576b\"], [0.6666666666666666, \"#ed7953\"], [0.7777777777777778, \"#fb9f3a\"], [0.8888888888888888, \"#fdca26\"], [1.0, \"#f0f921\"]], \"type\": \"surface\"}], \"table\": [{\"cells\": {\"fill\": {\"color\": \"#EBF0F8\"}, \"line\": {\"color\": \"white\"}}, \"header\": {\"fill\": {\"color\": \"#C8D4E3\"}, \"line\": {\"color\": \"white\"}}, \"type\": \"table\"}]}, \"layout\": {\"annotationdefaults\": {\"arrowcolor\": \"#2a3f5f\", \"arrowhead\": 0, \"arrowwidth\": 1}, \"coloraxis\": {\"colorbar\": {\"outlinewidth\": 0, \"ticks\": \"\"}}, \"colorscale\": {\"diverging\": [[0, \"#8e0152\"], [0.1, \"#c51b7d\"], [0.2, \"#de77ae\"], [0.3, \"#f1b6da\"], [0.4, \"#fde0ef\"], [0.5, \"#f7f7f7\"], [0.6, \"#e6f5d0\"], [0.7, \"#b8e186\"], [0.8, \"#7fbc41\"], [0.9, \"#4d9221\"], [1, \"#276419\"]], \"sequential\": [[0.0, \"#0d0887\"], [0.1111111111111111, \"#46039f\"], [0.2222222222222222, \"#7201a8\"], [0.3333333333333333, \"#9c179e\"], [0.4444444444444444, \"#bd3786\"], [0.5555555555555556, \"#d8576b\"], [0.6666666666666666, \"#ed7953\"], [0.7777777777777778, \"#fb9f3a\"], [0.8888888888888888, \"#fdca26\"], [1.0, \"#f0f921\"]], \"sequentialminus\": [[0.0, \"#0d0887\"], [0.1111111111111111, \"#46039f\"], [0.2222222222222222, \"#7201a8\"], [0.3333333333333333, \"#9c179e\"], [0.4444444444444444, \"#bd3786\"], [0.5555555555555556, \"#d8576b\"], [0.6666666666666666, \"#ed7953\"], [0.7777777777777778, \"#fb9f3a\"], [0.8888888888888888, \"#fdca26\"], [1.0, \"#f0f921\"]]}, \"colorway\": [\"#636efa\", \"#EF553B\", \"#00cc96\", \"#ab63fa\", \"#FFA15A\", \"#19d3f3\", \"#FF6692\", \"#B6E880\", \"#FF97FF\", \"#FECB52\"], \"font\": {\"color\": \"#2a3f5f\"}, \"geo\": {\"bgcolor\": \"white\", \"lakecolor\": \"white\", \"landcolor\": \"#E5ECF6\", \"showlakes\": true, \"showland\": true, \"subunitcolor\": \"white\"}, \"hoverlabel\": {\"align\": \"left\"}, \"hovermode\": \"closest\", \"mapbox\": {\"style\": \"light\"}, \"paper_bgcolor\": \"white\", \"plot_bgcolor\": \"#E5ECF6\", \"polar\": {\"angularaxis\": {\"gridcolor\": \"white\", \"linecolor\": \"white\", \"ticks\": \"\"}, \"bgcolor\": \"#E5ECF6\", \"radialaxis\": {\"gridcolor\": \"white\", \"linecolor\": \"white\", \"ticks\": \"\"}}, \"scene\": {\"xaxis\": {\"backgroundcolor\": \"#E5ECF6\", \"gridcolor\": \"white\", \"gridwidth\": 2, \"linecolor\": \"white\", \"showbackground\": true, \"ticks\": \"\", \"zerolinecolor\": \"white\"}, \"yaxis\": {\"backgroundcolor\": \"#E5ECF6\", \"gridcolor\": \"white\", \"gridwidth\": 2, \"linecolor\": \"white\", \"showbackground\": true, \"ticks\": \"\", \"zerolinecolor\": \"white\"}, \"zaxis\": {\"backgroundcolor\": \"#E5ECF6\", \"gridcolor\": \"white\", \"gridwidth\": 2, \"linecolor\": \"white\", \"showbackground\": true, \"ticks\": \"\", \"zerolinecolor\": \"white\"}}, \"shapedefaults\": {\"line\": {\"color\": \"#2a3f5f\"}}, \"ternary\": {\"aaxis\": {\"gridcolor\": \"white\", \"linecolor\": \"white\", \"ticks\": \"\"}, \"baxis\": {\"gridcolor\": \"white\", \"linecolor\": \"white\", \"ticks\": \"\"}, \"bgcolor\": \"#E5ECF6\", \"caxis\": {\"gridcolor\": \"white\", \"linecolor\": \"white\", \"ticks\": \"\"}}, \"title\": {\"x\": 0.05}, \"xaxis\": {\"automargin\": true, \"gridcolor\": \"white\", \"linecolor\": \"white\", \"ticks\": \"\", \"title\": {\"standoff\": 15}, \"zerolinecolor\": \"white\", \"zerolinewidth\": 2}, \"yaxis\": {\"automargin\": true, \"gridcolor\": \"white\", \"linecolor\": \"white\", \"ticks\": \"\", \"title\": {\"standoff\": 15}, \"zerolinecolor\": \"white\", \"zerolinewidth\": 2}}}},                        {\"responsive\": true}                    ).then(function(){\n",
       "                            \n",
       "var gd = document.getElementById('b5d551f6-4212-413b-837b-ded1aab25bf2');\n",
       "var x = new MutationObserver(function (mutations, observer) {{\n",
       "        var display = window.getComputedStyle(gd).display;\n",
       "        if (!display || display === 'none') {{\n",
       "            console.log([gd, 'removed!']);\n",
       "            Plotly.purge(gd);\n",
       "            observer.disconnect();\n",
       "        }}\n",
       "}});\n",
       "\n",
       "// Listen for the removal of the full notebook cells\n",
       "var notebookContainer = gd.closest('#notebook-container');\n",
       "if (notebookContainer) {{\n",
       "    x.observe(notebookContainer, {childList: true});\n",
       "}}\n",
       "\n",
       "// Listen for the clearing of the current output cell\n",
       "var outputEl = gd.closest('.output');\n",
       "if (outputEl) {{\n",
       "    x.observe(outputEl, {childList: true});\n",
       "}}\n",
       "\n",
       "                        })                };                });            </script>        </div>"
      ]
     },
     "metadata": {},
     "output_type": "display_data"
    }
   ],
   "source": [
    "# Pie Diagram\n",
    "import plotly.graph_objects as go\n",
    "\n",
    "fig = go.Figure(go.Pie(\n",
    "    title = \"Top Content Rating\",\n",
    "    values = [7414,1083,461,397],\n",
    "    labels = ['Everyone','Teen','Mature 17+','Everyone 10+'],\n",
    "))\n",
    "fig.show()"
   ]
  },
  {
   "cell_type": "markdown",
   "metadata": {},
   "source": [
    "### 7. Effect of size on rating"
   ]
  },
  {
   "cell_type": "markdown",
   "metadata": {},
   "source": [
    "a. Make a joinplot to understand the effect of size on rating"
   ]
  },
  {
   "cell_type": "code",
   "execution_count": 192,
   "metadata": {},
   "outputs": [
    {
     "data": {
      "image/png": "[encoded data removed]",
      "text/plain": [
       "<Figure size 432x432 with 3 Axes>"
      ]
     },
     "metadata": {},
     "output_type": "display_data"
    }
   ],
   "source": [
    "sns.jointplot(x=df['Size'],y=df['Rating'],kind='hex',data=df)\n",
    "plt.show()"
   ]
  },
  {
   "cell_type": "markdown",
   "metadata": {},
   "source": [
    "    b. Do you see any patterns?\n",
    "    c. How do you explain the pattern?"
   ]
  },
  {
   "cell_type": "raw",
   "metadata": {},
   "source": [
    "We observed that the maximum data point gather in between Rating 4.0-4.5 and size 0-40000(40 mb).\n",
    "Which means that the application size which is in between 0-40000(40 mb) get good rating on play store"
   ]
  },
  {
   "cell_type": "markdown",
   "metadata": {},
   "source": [
    "### 8. Effect of price on rating"
   ]
  },
  {
   "cell_type": "markdown",
   "metadata": {},
   "source": [
    "a. Make a jointplot (with regression line)"
   ]
  },
  {
   "cell_type": "code",
   "execution_count": 193,
   "metadata": {},
   "outputs": [
    {
     "data": {
      "image/png": "[encoded data removed]",
      "text/plain": [
       "<Figure size 432x432 with 3 Axes>"
      ]
     },
     "metadata": {},
     "output_type": "display_data"
    }
   ],
   "source": [
    "sns.jointplot(x =\"Rating\" , y = \"Price\" ,data = df, kind=\"reg\")\n",
    "plt.show()"
   ]
  },
  {
   "cell_type": "markdown",
   "metadata": {},
   "source": [
    "b. What pattern do you see?"
   ]
  },
  {
   "cell_type": "markdown",
   "metadata": {},
   "source": [
    "Increasing the price makes Rating Increases"
   ]
  },
  {
   "cell_type": "markdown",
   "metadata": {},
   "source": [
    "c. How do you explain the pattern?"
   ]
  },
  {
   "cell_type": "markdown",
   "metadata": {},
   "source": [
    "As we can see, the higher the price higher the rating"
   ]
  },
  {
   "cell_type": "markdown",
   "metadata": {},
   "source": [
    "d. Replot the data, this time with only records with price > 0"
   ]
  },
  {
   "cell_type": "code",
   "execution_count": 194,
   "metadata": {},
   "outputs": [
    {
     "data": {
      "image/png": "[encoded data removed]",
      "text/plain": [
       "<Figure size 432x432 with 3 Axes>"
      ]
     },
     "metadata": {},
     "output_type": "display_data"
    }
   ],
   "source": [
    "Price_greaterthan_zero = df[df['Price'] > 0]\n",
    "sns.jointplot(x =\"Price\" , y = \"Rating\" ,data = Price_greaterthan_zero, kind = \"reg\" )\n",
    "plt.show()"
   ]
  },
  {
   "cell_type": "code",
   "execution_count": 197,
   "metadata": {},
   "outputs": [
    {
     "data": {
      "image/png": "[encoded data removed]",
      "text/plain": [
       "<Figure size 458.125x360 with 1 Axes>"
      ]
     },
     "metadata": {},
     "output_type": "display_data"
    }
   ],
   "source": [
    "sns.lmplot(x='Price', y='Rating', hue ='Content Rating', data=df)\n",
    "plt.show()"
   ]
  },
  {
   "cell_type": "markdown",
   "metadata": {},
   "source": [
    "    e. Does the pattern change?\n",
    "    f. What is your overall inference on the effect of price on the rating"
   ]
  },
  {
   "cell_type": "markdown",
   "metadata": {},
   "source": [
    "    Content Rating \"Mature\" and \"Teen\" are more positively co-related in Content rating than 10+ and everyone"
   ]
  },
  {
   "cell_type": "markdown",
   "metadata": {},
   "source": [
    "###    9. Look at all the numeric interactions together –"
   ]
  },
  {
   "cell_type": "markdown",
   "metadata": {},
   "source": [
    " a. Make a pairplort with the colulmns - 'Reviews', 'Size', 'Rating', 'Price'"
   ]
  },
  {
   "cell_type": "code",
   "execution_count": 198,
   "metadata": {},
   "outputs": [
    {
     "data": {
      "image/png": "[encoded data removed]",
      "text/plain": [
       "<Figure size 720x720 with 20 Axes>"
      ]
     },
     "metadata": {},
     "output_type": "display_data"
    }
   ],
   "source": [
    "sns.pairplot(df,vars=['Rating','Size', 'Reviews', 'Price'])\n",
    "plt.show()"
   ]
  },
  {
   "cell_type": "markdown",
   "metadata": {},
   "source": [
    "This is the basic exploratory analysis to look for any evident patterns or relationships between the features. "
   ]
  },
  {
   "cell_type": "markdown",
   "metadata": {},
   "source": [
    "### 10. Rating vs. Content Rating"
   ]
  },
  {
   "cell_type": "markdown",
   "metadata": {},
   "source": [
    "a. Make a bar plot displaying the rating for each content rating"
   ]
  },
  {
   "cell_type": "code",
   "execution_count": 199,
   "metadata": {},
   "outputs": [
    {
     "data": {
      "image/png": "[encoded data removed]",
      "text/plain": [
       "<Figure size 432x288 with 1 Axes>"
      ]
     },
     "metadata": {},
     "output_type": "display_data"
    }
   ],
   "source": [
    "a = df['Rating'].groupby(df['Content Rating']).median().plot(kind = 'bar')\n",
    "a.set(xlabel ='Rating of content', ylabel = 'Average of Ratings')\n",
    "plt.show()"
   ]
  },
  {
   "cell_type": "markdown",
   "metadata": {},
   "source": [
    "    b. Which metric would you use? Mean? Median? Some other quantile?\n",
    "    \n",
    "    Mean\n",
    "\n",
    "c. Choose the right metric and plot"
   ]
  },
  {
   "cell_type": "code",
   "execution_count": 201,
   "metadata": {},
   "outputs": [
    {
     "data": {
      "image/png": "[encoded data removed]",
      "text/plain": [
       "<Figure size 432x288 with 1 Axes>"
      ]
     },
     "metadata": {},
     "output_type": "display_data"
    }
   ],
   "source": [
    "df.groupby(['Content Rating'])['Rating'].count().plot.bar(color=\"y\")\n",
    "plt.ylabel('Rating')\n",
    "plt.title(\"Bar Chart\")\n",
    "plt.show()"
   ]
  },
  {
   "cell_type": "markdown",
   "metadata": {},
   "source": [
    "### 11. Content rating vs. size vs. rating – 3 variables at a time"
   ]
  },
  {
   "cell_type": "markdown",
   "metadata": {},
   "source": [
    "a. Create 5 buckets (20% records in each) based on Size"
   ]
  },
  {
   "cell_type": "code",
   "execution_count": 202,
   "metadata": {},
   "outputs": [
    {
     "data": {
      "image/png": "[encoded data removed]",
      "text/plain": [
       "<Figure size 432x288 with 1 Axes>"
      ]
     },
     "metadata": {},
     "output_type": "display_data"
    }
   ],
   "source": [
    "#Checking skewness\n",
    "sns.distplot(df[\"Size\"], bins=5)\n",
    "plt.show()"
   ]
  },
  {
   "cell_type": "code",
   "execution_count": 203,
   "metadata": {},
   "outputs": [
    {
     "data": {
      "text/html": [
       "<div>\n",
       "<style scoped>\n",
       "    .dataframe tbody tr th:only-of-type {\n",
       "        vertical-align: middle;\n",
       "    }\n",
       "\n",
       "    .dataframe tbody tr th {\n",
       "        vertical-align: top;\n",
       "    }\n",
       "\n",
       "    .dataframe thead th {\n",
       "        text-align: right;\n",
       "    }\n",
       "</style>\n",
       "<table border=\"1\" class=\"dataframe\">\n",
       "  <thead>\n",
       "    <tr style=\"text-align: right;\">\n",
       "      <th>Content Rating</th>\n",
       "      <th>Everyone</th>\n",
       "      <th>Everyone 10+</th>\n",
       "      <th>Mature 17+</th>\n",
       "      <th>Teen</th>\n",
       "    </tr>\n",
       "    <tr>\n",
       "      <th>Size_Buckets</th>\n",
       "      <th></th>\n",
       "      <th></th>\n",
       "      <th></th>\n",
       "      <th></th>\n",
       "    </tr>\n",
       "  </thead>\n",
       "  <tbody>\n",
       "    <tr>\n",
       "      <th>VERY LOW</th>\n",
       "      <td>4.116056</td>\n",
       "      <td>4.188889</td>\n",
       "      <td>3.951429</td>\n",
       "      <td>4.224490</td>\n",
       "    </tr>\n",
       "    <tr>\n",
       "      <th>LOW</th>\n",
       "      <td>4.161317</td>\n",
       "      <td>4.207143</td>\n",
       "      <td>4.129592</td>\n",
       "      <td>4.209655</td>\n",
       "    </tr>\n",
       "    <tr>\n",
       "      <th>MED</th>\n",
       "      <td>4.242463</td>\n",
       "      <td>4.262602</td>\n",
       "      <td>4.091975</td>\n",
       "      <td>4.205630</td>\n",
       "    </tr>\n",
       "    <tr>\n",
       "      <th>HIGH</th>\n",
       "      <td>4.179122</td>\n",
       "      <td>4.209375</td>\n",
       "      <td>4.168333</td>\n",
       "      <td>4.213158</td>\n",
       "    </tr>\n",
       "    <tr>\n",
       "      <th>VERY HIGH</th>\n",
       "      <td>4.208134</td>\n",
       "      <td>4.287805</td>\n",
       "      <td>4.197170</td>\n",
       "      <td>4.279603</td>\n",
       "    </tr>\n",
       "  </tbody>\n",
       "</table>\n",
       "</div>"
      ],
      "text/plain": [
       "Content Rating  Everyone  Everyone 10+  Mature 17+      Teen\n",
       "Size_Buckets                                                \n",
       "VERY LOW        4.116056      4.188889    3.951429  4.224490\n",
       "LOW             4.161317      4.207143    4.129592  4.209655\n",
       "MED             4.242463      4.262602    4.091975  4.205630\n",
       "HIGH            4.179122      4.209375    4.168333  4.213158\n",
       "VERY HIGH       4.208134      4.287805    4.197170  4.279603"
      ]
     },
     "execution_count": 203,
     "metadata": {},
     "output_type": "execute_result"
    }
   ],
   "source": [
    "bins=[0, 4600, 12000, 21516, 32000, 100000]\n",
    "df['Size_Buckets'] = pd.cut(df['Size'], bins, labels=['VERY LOW','LOW','MED','HIGH','VERY HIGH'])\n",
    "pd.pivot_table(df, values='Rating', index='Size_Buckets', columns='Content Rating')"
   ]
  },
  {
   "cell_type": "markdown",
   "metadata": {},
   "source": [
    "b. By Content Rating vs. Size buckets, get the rating (20th percentile) for each\n",
    "combination"
   ]
  },
  {
   "cell_type": "code",
   "execution_count": 204,
   "metadata": {},
   "outputs": [
    {
     "data": {
      "text/plain": [
       "0.2     5100.0\n",
       "0.4    14000.0\n",
       "0.6    21516.0\n",
       "0.8    34000.0\n",
       "Name: Size, dtype: float64"
      ]
     },
     "execution_count": 204,
     "metadata": {},
     "output_type": "execute_result"
    }
   ],
   "source": [
    "df.Size.quantile([0.2, 0.4,0.6,0.8])"
   ]
  },
  {
   "cell_type": "code",
   "execution_count": 205,
   "metadata": {},
   "outputs": [
    {
     "data": {
      "text/plain": [
       "0.2    3.9\n",
       "0.4    4.2\n",
       "0.6    4.4\n",
       "0.8    4.6\n",
       "Name: Rating, dtype: float64"
      ]
     },
     "execution_count": 205,
     "metadata": {},
     "output_type": "execute_result"
    }
   ],
   "source": [
    "df.Rating.quantile([0.2, 0.4,0.6,0.8])"
   ]
  },
  {
   "cell_type": "markdown",
   "metadata": {},
   "source": [
    "c. Make a heatmap of this\n",
    "\n",
    "i. Annotated"
   ]
  },
  {
   "cell_type": "code",
   "execution_count": 206,
   "metadata": {},
   "outputs": [
    {
     "data": {
      "text/html": [
       "<div>\n",
       "<style scoped>\n",
       "    .dataframe tbody tr th:only-of-type {\n",
       "        vertical-align: middle;\n",
       "    }\n",
       "\n",
       "    .dataframe tbody tr th {\n",
       "        vertical-align: top;\n",
       "    }\n",
       "\n",
       "    .dataframe thead th {\n",
       "        text-align: right;\n",
       "    }\n",
       "</style>\n",
       "<table border=\"1\" class=\"dataframe\">\n",
       "  <thead>\n",
       "    <tr style=\"text-align: right;\">\n",
       "      <th>Content Rating</th>\n",
       "      <th>Everyone</th>\n",
       "      <th>Everyone 10+</th>\n",
       "      <th>Mature 17+</th>\n",
       "      <th>Teen</th>\n",
       "    </tr>\n",
       "    <tr>\n",
       "      <th>Size_Buckets</th>\n",
       "      <th></th>\n",
       "      <th></th>\n",
       "      <th></th>\n",
       "      <th></th>\n",
       "    </tr>\n",
       "  </thead>\n",
       "  <tbody>\n",
       "    <tr>\n",
       "      <th>VERY LOW</th>\n",
       "      <td>3.8</td>\n",
       "      <td>3.84</td>\n",
       "      <td>3.28</td>\n",
       "      <td>3.90</td>\n",
       "    </tr>\n",
       "    <tr>\n",
       "      <th>LOW</th>\n",
       "      <td>3.8</td>\n",
       "      <td>3.94</td>\n",
       "      <td>3.64</td>\n",
       "      <td>3.88</td>\n",
       "    </tr>\n",
       "    <tr>\n",
       "      <th>MED</th>\n",
       "      <td>4.0</td>\n",
       "      <td>4.10</td>\n",
       "      <td>3.90</td>\n",
       "      <td>3.90</td>\n",
       "    </tr>\n",
       "    <tr>\n",
       "      <th>HIGH</th>\n",
       "      <td>3.9</td>\n",
       "      <td>4.00</td>\n",
       "      <td>3.90</td>\n",
       "      <td>4.00</td>\n",
       "    </tr>\n",
       "    <tr>\n",
       "      <th>VERY HIGH</th>\n",
       "      <td>3.9</td>\n",
       "      <td>4.10</td>\n",
       "      <td>4.00</td>\n",
       "      <td>4.00</td>\n",
       "    </tr>\n",
       "  </tbody>\n",
       "</table>\n",
       "</div>"
      ],
      "text/plain": [
       "Content Rating  Everyone  Everyone 10+  Mature 17+  Teen\n",
       "Size_Buckets                                            \n",
       "VERY LOW             3.8          3.84        3.28  3.90\n",
       "LOW                  3.8          3.94        3.64  3.88\n",
       "MED                  4.0          4.10        3.90  3.90\n",
       "HIGH                 3.9          4.00        3.90  4.00\n",
       "VERY HIGH            3.9          4.10        4.00  4.00"
      ]
     },
     "execution_count": 206,
     "metadata": {},
     "output_type": "execute_result"
    }
   ],
   "source": [
    "Size_Buckets =pd.pivot_table(df, values='Rating', index='Size_Buckets', columns='Content Rating', \n",
    "                     aggfunc=lambda x:np.quantile(x,0.2))\n",
    "Size_Buckets"
   ]
  },
  {
   "cell_type": "code",
   "execution_count": 207,
   "metadata": {},
   "outputs": [
    {
     "data": {
      "image/png": "[encoded data removed]",
      "text/plain": [
       "<Figure size 432x288 with 2 Axes>"
      ]
     },
     "metadata": {},
     "output_type": "display_data"
    }
   ],
   "source": [
    "sns.heatmap(Size_Buckets, annot = True)\n",
    "plt.show()"
   ]
  },
  {
   "cell_type": "markdown",
   "metadata": {},
   "source": [
    "ii. Greens color map"
   ]
  },
  {
   "cell_type": "code",
   "execution_count": 208,
   "metadata": {},
   "outputs": [
    {
     "data": {
      "image/png": "[encoded data removed]",
      "text/plain": [
       "<Figure size 432x288 with 2 Axes>"
      ]
     },
     "metadata": {},
     "output_type": "display_data"
    }
   ],
   "source": [
    "sns.heatmap(Size_Buckets, annot=True, cmap='Greens')\n",
    "plt.show()"
   ]
  },
  {
   "cell_type": "markdown",
   "metadata": {},
   "source": [
    "d. What’s your inference? Are lighter apps preferred in all categories? Heavier? Some?"
   ]
  },
  {
   "cell_type": "markdown",
   "metadata": {},
   "source": [
    "My inference is that most of the havier apps seems to be more preferred in the \"Content Ratings\". But, at the same time there is no big variations in it.\n",
    "The only exceptional case is Mature 17+ where low size apps arent preferred to a greater variation."
   ]
  },
  {
   "cell_type": "code",
   "execution_count": null,
   "metadata": {},
   "outputs": [],
   "source": []
  }
 ],
 "metadata": {
  "kernelspec": {
   "display_name": "Python 3 (ipykernel)",
   "language": "python",
   "name": "python3"
  },
  "language_info": {
   "codemirror_mode": {
    "name": "ipython",
    "version": 3
   },
   "file_extension": ".py",
   "mimetype": "text/x-python",
   "name": "python",
   "nbconvert_exporter": "python",
   "pygments_lexer": "ipython3",
   "version": "3.8.5"
  }
 },
 "nbformat": 4,
 "nbformat_minor": 4
}
